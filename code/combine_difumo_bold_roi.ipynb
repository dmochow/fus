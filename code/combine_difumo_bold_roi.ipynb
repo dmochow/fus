{
 "cells": [
  {
   "cell_type": "code",
   "id": "initial_id",
   "metadata": {
    "collapsed": true,
    "ExecuteTime": {
     "end_time": "2025-07-13T22:09:15.919776Z",
     "start_time": "2025-07-13T22:09:15.721683Z"
    }
   },
   "source": [
    "import pandas as pd\n",
    "import os\n",
    "import glob"
   ],
   "outputs": [],
   "execution_count": 1
  },
  {
   "metadata": {},
   "cell_type": "code",
   "outputs": [],
   "execution_count": null,
   "source": [
    "roi_labels = [f\"ROI_{x}\" for x in range(1,1025)] # placeholder until we get atlas\n",
    "roi_columns = [f\"ROI_{roi_id:03d}\" for roi_id in roi_labels]\n",
    "roi_columns.extend([\"subject\", \"session\", \"processing\", \"timepoint\"])\n",
    "roi_df = pd.DataFrame(\n",
    "    columns=roi_columns\n",
    ")\n",
    "\n",
    "## Add metadata\n",
    "#roi_df['subject'] = subject\n",
    "#roi_df['session'] = session\n",
    "#roi_df['processing'] = processing_type\n",
    "#roi_df['timepoint'] = range(len(roi_df))"
   ],
   "id": "7801f413e7908f98"
  },
  {
   "metadata": {
    "ExecuteTime": {
     "end_time": "2025-07-13T22:13:07.453087Z",
     "start_time": "2025-07-13T22:13:07.449126Z"
    }
   },
   "cell_type": "code",
   "source": [
    "roi_data_dir = \"/Users/jacekdmochowski/PROJECTS/fus/data/roi_time_series_difumo\"\n",
    "files = os.listdir(roi_data_dir)\n",
    "csv_files = []\n",
    "for file in files:\n",
    "    if file.endswith(\".csv\"):\n",
    "        csv_files.append(file)\n",
    "\n",
    "print(csv_files)"
   ],
   "id": "e4655221cbd1c3de",
   "outputs": [
    {
     "name": "stdout",
     "output_type": "stream",
     "text": [
      "['roi_timeseries_sub-ADLER_ses-ACTIVE_desc-difumo1024.csv', 'roi_timeseries_sub-GHOSH_ses-ACTIVE_desc-difumo1024.csv', 'roi_timeseries_sub-JAYANTHI_ses-ACTIVE_desc-difumo1024.csv', 'roi_timeseries_sub-ALLAHABI_ses-SHAM_desc-difumo1024.csv', 'roi_timeseries_sub-CABRERA_ses-SHAM_desc-difumo1024.csv', 'roi_timeseries_sub-MACAULEY_ses-ACTIVE_desc-difumo1024.csv', 'roi_timeseries_sub-RYAN_ses-SHAM_desc-difumo1024.csv', 'roi_timeseries_sub-PADILLA_ses-ACTIVE_desc-difumo1024.csv', 'roi_timeseries_sub-MATHAI_ses-SHAM_desc-difumo1024.csv', 'roi_timeseries_sub-PADILLA_ses-SHAM_desc-difumo1024.csv', 'roi_timeseries_sub-SHLAIN_ses-ACTIVE_desc-difumo1024.csv', 'roi_timeseries_sub-BOYER_ses-SHAM_desc-difumo1024.csv', 'roi_timeseries_sub-COACHE_ses-SHAM_desc-difumo1024.csv', 'roi_timeseries_sub-JAYANTHI_ses-SHAM_desc-difumo1024.csv', 'roi_timeseries_sub-RYAN_ses-ACTIVE_desc-difumo1024.csv', 'roi_timeseries_sub-SHLAIN_ses-SHAM_desc-difumo1024.csv', 'roi_timeseries_sub-ADLER_ses-SHAM_desc-difumo1024.csv', 'roi_timeseries_sub-AHMED_ses-SHAM_desc-difumo1024.csv', 'roi_timeseries_sub-RAHMAN_ses-ACTIVE_desc-difumo1024.csv', 'roi_timeseries_sub-RAHMAN_ses-SHAM_desc-difumo1024.csv', 'roi_timeseries_sub-RAMNAUTH_ses-SHAM_desc-difumo1024.csv', 'roi_timeseries_sub-LIN_ses-SHAM_desc-difumo1024.csv', 'roi_timeseries_sub-ALLAHABI_ses-ACTIVE_desc-difumo1024.csv', 'roi_timeseries_sub-GHOSH_ses-SHAM_desc-difumo1024.csv', 'roi_timeseries_sub-RAMNAUTH_ses-ACTIVE_desc-difumo1024.csv', 'roi_timeseries_sub-MATHAI_ses-ACTIVE_desc-difumo1024.csv', 'roi_timeseries_sub-COACHE_ses-ACTIVE_desc-difumo1024.csv', 'roi_timeseries_sub-LIN_ses-ACTIVE_desc-difumo1024.csv', 'roi_timeseries_sub-MACAULEY_ses-SHAM_desc-difumo1024.csv', 'roi_timeseries_sub-CABRERA_ses-ACTIVE_desc-difumo1024.csv', 'roi_timeseries_sub-AHMED_ses-ACTIVE_desc-difumo1024.csv', 'roi_timeseries_sub-BOYER_ses-ACTIVE_desc-difumo1024.csv']\n"
     ]
    }
   ],
   "execution_count": 5
  },
  {
   "metadata": {},
   "cell_type": "code",
   "outputs": [],
   "execution_count": null,
   "source": [
    "# Filter files for this processing type\n",
    "files_subset = processed_files[processed_files['processing'] == processing_type]\n",
    "\n",
    "for _, file_info in files_subset.iterrows():\n",
    "    try:\n",
    "        roi_df = self.process_subject_session(\n",
    "            file_info['subject'],\n",
    "            file_info['session'],\n",
    "            file_info['processing']\n",
    "        )\n",
    "        if roi_df is not None:\n",
    "            all_roi_data.append(roi_df)\n",
    "\n",
    "    except Exception as e:\n",
    "        print(f\"  ERROR: {str(e)}\")\n",
    "        continue\n"
   ],
   "id": "6f0c671c3a316be2"
  }
 ],
 "metadata": {
  "kernelspec": {
   "display_name": "Python 3",
   "language": "python",
   "name": "python3"
  },
  "language_info": {
   "codemirror_mode": {
    "name": "ipython",
    "version": 2
   },
   "file_extension": ".py",
   "mimetype": "text/x-python",
   "name": "python",
   "nbconvert_exporter": "python",
   "pygments_lexer": "ipython2",
   "version": "2.7.6"
  }
 },
 "nbformat": 4,
 "nbformat_minor": 5
}
