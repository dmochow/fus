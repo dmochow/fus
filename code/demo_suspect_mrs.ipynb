{
 "cells": [
  {
   "cell_type": "code",
   "execution_count": 1,
   "metadata": {
    "collapsed": true
   },
   "outputs": [],
   "source": [
    "import suspect\n",
    "import numpy as np\n",
    "from matplotlib import pyplot as plt\n",
    "%matplotlib inline"
   ]
  },
  {
   "cell_type": "code",
   "execution_count": 2,
   "outputs": [],
   "source": [
    "path_to_dcm = '/Users/jacekdmochowski/City College Dropbox/Jacek Dmochowski/sharing/alex/sub-06/WIP_859K_svs_edit_MOD_1_POST/1.3.12.2.1107.5.2.43.166037.2024061716523068801594719.MR.dcm'"
   ],
   "metadata": {
    "collapsed": false
   }
  },
  {
   "cell_type": "code",
   "execution_count": 4,
   "outputs": [
    {
     "ename": "KeyError",
     "evalue": "(0018, 9052)",
     "output_type": "error",
     "traceback": [
      "\u001B[0;31m---------------------------------------------------------------------------\u001B[0m",
      "\u001B[0;31mKeyError\u001B[0m                                  Traceback (most recent call last)",
      "Cell \u001B[0;32mIn[4], line 2\u001B[0m\n\u001B[1;32m      1\u001B[0m \u001B[38;5;66;03m# Load the data\u001B[39;00m\n\u001B[0;32m----> 2\u001B[0m data \u001B[38;5;241m=\u001B[39m \u001B[43msuspect\u001B[49m\u001B[38;5;241;43m.\u001B[39;49m\u001B[43mio\u001B[49m\u001B[38;5;241;43m.\u001B[39;49m\u001B[43mload_dicom\u001B[49m\u001B[43m(\u001B[49m\u001B[43mpath_to_dcm\u001B[49m\u001B[43m)\u001B[49m\n",
      "File \u001B[0;32m~/miniconda3/envs/fus/lib/python3.10/site-packages/suspect/io/dicom.py:26\u001B[0m, in \u001B[0;36mload_dicom\u001B[0;34m(filename)\u001B[0m\n\u001B[1;32m     10\u001B[0m \u001B[38;5;250m\u001B[39m\u001B[38;5;124;03m\"\"\"\u001B[39;00m\n\u001B[1;32m     11\u001B[0m \u001B[38;5;124;03mLoad a file in the DICOM Magnetic Resonance Spectroscopy format\u001B[39;00m\n\u001B[1;32m     12\u001B[0m \u001B[38;5;124;03m(SOP 1.2.840.10008.5.1.4.1.1.4.2)\u001B[39;00m\n\u001B[0;32m   (...)\u001B[0m\n\u001B[1;32m     22\u001B[0m \u001B[38;5;124;03m    The loaded data from the file\u001B[39;00m\n\u001B[1;32m     23\u001B[0m \u001B[38;5;124;03m\"\"\"\u001B[39;00m\n\u001B[1;32m     24\u001B[0m dataset \u001B[38;5;241m=\u001B[39m pydicom\u001B[38;5;241m.\u001B[39mdicomio\u001B[38;5;241m.\u001B[39mread_file(filename)\n\u001B[0;32m---> 26\u001B[0m sw \u001B[38;5;241m=\u001B[39m \u001B[43mdataset\u001B[49m\u001B[43m[\u001B[49m\u001B[38;5;241;43m0x0018\u001B[39;49m\u001B[43m,\u001B[49m\u001B[43m \u001B[49m\u001B[38;5;241;43m0x9052\u001B[39;49m\u001B[43m]\u001B[49m\u001B[38;5;241m.\u001B[39mvalue\n\u001B[1;32m     27\u001B[0m dt \u001B[38;5;241m=\u001B[39m \u001B[38;5;241m1.0\u001B[39m \u001B[38;5;241m/\u001B[39m sw\n\u001B[1;32m     29\u001B[0m f0 \u001B[38;5;241m=\u001B[39m dataset[\u001B[38;5;241m0x0018\u001B[39m, \u001B[38;5;241m0x9098\u001B[39m]\u001B[38;5;241m.\u001B[39mvalue\n",
      "File \u001B[0;32m~/miniconda3/envs/fus/lib/python3.10/site-packages/pydicom/dataset.py:988\u001B[0m, in \u001B[0;36mDataset.__getitem__\u001B[0;34m(self, key)\u001B[0m\n\u001B[1;32m    985\u001B[0m     \u001B[38;5;28;01mexcept\u001B[39;00m \u001B[38;5;167;01mException\u001B[39;00m \u001B[38;5;28;01mas\u001B[39;00m exc:\n\u001B[1;32m    986\u001B[0m         \u001B[38;5;28;01mraise\u001B[39;00m \u001B[38;5;167;01mKeyError\u001B[39;00m(\u001B[38;5;124mf\u001B[39m\u001B[38;5;124m\"\u001B[39m\u001B[38;5;124m'\u001B[39m\u001B[38;5;132;01m{\u001B[39;00mkey\u001B[38;5;132;01m}\u001B[39;00m\u001B[38;5;124m'\u001B[39m\u001B[38;5;124m\"\u001B[39m) \u001B[38;5;28;01mfrom\u001B[39;00m \u001B[38;5;21;01mexc\u001B[39;00m\n\u001B[0;32m--> 988\u001B[0m elem \u001B[38;5;241m=\u001B[39m \u001B[38;5;28;43mself\u001B[39;49m\u001B[38;5;241;43m.\u001B[39;49m\u001B[43m_dict\u001B[49m\u001B[43m[\u001B[49m\u001B[43mtag\u001B[49m\u001B[43m]\u001B[49m\n\u001B[1;32m    990\u001B[0m \u001B[38;5;28;01mif\u001B[39;00m \u001B[38;5;28misinstance\u001B[39m(elem, RawDataElement):\n\u001B[1;32m    991\u001B[0m     \u001B[38;5;66;03m# If a deferred read, then go get the value now\u001B[39;00m\n\u001B[1;32m    992\u001B[0m     \u001B[38;5;28;01mif\u001B[39;00m elem\u001B[38;5;241m.\u001B[39mvalue \u001B[38;5;129;01mis\u001B[39;00m \u001B[38;5;28;01mNone\u001B[39;00m \u001B[38;5;129;01mand\u001B[39;00m elem\u001B[38;5;241m.\u001B[39mlength \u001B[38;5;241m!=\u001B[39m \u001B[38;5;241m0\u001B[39m:\n",
      "\u001B[0;31mKeyError\u001B[0m: (0018, 9052)"
     ]
    }
   ],
   "source": [
    "# Load the data\n",
    "data = suspect.io.load_dicom(path_to_dcm)"
   ],
   "metadata": {
    "collapsed": false
   }
  },
  {
   "cell_type": "code",
   "execution_count": null,
   "outputs": [],
   "source": [],
   "metadata": {
    "collapsed": false
   }
  }
 ],
 "metadata": {
  "kernelspec": {
   "display_name": "Python 3",
   "language": "python",
   "name": "python3"
  },
  "language_info": {
   "codemirror_mode": {
    "name": "ipython",
    "version": 2
   },
   "file_extension": ".py",
   "mimetype": "text/x-python",
   "name": "python",
   "nbconvert_exporter": "python",
   "pygments_lexer": "ipython2",
   "version": "2.7.6"
  }
 },
 "nbformat": 4,
 "nbformat_minor": 0
}
