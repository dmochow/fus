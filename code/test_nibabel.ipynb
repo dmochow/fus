{
 "cells": [
  {
   "cell_type": "code",
   "id": "initial_id",
   "metadata": {
    "collapsed": true,
    "ExecuteTime": {
     "end_time": "2024-10-18T19:38:25.135408Z",
     "start_time": "2024-10-18T19:38:24.967033Z"
    }
   },
   "source": "import nibabel",
   "outputs": [],
   "execution_count": 1
  },
  {
   "metadata": {
    "ExecuteTime": {
     "end_time": "2024-10-18T19:39:00.182654Z",
     "start_time": "2024-10-18T19:39:00.179953Z"
    }
   },
   "cell_type": "code",
   "source": "filename = '/Users/jacekdmochowski/PROJECTS/fus/data/test/1.3.12.2.1107.5.2.43.166037.2024070315353467403071673.MR.dcm'",
   "id": "6cdeb5bcb80dbd36",
   "outputs": [],
   "execution_count": 2
  },
  {
   "metadata": {
    "ExecuteTime": {
     "end_time": "2024-10-18T19:39:04.054406Z",
     "start_time": "2024-10-18T19:39:03.899020Z"
    }
   },
   "cell_type": "code",
   "source": "img = nibabel.load(filename)",
   "id": "c5d5d05f2e3feb7d",
   "outputs": [
    {
     "ename": "ImageFileError",
     "evalue": "Cannot work out file type of \"/Users/jacekdmochowski/PROJECTS/fus/data/test/1.3.12.2.1107.5.2.43.166037.2024070315353467403071673.MR.dcm\"",
     "output_type": "error",
     "traceback": [
      "\u001B[0;31m---------------------------------------------------------------------------\u001B[0m",
      "\u001B[0;31mImageFileError\u001B[0m                            Traceback (most recent call last)",
      "Cell \u001B[0;32mIn[3], line 1\u001B[0m\n\u001B[0;32m----> 1\u001B[0m img \u001B[38;5;241m=\u001B[39m nibabel\u001B[38;5;241m.\u001B[39mload(filename)\n",
      "File \u001B[0;32m/opt/miniconda3/envs/fus/lib/python3.13/site-packages/nibabel/loadsave.py:118\u001B[0m, in \u001B[0;36mload\u001B[0;34m(filename, **kwargs)\u001B[0m\n\u001B[1;32m    115\u001B[0m \u001B[38;5;28;01mif\u001B[39;00m \u001B[38;5;129;01mnot\u001B[39;00m matches:\n\u001B[1;32m    116\u001B[0m     \u001B[38;5;28;01mraise\u001B[39;00m ImageFileError(msg)\n\u001B[0;32m--> 118\u001B[0m \u001B[38;5;28;01mraise\u001B[39;00m ImageFileError(\u001B[38;5;124mf\u001B[39m\u001B[38;5;124m'\u001B[39m\u001B[38;5;124mCannot work out file type of \u001B[39m\u001B[38;5;124m\"\u001B[39m\u001B[38;5;132;01m{\u001B[39;00mfilename\u001B[38;5;132;01m}\u001B[39;00m\u001B[38;5;124m\"\u001B[39m\u001B[38;5;124m'\u001B[39m)\n",
      "\u001B[0;31mImageFileError\u001B[0m: Cannot work out file type of \"/Users/jacekdmochowski/PROJECTS/fus/data/test/1.3.12.2.1107.5.2.43.166037.2024070315353467403071673.MR.dcm\""
     ]
    }
   ],
   "execution_count": 3
  },
  {
   "metadata": {},
   "cell_type": "code",
   "outputs": [],
   "execution_count": null,
   "source": "",
   "id": "d9143332af148444"
  }
 ],
 "metadata": {
  "kernelspec": {
   "display_name": "Python 3",
   "language": "python",
   "name": "python3"
  },
  "language_info": {
   "codemirror_mode": {
    "name": "ipython",
    "version": 2
   },
   "file_extension": ".py",
   "mimetype": "text/x-python",
   "name": "python",
   "nbconvert_exporter": "python",
   "pygments_lexer": "ipython2",
   "version": "2.7.6"
  }
 },
 "nbformat": 4,
 "nbformat_minor": 5
}
