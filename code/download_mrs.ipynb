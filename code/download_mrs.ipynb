{
 "cells": [
  {
   "cell_type": "code",
   "id": "initial_id",
   "metadata": {
    "collapsed": true,
    "jupyter": {
     "outputs_hidden": true
    }
   },
   "source": [
    "import os\n",
    "import glob\n",
    "import flywheel\n",
    "import logging\n",
    "import zipfile\n",
    "import platform\n",
    "import subprocess\n",
    "import shutil"
   ],
   "outputs": [],
   "execution_count": null
  },
  {
   "cell_type": "code",
   "id": "37f0d38d345c5925",
   "metadata": {},
   "source": [
    "#Initialize the logger\n",
    "logging.basicConfig(filename='download_mrs.log', level=logging.INFO)\n",
    "logger = logging.getLogger()"
   ],
   "outputs": [],
   "execution_count": null
  },
  {
   "cell_type": "code",
   "id": "3793bcda1ba83ca6",
   "metadata": {},
   "source": [
    "# Get API Key from local environment variables and initialize the Flywheel client\n",
    "api_key = os.environ.get('API_KEY')\n",
    "fw = flywheel.Client(api_key)"
   ],
   "outputs": [],
   "execution_count": null
  },
  {
   "cell_type": "code",
   "id": "e817b01edb42f728",
   "metadata": {},
   "source": [
    "# Path where the MRS data will be downloaded\n",
    "root_path = ''\n",
    "\n",
    "# Get the Flywheel Project\n",
    "project = fw.lookup('')"
   ],
   "outputs": [],
   "execution_count": null
  },
  {
   "metadata": {},
   "cell_type": "code",
   "source": [
    "def download_all_mrs(root_data):\n",
    "    #Get the group label\n",
    "    group_label = project.group\n",
    "    \n",
    "    #Iterate through all the files in the 'ACTIVE' and 'SHAM' sessions in the project\n",
    "    for subject in project.subjects():\n",
    "        \n",
    "        for session in subject.sessions():\n",
    "            \n",
    "            # Input the session labels with MRS data.\n",
    "            \n",
    "            if session.label == 'ACTIVE' or session.label == 'SHAM': \n",
    "                \n",
    "                for acquisition in session.acquisitions():\n",
    "                    \n",
    "                    acq_label = acquisition.label\n",
    "                    \n",
    "                    #Check if the acquisition label starts with 'mrs'\n",
    "                    \n",
    "                    if acq_label.startswith('mrs'):\n",
    "                        #Create the directory using the Flywheel hierarchy\n",
    "                        path = f'{root_path}/{group_label}/{project.label}/{subject.label}/{session.label}/{acq_label}'\n",
    "                        os.makedirs(path, exist_ok=True)\n",
    "                        \n",
    "                        for file in acquisition.files:\n",
    "                            \n",
    "                            #Find the dicom file in the mrs acquisition\n",
    "                            if file.type == 'dicom':\n",
    "                                \n",
    "                                file_path = f'{path}/{file.name}'\n",
    "                                        \n",
    "                                file_name = f'sub-{subject.label}_ses-{session.label}_acq-{acq_label}'\n",
    "                                \n",
    "                                dcm_path = f'{path}/{file_name}'\n",
    "\n",
    "                                if not os.path.exists(dcm_path):\n",
    "                                    if platform.system() == 'Windows':\n",
    "                                        file_path = file_path.replace('/', '\\\\')\n",
    "                                        dcm_path = dcm_path.replace('/', '\\\\')\n",
    "                                    try:\n",
    "                                        #Download the file from the acquisition.\n",
    "                                        \n",
    "                                        acquisition.download_file(file.name, file_path)\n",
    "                                        \n",
    "                                        # Open the dicom zip file\n",
    "                                        with zipfile.ZipFile(file_path, 'r') as zip_ref:\n",
    "                                            #Extract the contents of the zip file to the path\n",
    "                                            zip_ref.extractall(path)\n",
    "                                            \n",
    "                                        #Delete dicom compressed zip file\n",
    "                                        os.remove(file_path)\n",
    "                                        \n",
    "                                        #Rename the unzipped folder to the new file name\n",
    "                                        unzipped_folder = glob.glob(f'{path}/*')[0]\n",
    "                                        os.rename(unzipped_folder, dcm_path)\n",
    "\n",
    "                                        logger.info(f'Downloaded {file.name} from {acq_label} in {session.label} for {subject.label}')\n",
    "                                        \n",
    "                                        # convert dicoms to nifti\n",
    "                                        subprocess.run([\"spec2nii\", \"dicom\", \"-f\", dcm_path, dcm_path])\n",
    "                                        \n",
    "                                        #Remove the dicoms\n",
    "                                        shutil.rmtree(dcm_path)\n",
    "                                        \n",
    "                                        logger.info(f'Converted dicom into nifti: {file.name} from {acq_label} in {session.label} for {subject.label}')\n",
    "                                        \n",
    "                                    except Exception as e:\n",
    "                                        logger.error(f'Error downloading {file.name} from {acq_label} in {session.label} for {subject.label}. {e}')\n",
    "                                break"
   ],
   "id": "a4bd9c7b6f74267a",
   "outputs": [],
   "execution_count": null
  },
  {
   "metadata": {
    "collapsed": false
   },
   "cell_type": "code",
   "source": "download_all_mrs(root_path)",
   "id": "566838c9c3a6213b",
   "outputs": [],
   "execution_count": null
  }
 ],
 "metadata": {
  "kernelspec": {
   "display_name": "Python 3 (ipykernel)",
   "language": "python",
   "name": "python3"
  },
  "language_info": {
   "codemirror_mode": {
    "name": "ipython",
    "version": 3
   },
   "file_extension": ".py",
   "mimetype": "text/x-python",
   "name": "python",
   "nbconvert_exporter": "python",
   "pygments_lexer": "ipython3",
   "version": "3.8.19"
  }
 },
 "nbformat": 4,
 "nbformat_minor": 5
}
