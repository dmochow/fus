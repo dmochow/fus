{
 "cells": [
  {
   "cell_type": "code",
   "source": [
    "## Installation of the Flywheel SDK\n",
    "# !pip install flywheel-sdk"
   ],
   "metadata": {
    "collapsed": false,
    "pycharm": {
     "is_executing": true
    },
    "ExecuteTime": {
     "end_time": "2024-06-07T13:05:52.330521Z",
     "start_time": "2024-06-07T13:05:52.320705Z"
    }
   },
   "outputs": [],
   "execution_count": 2
  },
  {
   "cell_type": "code",
   "source": [
    "API_KEY = \"cuny-mri.flywheel.io:djE0mwC43qLLZTOw09aNwL7FKMRA7y_mwx7U0negVGflQ0XzSzFvmiSNA\""
   ],
   "metadata": {
    "collapsed": false,
    "ExecuteTime": {
     "end_time": "2024-06-07T13:05:52.837182Z",
     "start_time": "2024-06-07T13:05:52.814062Z"
    }
   },
   "outputs": [],
   "execution_count": 3
  },
  {
   "cell_type": "code",
   "source": [
    "import flywheel\n",
    "fw = flywheel.Client(API_KEY)"
   ],
   "metadata": {
    "collapsed": false,
    "ExecuteTime": {
     "end_time": "2024-06-07T13:05:55.915131Z",
     "start_time": "2024-06-07T13:05:53.441950Z"
    }
   },
   "outputs": [],
   "execution_count": 4
  },
  {
   "cell_type": "code",
   "source": [
    "# Get the project\n",
    "project = fw.projects.find_first('label=FUS')"
   ],
   "metadata": {
    "collapsed": false,
    "ExecuteTime": {
     "end_time": "2024-06-07T13:05:56.029421Z",
     "start_time": "2024-06-07T13:05:55.919449Z"
    }
   },
   "outputs": [],
   "execution_count": 5
  },
  {
   "metadata": {
    "ExecuteTime": {
     "end_time": "2024-06-07T13:06:01.991391Z",
     "start_time": "2024-06-07T13:06:01.736805Z"
    }
   },
   "cell_type": "code",
   "source": [
    "# list the sessions\n",
    "sessions = project.sessions()"
   ],
   "outputs": [],
   "execution_count": 6
  },
  {
   "cell_type": "code",
   "source": [
    "# Get the most recent session\n",
    "session = sessions[-1]"
   ],
   "metadata": {
    "collapsed": false,
    "ExecuteTime": {
     "end_time": "2024-06-07T13:06:02.164834Z",
     "start_time": "2024-06-07T13:06:02.148802Z"
    }
   },
   "outputs": [],
   "execution_count": 7
  },
  {
   "cell_type": "code",
   "source": [
    "# Get the acquisitions\n",
    "acquisitions = session.acquisitions()"
   ],
   "metadata": {
    "collapsed": false,
    "ExecuteTime": {
     "end_time": "2024-06-07T13:06:04.821837Z",
     "start_time": "2024-06-07T13:06:02.728683Z"
    }
   },
   "outputs": [],
   "execution_count": 8
  },
  {
   "cell_type": "code",
   "source": [
    "acquisitions[0].files\n",
    "# Fetch the acquisition\n",
    "#acquisition = fw.get_acquisition(fw.acquisitions.find_first())\n",
    "\n",
    "# Get zip file info\n",
    "#zip_info = acquisitions.get_acquisition_file_zip_info('6349bcd39a26a239ff8fa4d5', '1.3.12.2.1107.5.2.43.166037.2022101415453511757218637.0.0.0.dicom.zip')\n",
    "\n",
    "# Print the zip info\n",
    "#print(zip_info)"
   ],
   "metadata": {
    "collapsed": false,
    "ExecuteTime": {
     "end_time": "2024-06-05T18:24:28.485687Z",
     "start_time": "2024-06-05T18:24:28.448638Z"
    }
   },
   "outputs": [
    {
     "data": {
      "text/plain": [
       "[{'classification': {'Intent': ['Localizer'], 'Measurement': ['T2']},\n",
       "  'client_hash': None,\n",
       "  'copy_of': None,\n",
       "  'created': datetime.datetime(2024, 5, 17, 20, 19, 54, 34000, tzinfo=tzutc()),\n",
       "  'deid_log_id': None,\n",
       "  'deid_log_skip_reason': None,\n",
       "  'deleted': None,\n",
       "  'file_id': '6647bbeabad054029746a2b1',\n",
       "  'gear_info': None,\n",
       "  'hash': None,\n",
       "  'id': 'c35d7b6f-7c0c-4be2-96c4-6c7d98e1b1d6',\n",
       "  'info': {},\n",
       "  'info_exists': True,\n",
       "  'mimetype': 'application/zip',\n",
       "  'modality': 'MR',\n",
       "  'modified': datetime.datetime(2024, 5, 17, 20, 20, 0, 9000, tzinfo=tzutc()),\n",
       "  'name': '1.3.12.2.1107.5.2.43.166037.2024051716194950077340271.0.0.0.dicom.zip',\n",
       "  'origin': {'id': '62ab82abe108152f486ec9d4',\n",
       "             'type': <OriginType.DEVICE: 'device'>},\n",
       "  'original_copy_of': None,\n",
       "  'parent_ref': {'id': '6647bbe9bad054029746a2b0', 'type': 'acquisition'},\n",
       "  'parents': {'acquisition': '6647bbe9bad054029746a2b0',\n",
       "              'analysis': None,\n",
       "              'group': 'jacek',\n",
       "              'project': '654bd882449351a672bcafd2',\n",
       "              'session': '6647bbe8bad054029746a2af',\n",
       "              'subject': '6647bbe8bad054029746a2ae'},\n",
       "  'path': 'c3/5d/c35d7b6f-7c0c-4be2-96c4-6c7d98e1b1d6',\n",
       "  'provider_id': '62a26481c745d232caace9df',\n",
       "  'reference': None,\n",
       "  'replaced': None,\n",
       "  'restored_by': None,\n",
       "  'restored_from': None,\n",
       "  'size': 180067,\n",
       "  'tags': [],\n",
       "  'type': 'dicom',\n",
       "  'version': 1,\n",
       "  'virus_scan': None,\n",
       "  'zip_member_count': 3},\n",
       " {'classification': {'Intent': ['Localizer'], 'Measurement': ['T2']},\n",
       "  'client_hash': None,\n",
       "  'copy_of': None,\n",
       "  'created': datetime.datetime(2024, 5, 17, 20, 20, 11, 858000, tzinfo=tzutc()),\n",
       "  'deid_log_id': None,\n",
       "  'deid_log_skip_reason': None,\n",
       "  'deleted': None,\n",
       "  'file_id': '6647bbf998432e4a22374850',\n",
       "  'gear_info': {'id': '62a26ea2cf4d87af0d91e85d',\n",
       "                'name': 'dcm2niix',\n",
       "                'version': '1.3.3_1.0.20211006'},\n",
       "  'hash': None,\n",
       "  'id': '6415a894-8050-4f9d-aa0e-70b856df3b72',\n",
       "  'info': {},\n",
       "  'info_exists': True,\n",
       "  'mimetype': 'application/json',\n",
       "  'modality': 'MR',\n",
       "  'modified': datetime.datetime(2024, 5, 17, 20, 20, 11, 858000, tzinfo=tzutc()),\n",
       "  'name': '1_3_12_2_1107_5_2_43_166037_2024051716194950077340271_0_0_0_i00001.json',\n",
       "  'origin': {'id': '6647bbefd9213f8c13469a59', 'type': <OriginType.JOB: 'job'>},\n",
       "  'original_copy_of': None,\n",
       "  'parent_ref': {'id': '6647bbe9bad054029746a2b0', 'type': 'acquisition'},\n",
       "  'parents': {'acquisition': '6647bbe9bad054029746a2b0',\n",
       "              'analysis': None,\n",
       "              'group': 'jacek',\n",
       "              'project': '654bd882449351a672bcafd2',\n",
       "              'session': '6647bbe8bad054029746a2af',\n",
       "              'subject': '6647bbe8bad054029746a2ae'},\n",
       "  'path': '64/15/6415a894-8050-4f9d-aa0e-70b856df3b72',\n",
       "  'provider_id': '62a26481c745d232caace9df',\n",
       "  'reference': None,\n",
       "  'replaced': None,\n",
       "  'restored_by': None,\n",
       "  'restored_from': None,\n",
       "  'size': 1684,\n",
       "  'tags': [],\n",
       "  'type': 'source code',\n",
       "  'version': 2,\n",
       "  'virus_scan': None,\n",
       "  'zip_member_count': None},\n",
       " {'classification': {'Intent': ['Localizer'], 'Measurement': ['T2']},\n",
       "  'client_hash': None,\n",
       "  'copy_of': None,\n",
       "  'created': datetime.datetime(2024, 5, 17, 20, 20, 12, 101000, tzinfo=tzutc()),\n",
       "  'deid_log_id': None,\n",
       "  'deid_log_skip_reason': None,\n",
       "  'deleted': None,\n",
       "  'file_id': '6647bbf998432e4a22374851',\n",
       "  'gear_info': {'id': '62a26ea2cf4d87af0d91e85d',\n",
       "                'name': 'dcm2niix',\n",
       "                'version': '1.3.3_1.0.20211006'},\n",
       "  'hash': None,\n",
       "  'id': '97938212-3dfd-4fe1-9c16-e67c0bd0b95a',\n",
       "  'info': {},\n",
       "  'info_exists': True,\n",
       "  'mimetype': 'application/octet-stream',\n",
       "  'modality': 'MR',\n",
       "  'modified': datetime.datetime(2024, 5, 17, 20, 20, 12, 101000, tzinfo=tzutc()),\n",
       "  'name': '1_3_12_2_1107_5_2_43_166037_2024051716194950077340271_0_0_0_i00001.nii.gz',\n",
       "  'origin': {'id': '6647bbefd9213f8c13469a59', 'type': <OriginType.JOB: 'job'>},\n",
       "  'original_copy_of': None,\n",
       "  'parent_ref': {'id': '6647bbe9bad054029746a2b0', 'type': 'acquisition'},\n",
       "  'parents': {'acquisition': '6647bbe9bad054029746a2b0',\n",
       "              'analysis': None,\n",
       "              'group': 'jacek',\n",
       "              'project': '654bd882449351a672bcafd2',\n",
       "              'session': '6647bbe8bad054029746a2af',\n",
       "              'subject': '6647bbe8bad054029746a2ae'},\n",
       "  'path': '97/93/97938212-3dfd-4fe1-9c16-e67c0bd0b95a',\n",
       "  'provider_id': '62a26481c745d232caace9df',\n",
       "  'reference': None,\n",
       "  'replaced': None,\n",
       "  'restored_by': None,\n",
       "  'restored_from': None,\n",
       "  'size': 46761,\n",
       "  'tags': [],\n",
       "  'type': 'nifti',\n",
       "  'version': 2,\n",
       "  'virus_scan': None,\n",
       "  'zip_member_count': None},\n",
       " {'classification': {'Intent': ['Localizer'], 'Measurement': ['T2']},\n",
       "  'client_hash': None,\n",
       "  'copy_of': None,\n",
       "  'created': datetime.datetime(2024, 5, 17, 20, 20, 12, 383000, tzinfo=tzutc()),\n",
       "  'deid_log_id': None,\n",
       "  'deid_log_skip_reason': None,\n",
       "  'deleted': None,\n",
       "  'file_id': '6647bbfa98432e4a22374852',\n",
       "  'gear_info': {'id': '62a26ea2cf4d87af0d91e85d',\n",
       "                'name': 'dcm2niix',\n",
       "                'version': '1.3.3_1.0.20211006'},\n",
       "  'hash': None,\n",
       "  'id': 'aee78512-fdac-4f0a-9123-f98e3033c28f',\n",
       "  'info': {},\n",
       "  'info_exists': True,\n",
       "  'mimetype': 'application/json',\n",
       "  'modality': 'MR',\n",
       "  'modified': datetime.datetime(2024, 5, 17, 20, 20, 12, 383000, tzinfo=tzutc()),\n",
       "  'name': '1_3_12_2_1107_5_2_43_166037_2024051716194950077340271_0_0_0_i00002.json',\n",
       "  'origin': {'id': '6647bbefd9213f8c13469a59', 'type': <OriginType.JOB: 'job'>},\n",
       "  'original_copy_of': None,\n",
       "  'parent_ref': {'id': '6647bbe9bad054029746a2b0', 'type': 'acquisition'},\n",
       "  'parents': {'acquisition': '6647bbe9bad054029746a2b0',\n",
       "              'analysis': None,\n",
       "              'group': 'jacek',\n",
       "              'project': '654bd882449351a672bcafd2',\n",
       "              'session': '6647bbe8bad054029746a2af',\n",
       "              'subject': '6647bbe8bad054029746a2ae'},\n",
       "  'path': 'ae/e7/aee78512-fdac-4f0a-9123-f98e3033c28f',\n",
       "  'provider_id': '62a26481c745d232caace9df',\n",
       "  'reference': None,\n",
       "  'replaced': None,\n",
       "  'restored_by': None,\n",
       "  'restored_from': None,\n",
       "  'size': 1684,\n",
       "  'tags': [],\n",
       "  'type': 'source code',\n",
       "  'version': 2,\n",
       "  'virus_scan': None,\n",
       "  'zip_member_count': None},\n",
       " {'classification': {'Intent': ['Localizer'], 'Measurement': ['T2']},\n",
       "  'client_hash': None,\n",
       "  'copy_of': None,\n",
       "  'created': datetime.datetime(2024, 5, 17, 20, 20, 12, 705000, tzinfo=tzutc()),\n",
       "  'deid_log_id': None,\n",
       "  'deid_log_skip_reason': None,\n",
       "  'deleted': None,\n",
       "  'file_id': '6647bbfa98432e4a22374853',\n",
       "  'gear_info': {'id': '62a26ea2cf4d87af0d91e85d',\n",
       "                'name': 'dcm2niix',\n",
       "                'version': '1.3.3_1.0.20211006'},\n",
       "  'hash': None,\n",
       "  'id': '4b70d55c-4779-4eed-9e5e-fdfded133940',\n",
       "  'info': {},\n",
       "  'info_exists': True,\n",
       "  'mimetype': 'application/octet-stream',\n",
       "  'modality': 'MR',\n",
       "  'modified': datetime.datetime(2024, 5, 17, 20, 20, 12, 705000, tzinfo=tzutc()),\n",
       "  'name': '1_3_12_2_1107_5_2_43_166037_2024051716194950077340271_0_0_0_i00002.nii.gz',\n",
       "  'origin': {'id': '6647bbefd9213f8c13469a59', 'type': <OriginType.JOB: 'job'>},\n",
       "  'original_copy_of': None,\n",
       "  'parent_ref': {'id': '6647bbe9bad054029746a2b0', 'type': 'acquisition'},\n",
       "  'parents': {'acquisition': '6647bbe9bad054029746a2b0',\n",
       "              'analysis': None,\n",
       "              'group': 'jacek',\n",
       "              'project': '654bd882449351a672bcafd2',\n",
       "              'session': '6647bbe8bad054029746a2af',\n",
       "              'subject': '6647bbe8bad054029746a2ae'},\n",
       "  'path': '4b/70/4b70d55c-4779-4eed-9e5e-fdfded133940',\n",
       "  'provider_id': '62a26481c745d232caace9df',\n",
       "  'reference': None,\n",
       "  'replaced': None,\n",
       "  'restored_by': None,\n",
       "  'restored_from': None,\n",
       "  'size': 41082,\n",
       "  'tags': [],\n",
       "  'type': 'nifti',\n",
       "  'version': 2,\n",
       "  'virus_scan': None,\n",
       "  'zip_member_count': None},\n",
       " {'classification': {'Intent': ['Localizer'], 'Measurement': ['T2']},\n",
       "  'client_hash': None,\n",
       "  'copy_of': None,\n",
       "  'created': datetime.datetime(2024, 5, 17, 20, 20, 13, 47000, tzinfo=tzutc()),\n",
       "  'deid_log_id': None,\n",
       "  'deid_log_skip_reason': None,\n",
       "  'deleted': None,\n",
       "  'file_id': '6647bbfb98432e4a22374854',\n",
       "  'gear_info': {'id': '62a26ea2cf4d87af0d91e85d',\n",
       "                'name': 'dcm2niix',\n",
       "                'version': '1.3.3_1.0.20211006'},\n",
       "  'hash': None,\n",
       "  'id': 'ffce3efc-ed3c-4375-b2fa-f1e121293f6d',\n",
       "  'info': {},\n",
       "  'info_exists': True,\n",
       "  'mimetype': 'application/json',\n",
       "  'modality': 'MR',\n",
       "  'modified': datetime.datetime(2024, 5, 17, 20, 20, 13, 47000, tzinfo=tzutc()),\n",
       "  'name': '1_3_12_2_1107_5_2_43_166037_2024051716194950077340271_0_0_0_i00003.json',\n",
       "  'origin': {'id': '6647bbefd9213f8c13469a59', 'type': <OriginType.JOB: 'job'>},\n",
       "  'original_copy_of': None,\n",
       "  'parent_ref': {'id': '6647bbe9bad054029746a2b0', 'type': 'acquisition'},\n",
       "  'parents': {'acquisition': '6647bbe9bad054029746a2b0',\n",
       "              'analysis': None,\n",
       "              'group': 'jacek',\n",
       "              'project': '654bd882449351a672bcafd2',\n",
       "              'session': '6647bbe8bad054029746a2af',\n",
       "              'subject': '6647bbe8bad054029746a2ae'},\n",
       "  'path': 'ff/ce/ffce3efc-ed3c-4375-b2fa-f1e121293f6d',\n",
       "  'provider_id': '62a26481c745d232caace9df',\n",
       "  'reference': None,\n",
       "  'replaced': None,\n",
       "  'restored_by': None,\n",
       "  'restored_from': None,\n",
       "  'size': 1684,\n",
       "  'tags': [],\n",
       "  'type': 'source code',\n",
       "  'version': 2,\n",
       "  'virus_scan': None,\n",
       "  'zip_member_count': None},\n",
       " {'classification': {'Intent': ['Localizer'], 'Measurement': ['T2']},\n",
       "  'client_hash': None,\n",
       "  'copy_of': None,\n",
       "  'created': datetime.datetime(2024, 5, 17, 20, 20, 13, 327000, tzinfo=tzutc()),\n",
       "  'deid_log_id': None,\n",
       "  'deid_log_skip_reason': None,\n",
       "  'deleted': None,\n",
       "  'file_id': '6647bbfb98432e4a22374855',\n",
       "  'gear_info': {'id': '62a26ea2cf4d87af0d91e85d',\n",
       "                'name': 'dcm2niix',\n",
       "                'version': '1.3.3_1.0.20211006'},\n",
       "  'hash': None,\n",
       "  'id': '70434c3f-4576-4531-be21-77be92757360',\n",
       "  'info': {},\n",
       "  'info_exists': True,\n",
       "  'mimetype': 'application/octet-stream',\n",
       "  'modality': 'MR',\n",
       "  'modified': datetime.datetime(2024, 5, 17, 20, 20, 13, 327000, tzinfo=tzutc()),\n",
       "  'name': '1_3_12_2_1107_5_2_43_166037_2024051716194950077340271_0_0_0_i00003.nii.gz',\n",
       "  'origin': {'id': '6647bbefd9213f8c13469a59', 'type': <OriginType.JOB: 'job'>},\n",
       "  'original_copy_of': None,\n",
       "  'parent_ref': {'id': '6647bbe9bad054029746a2b0', 'type': 'acquisition'},\n",
       "  'parents': {'acquisition': '6647bbe9bad054029746a2b0',\n",
       "              'analysis': None,\n",
       "              'group': 'jacek',\n",
       "              'project': '654bd882449351a672bcafd2',\n",
       "              'session': '6647bbe8bad054029746a2af',\n",
       "              'subject': '6647bbe8bad054029746a2ae'},\n",
       "  'path': '70/43/70434c3f-4576-4531-be21-77be92757360',\n",
       "  'provider_id': '62a26481c745d232caace9df',\n",
       "  'reference': None,\n",
       "  'replaced': None,\n",
       "  'restored_by': None,\n",
       "  'restored_from': None,\n",
       "  'size': 32981,\n",
       "  'tags': [],\n",
       "  'type': 'nifti',\n",
       "  'version': 2,\n",
       "  'virus_scan': None,\n",
       "  'zip_member_count': None}]"
      ]
     },
     "execution_count": 11,
     "metadata": {},
     "output_type": "execute_result"
    }
   ],
   "execution_count": 11
  },
  {
   "metadata": {
    "ExecuteTime": {
     "end_time": "2024-06-05T17:37:56.900288Z",
     "start_time": "2024-06-05T17:37:56.900288Z"
    }
   },
   "cell_type": "code",
   "source": [
    "#from flywheel.api.acquisition_api.AcquisitionApi import download_file_from_acquisition\n",
    "flywheel.api.acquisitions_api.AcquisitionApi.download_file_from_acquisition()\n",
    "#ddownload_file_from_acquisition(acquisition_id, file_name, dest_file, **kwargs)"
   ],
   "outputs": [],
   "execution_count": null
  },
  {
   "cell_type": "code",
   "source": [
    "# find the anatomical acquisition and obtain the recording\n",
    "# find the BOLD acquisition and obtain the recording"
   ],
   "metadata": {
    "collapsed": false
   },
   "outputs": [],
   "execution_count": null
  },
  {
   "metadata": {},
   "cell_type": "code",
   "source": [
    "# Get the acquisition\n",
    "acquisition = acquisitions[0]"
   ],
   "outputs": [],
   "execution_count": null
  },
  {
   "metadata": {},
   "cell_type": "code",
   "source": [
    "# get the first file in the acquisition\n",
    "file = acquisition.files[0]\n",
    "file"
   ],
   "outputs": [],
   "execution_count": null
  },
  {
   "metadata": {},
   "cell_type": "code",
   "source": [
    "# download file to local ma\n",
    "#acquisition.download_file(file.name, file.name)"
   ],
   "outputs": [],
   "execution_count": null
  },
  {
   "metadata": {
    "ExecuteTime": {
     "end_time": "2024-06-07T13:06:11.066049Z",
     "start_time": "2024-06-07T13:06:10.690461Z"
    }
   },
   "cell_type": "code",
   "source": "print(flywheel.finder.Finder.find('created>2024-04-01'))\n",
   "outputs": [
    {
     "ename": "AttributeError",
     "evalue": "'str' object has no attribute '_Finder__find'",
     "output_type": "error",
     "traceback": [
      "\u001B[1;31m---------------------------------------------------------------------------\u001B[0m",
      "\u001B[1;31mAttributeError\u001B[0m                            Traceback (most recent call last)",
      "Cell \u001B[1;32mIn[9], line 1\u001B[0m\n\u001B[1;32m----> 1\u001B[0m \u001B[38;5;28mprint\u001B[39m(\u001B[43mflywheel\u001B[49m\u001B[38;5;241;43m.\u001B[39;49m\u001B[43mfinder\u001B[49m\u001B[38;5;241;43m.\u001B[39;49m\u001B[43mFinder\u001B[49m\u001B[38;5;241;43m.\u001B[39;49m\u001B[43mfind\u001B[49m\u001B[43m(\u001B[49m\u001B[38;5;124;43m'\u001B[39;49m\u001B[38;5;124;43mcreated>2024-04-01\u001B[39;49m\u001B[38;5;124;43m'\u001B[39;49m\u001B[43m)\u001B[49m)\n",
      "File \u001B[1;32m~\\miniconda3\\envs\\fus\\lib\\site-packages\\flywheel\\finder.py:41\u001B[0m, in \u001B[0;36mFinder.find\u001B[1;34m(self, *args, **kwargs)\u001B[0m\n\u001B[0;32m     31\u001B[0m \u001B[38;5;28;01mdef\u001B[39;00m \u001B[38;5;21mfind\u001B[39m(\u001B[38;5;28mself\u001B[39m, \u001B[38;5;241m*\u001B[39margs, \u001B[38;5;241m*\u001B[39m\u001B[38;5;241m*\u001B[39mkwargs):\n\u001B[0;32m     32\u001B[0m \u001B[38;5;250m    \u001B[39m\u001B[38;5;124;03m\"\"\"Find all items in the collection that match the provided filter\u001B[39;00m\n\u001B[0;32m     33\u001B[0m \n\u001B[0;32m     34\u001B[0m \u001B[38;5;124;03m    :param args: The list of filters to apply (e.g. 'label=my-label' , 'created>2018-09-22')\u001B[39;00m\n\u001B[1;32m   (...)\u001B[0m\n\u001B[0;32m     39\u001B[0m \u001B[38;5;124;03m    :param str after_id: Paginate after the given id. (Cannot be used with sort, page or skip)\u001B[39;00m\n\u001B[0;32m     40\u001B[0m \u001B[38;5;124;03m    \"\"\"\u001B[39;00m\n\u001B[1;32m---> 41\u001B[0m     \u001B[38;5;28;01mreturn\u001B[39;00m \u001B[38;5;28;43mself\u001B[39;49m\u001B[38;5;241;43m.\u001B[39;49m\u001B[43m__find\u001B[49m(args, kwargs)\n",
      "\u001B[1;31mAttributeError\u001B[0m: 'str' object has no attribute '_Finder__find'"
     ]
    }
   ],
   "execution_count": 9
  },
  {
   "metadata": {
    "ExecuteTime": {
     "end_time": "2024-06-05T18:57:29.780468Z",
     "start_time": "2024-06-05T18:57:29.198454Z"
    }
   },
   "cell_type": "code",
   "source": [
    "import zipfile\n",
    "with zipfile.ZipFile('1.3.12.2.1107.5.2.43.166037.2022101415453511757218637.0.0.0.dicom.zip', 'r') as zip_file:\n",
    "#For each file in the zip file, download the file.\n",
    "    #for info in zipfile.ZipFile.infolist():\n",
    "#For each file in the zip file, download the file.\n",
    "    file_list = zipfile.ZipFile.infolist()\n",
    "    for i in range(len(file_list)):\n",
    "        flywheel.api.containers_api.ContainersApi.get_container_file_zip_info(container_id= , file_name = file.name, member = file_list[i])\n",
    "        #data = file.read(name)\n",
    "        #info.download(\"C:\\\\Users\\\\Charm\\\\projects\\\\test_folder\")"
   ],
   "outputs": [
    {
     "ename": "BadZipFile",
     "evalue": "File is not a zip file",
     "output_type": "error",
     "traceback": [
      "\u001B[1;31m---------------------------------------------------------------------------\u001B[0m",
      "\u001B[1;31mBadZipFile\u001B[0m                                Traceback (most recent call last)",
      "Cell \u001B[1;32mIn[14], line 2\u001B[0m\n\u001B[0;32m      1\u001B[0m \u001B[38;5;28;01mimport\u001B[39;00m \u001B[38;5;21;01mzipfile\u001B[39;00m\n\u001B[1;32m----> 2\u001B[0m \u001B[38;5;28;01mwith\u001B[39;00m \u001B[43mzipfile\u001B[49m\u001B[38;5;241;43m.\u001B[39;49m\u001B[43mZipFile\u001B[49m\u001B[43m(\u001B[49m\u001B[38;5;124;43m'\u001B[39;49m\u001B[38;5;124;43m1.3.12.2.1107.5.2.43.166037.2022101415453511757218637.0.0.0.dicom.zip\u001B[39;49m\u001B[38;5;124;43m'\u001B[39;49m\u001B[43m,\u001B[49m\u001B[43m \u001B[49m\u001B[38;5;124;43m'\u001B[39;49m\u001B[38;5;124;43mr\u001B[39;49m\u001B[38;5;124;43m'\u001B[39;49m\u001B[43m)\u001B[49m \u001B[38;5;28;01mas\u001B[39;00m zip_file:\n\u001B[0;32m      3\u001B[0m \u001B[38;5;66;03m#For each file in the zip file, download the file.\u001B[39;00m\n\u001B[0;32m      4\u001B[0m     \u001B[38;5;28;01mfor\u001B[39;00m info \u001B[38;5;129;01min\u001B[39;00m zipfile\u001B[38;5;241m.\u001B[39mZipFile\u001B[38;5;241m.\u001B[39minfolist():\n\u001B[0;32m      5\u001B[0m         \u001B[38;5;66;03m#data = file.read(name)\u001B[39;00m\n\u001B[0;32m      6\u001B[0m         info\u001B[38;5;241m.\u001B[39mdownload(\u001B[38;5;124m\"\u001B[39m\u001B[38;5;124mC:\u001B[39m\u001B[38;5;130;01m\\\\\u001B[39;00m\u001B[38;5;124mUsers\u001B[39m\u001B[38;5;130;01m\\\\\u001B[39;00m\u001B[38;5;124mCharm\u001B[39m\u001B[38;5;130;01m\\\\\u001B[39;00m\u001B[38;5;124mprojects\u001B[39m\u001B[38;5;130;01m\\\\\u001B[39;00m\u001B[38;5;124mtest_folder\u001B[39m\u001B[38;5;124m\"\u001B[39m)\n",
      "File \u001B[1;32m~\\miniconda3\\envs\\fus\\lib\\zipfile.py:1271\u001B[0m, in \u001B[0;36mZipFile.__init__\u001B[1;34m(self, file, mode, compression, allowZip64, compresslevel, strict_timestamps)\u001B[0m\n\u001B[0;32m   1269\u001B[0m \u001B[38;5;28;01mtry\u001B[39;00m:\n\u001B[0;32m   1270\u001B[0m     \u001B[38;5;28;01mif\u001B[39;00m mode \u001B[38;5;241m==\u001B[39m \u001B[38;5;124m'\u001B[39m\u001B[38;5;124mr\u001B[39m\u001B[38;5;124m'\u001B[39m:\n\u001B[1;32m-> 1271\u001B[0m         \u001B[38;5;28;43mself\u001B[39;49m\u001B[38;5;241;43m.\u001B[39;49m\u001B[43m_RealGetContents\u001B[49m\u001B[43m(\u001B[49m\u001B[43m)\u001B[49m\n\u001B[0;32m   1272\u001B[0m     \u001B[38;5;28;01melif\u001B[39;00m mode \u001B[38;5;129;01min\u001B[39;00m (\u001B[38;5;124m'\u001B[39m\u001B[38;5;124mw\u001B[39m\u001B[38;5;124m'\u001B[39m, \u001B[38;5;124m'\u001B[39m\u001B[38;5;124mx\u001B[39m\u001B[38;5;124m'\u001B[39m):\n\u001B[0;32m   1273\u001B[0m         \u001B[38;5;66;03m# set the modified flag so central directory gets written\u001B[39;00m\n\u001B[0;32m   1274\u001B[0m         \u001B[38;5;66;03m# even if no files are added to the archive\u001B[39;00m\n\u001B[0;32m   1275\u001B[0m         \u001B[38;5;28mself\u001B[39m\u001B[38;5;241m.\u001B[39m_didModify \u001B[38;5;241m=\u001B[39m \u001B[38;5;28;01mTrue\u001B[39;00m\n",
      "File \u001B[1;32m~\\miniconda3\\envs\\fus\\lib\\zipfile.py:1338\u001B[0m, in \u001B[0;36mZipFile._RealGetContents\u001B[1;34m(self)\u001B[0m\n\u001B[0;32m   1336\u001B[0m     \u001B[38;5;28;01mraise\u001B[39;00m BadZipFile(\u001B[38;5;124m\"\u001B[39m\u001B[38;5;124mFile is not a zip file\u001B[39m\u001B[38;5;124m\"\u001B[39m)\n\u001B[0;32m   1337\u001B[0m \u001B[38;5;28;01mif\u001B[39;00m \u001B[38;5;129;01mnot\u001B[39;00m endrec:\n\u001B[1;32m-> 1338\u001B[0m     \u001B[38;5;28;01mraise\u001B[39;00m BadZipFile(\u001B[38;5;124m\"\u001B[39m\u001B[38;5;124mFile is not a zip file\u001B[39m\u001B[38;5;124m\"\u001B[39m)\n\u001B[0;32m   1339\u001B[0m \u001B[38;5;28;01mif\u001B[39;00m \u001B[38;5;28mself\u001B[39m\u001B[38;5;241m.\u001B[39mdebug \u001B[38;5;241m>\u001B[39m \u001B[38;5;241m1\u001B[39m:\n\u001B[0;32m   1340\u001B[0m     \u001B[38;5;28mprint\u001B[39m(endrec)\n",
      "\u001B[1;31mBadZipFile\u001B[0m: File is not a zip file"
     ]
    }
   ],
   "execution_count": 14
  },
  {
   "metadata": {},
   "cell_type": "code",
   "outputs": [],
   "execution_count": null,
   "source": ""
  }
 ],
 "metadata": {
  "kernelspec": {
   "display_name": "Python 3",
   "language": "python",
   "name": "python3"
  },
  "language_info": {
   "codemirror_mode": {
    "name": "ipython",
    "version": 2
   },
   "file_extension": ".py",
   "mimetype": "text/x-python",
   "name": "python",
   "nbconvert_exporter": "python",
   "pygments_lexer": "ipython2",
   "version": "2.7.6"
  }
 },
 "nbformat": 4,
 "nbformat_minor": 0
}
