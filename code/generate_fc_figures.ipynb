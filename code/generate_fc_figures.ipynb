{
 "cells": [
  {
   "metadata": {},
   "cell_type": "markdown",
   "source": "## This notebook will load the precomputed dataframe containing FC values for all subjects, sessions, conditions, and ROI pairs. It will then perform a set of analyses to generate figures for the manuscript.",
   "id": "29b5d9ecc51af42c"
  },
  {
   "metadata": {
    "ExecuteTime": {
     "end_time": "2025-02-07T22:38:12.200365Z",
     "start_time": "2025-02-07T22:38:10.917430Z"
    }
   },
   "cell_type": "code",
   "source": [
    "import numpy as np\n",
    "import matplotlib.pyplot as plt\n",
    "import pandas as pd\n",
    "import nibabel as nib\n",
    "from nilearn import input_data, datasets, plotting\n",
    "import os\n",
    "import pickle"
   ],
   "id": "a9c955c24c5f150c",
   "outputs": [],
   "execution_count": 1
  },
  {
   "metadata": {
    "ExecuteTime": {
     "end_time": "2025-02-07T22:38:17.031110Z",
     "start_time": "2025-02-07T22:38:12.981492Z"
    }
   },
   "cell_type": "code",
   "source": [
    "## Load the precomputed dataframe\n",
    "path_to_df = '../data/precomputed/df_fc.pkl'\n",
    "df = pd.read_pickle(path_to_df)"
   ],
   "id": "5aa1599389b28d1d",
   "outputs": [],
   "execution_count": 2
  },
  {
   "metadata": {
    "ExecuteTime": {
     "end_time": "2025-02-07T22:39:53.836886Z",
     "start_time": "2025-02-07T22:39:53.826871Z"
    }
   },
   "cell_type": "code",
   "source": [
    "## Constants -- these are the same as in the notebook that generates the FC values\n",
    "### constant means that we do not change these kitties\n",
    "idx_pre = range(60,300) # we start at 60 instead of 0 because of some strange artifact at the beginning of the time series\n",
    "idx_fus = range(300,600)\n",
    "idx_post = range(600,900)\n",
    "\n",
    "# the 1-based indices of the subgenual region in the DiFuMo atlas, where 0 is the background\n",
    "idx_subgenual = 133\n",
    "#idx_subgenual = np.random.randint(1,1024)\n",
    "\n",
    "# load DiFuMo atlas\n",
    "difumo = datasets.fetch_atlas_difumo(dimension=1024)\n",
    "df_labels = pd.DataFrame(difumo.labels)  # List of 1024 anatomical labels\n",
    "atlas_img = nib.load(difumo.maps)\n",
    "subgenual = df_labels.loc[idx_subgenual,'difumo_names']\n",
    "print(subgenual)\n"
   ],
   "id": "f89b952ef415b16",
   "outputs": [
    {
     "name": "stdout",
     "output_type": "stream",
     "text": [
      "Subgenual cortex\n"
     ]
    }
   ],
   "execution_count": 13
  },
  {
   "metadata": {
    "ExecuteTime": {
     "end_time": "2025-02-07T22:39:54.550625Z",
     "start_time": "2025-02-07T22:39:54.535346Z"
    }
   },
   "cell_type": "code",
   "source": [
    "## filter df to only rows where either roi1 or roi2 is the subgenual region\n",
    "df = df[(df.roi1 == subgenual) | (df.roi2 == subgenual)]\n",
    "df.shape"
   ],
   "id": "553d1c4383da1aec",
   "outputs": [
    {
     "data": {
      "text/plain": [
       "(98208, 7)"
      ]
     },
     "execution_count": 14,
     "metadata": {},
     "output_type": "execute_result"
    }
   ],
   "execution_count": 14
  },
  {
   "metadata": {
    "ExecuteTime": {
     "end_time": "2025-02-07T22:39:55.417230Z",
     "start_time": "2025-02-07T22:39:55.163087Z"
    }
   },
   "cell_type": "code",
   "source": [
    "## Add a column to the dataframe that contains the connection of the subgenual region to the connected region\n",
    "df[\"connection\"] = df.apply(lambda x: x['roi1'] if x['roi2'] == subgenual else x['roi2'], axis=1)"
   ],
   "id": "e6517e6a516132d0",
   "outputs": [],
   "execution_count": 15
  },
  {
   "metadata": {
    "ExecuteTime": {
     "end_time": "2025-02-07T22:39:55.832247Z",
     "start_time": "2025-02-07T22:39:55.806841Z"
    }
   },
   "cell_type": "code",
   "source": [
    "dfg_mu = df.groupby(['condition','time_window','connection'])['fc'].mean()\n",
    "dfg_std = df.groupby(['condition','time_window','connection'])['fc'].std()"
   ],
   "id": "e3c52ff1214854c4",
   "outputs": [],
   "execution_count": 16
  },
  {
   "metadata": {
    "ExecuteTime": {
     "end_time": "2025-02-07T22:39:56.470438Z",
     "start_time": "2025-02-07T22:39:56.463828Z"
    }
   },
   "cell_type": "code",
   "source": [
    "# convert dfg_mean so that the indices are columns\n",
    "dfg = dfg_mu.reset_index()\n",
    "dfg[\"mean\"] = dfg_mu.values\n",
    "dfg[\"std\"] = dfg_std.values\n",
    "dfg.drop(columns = 'fc', inplace = True)"
   ],
   "id": "95752ece9df311b3",
   "outputs": [],
   "execution_count": 17
  },
  {
   "metadata": {
    "ExecuteTime": {
     "end_time": "2025-02-07T22:39:57.053967Z",
     "start_time": "2025-02-07T22:39:57.045172Z"
    }
   },
   "cell_type": "code",
   "source": [
    "## create a new dataframe where the time_window is a separate column\n",
    "dfg2 = dfg.pivot_table(index = ['condition','connection'], columns = 'time_window', values = ['mean','std']).reset_index()"
   ],
   "id": "42b72567134e6006",
   "outputs": [],
   "execution_count": 18
  },
  {
   "metadata": {
    "ExecuteTime": {
     "end_time": "2025-02-07T22:39:57.774097Z",
     "start_time": "2025-02-07T22:39:57.769111Z"
    }
   },
   "cell_type": "code",
   "source": [
    "# convert dfg2 to a single level index\n",
    "dfg2.columns = ['_'.join(col).strip() for col in dfg2.columns.values]\n",
    "dfg2['condition_'] = dfg2['condition_'].astype(str)\n",
    "dfg2['connection_'] = dfg2['connection_'].astype(str)"
   ],
   "id": "5f753a8a50115435",
   "outputs": [],
   "execution_count": 19
  },
  {
   "metadata": {
    "ExecuteTime": {
     "end_time": "2025-02-07T22:39:58.976559Z",
     "start_time": "2025-02-07T22:39:58.971670Z"
    }
   },
   "cell_type": "code",
   "source": [
    "dfg2[\"del_fus\"] = dfg2[\"mean_fus\"] - dfg2[\"mean_pre\"]\n",
    "dfg2[\"del_post\"] = dfg2[\"mean_post\"] - dfg2[\"mean_pre\"]\n",
    "dfg2[\"del_pct_change_fus\"] = dfg2[\"del_fus\"] / dfg2[\"std_pre\"]\n",
    "dfg2[\"del_pct_change_post\"] = dfg2[\"del_post\"] / dfg2[\"std_pre\"]\n",
    "#dfg2[\"del_pct_change_fus\"] = dfg2[\"del_fus\"] / dfg2[\"mean_pre\"].abs()\n",
    "#dfg2[\"del_pct_change_post\"] = dfg2[\"del_post\"] / dfg2[\"mean_pre\"].abs()"
   ],
   "id": "77201871e7baa5a",
   "outputs": [],
   "execution_count": 20
  },
  {
   "metadata": {
    "ExecuteTime": {
     "end_time": "2025-02-07T22:39:59.801851Z",
     "start_time": "2025-02-07T22:39:59.792435Z"
    }
   },
   "cell_type": "code",
   "source": "dfg2.groupby('condition_')[['mean_pre','mean_fus','mean_post','del_fus','del_post','del_pct_change_fus','del_pct_change_post']].mean()",
   "id": "571a56cb086ca85b",
   "outputs": [
    {
     "data": {
      "text/plain": [
       "            mean_pre  mean_fus  mean_post   del_fus  del_post  \\\n",
       "condition_                                                      \n",
       "active      0.061365  0.100091   0.127845  0.038726  0.066480   \n",
       "sham        0.121108  0.101353   0.109771 -0.019754 -0.011337   \n",
       "\n",
       "            del_pct_change_fus  del_pct_change_post  \n",
       "condition_                                           \n",
       "active                0.218605             0.380771  \n",
       "sham                 -0.100800            -0.052728  "
      ],
      "text/html": [
       "<div>\n",
       "<style scoped>\n",
       "    .dataframe tbody tr th:only-of-type {\n",
       "        vertical-align: middle;\n",
       "    }\n",
       "\n",
       "    .dataframe tbody tr th {\n",
       "        vertical-align: top;\n",
       "    }\n",
       "\n",
       "    .dataframe thead th {\n",
       "        text-align: right;\n",
       "    }\n",
       "</style>\n",
       "<table border=\"1\" class=\"dataframe\">\n",
       "  <thead>\n",
       "    <tr style=\"text-align: right;\">\n",
       "      <th></th>\n",
       "      <th>mean_pre</th>\n",
       "      <th>mean_fus</th>\n",
       "      <th>mean_post</th>\n",
       "      <th>del_fus</th>\n",
       "      <th>del_post</th>\n",
       "      <th>del_pct_change_fus</th>\n",
       "      <th>del_pct_change_post</th>\n",
       "    </tr>\n",
       "    <tr>\n",
       "      <th>condition_</th>\n",
       "      <th></th>\n",
       "      <th></th>\n",
       "      <th></th>\n",
       "      <th></th>\n",
       "      <th></th>\n",
       "      <th></th>\n",
       "      <th></th>\n",
       "    </tr>\n",
       "  </thead>\n",
       "  <tbody>\n",
       "    <tr>\n",
       "      <th>active</th>\n",
       "      <td>0.061365</td>\n",
       "      <td>0.100091</td>\n",
       "      <td>0.127845</td>\n",
       "      <td>0.038726</td>\n",
       "      <td>0.066480</td>\n",
       "      <td>0.218605</td>\n",
       "      <td>0.380771</td>\n",
       "    </tr>\n",
       "    <tr>\n",
       "      <th>sham</th>\n",
       "      <td>0.121108</td>\n",
       "      <td>0.101353</td>\n",
       "      <td>0.109771</td>\n",
       "      <td>-0.019754</td>\n",
       "      <td>-0.011337</td>\n",
       "      <td>-0.100800</td>\n",
       "      <td>-0.052728</td>\n",
       "    </tr>\n",
       "  </tbody>\n",
       "</table>\n",
       "</div>"
      ]
     },
     "execution_count": 21,
     "metadata": {},
     "output_type": "execute_result"
    }
   ],
   "execution_count": 21
  },
  {
   "metadata": {
    "ExecuteTime": {
     "end_time": "2025-02-07T22:40:01.040395Z",
     "start_time": "2025-02-07T22:40:01.029555Z"
    }
   },
   "cell_type": "code",
   "source": [
    "#dfg2.sort_values('del_fus',ascending=False)\n",
    "\n",
    "## create a new dataframe where the index is the connection and the columns are: del_fus_active, del_post_active, del_fus_sham, del_post_sham, mean_pre_active, mean_pre_sham\n",
    "dfg3 = dfg2.pivot_table(index = 'connection_', columns = 'condition_', values = ['del_fus','del_post','mean_pre', 'mean_fus', 'mean_post']).reset_index()\n",
    "dfg3.columns = ['_'.join(col).strip() for col in dfg3.columns.values]\n"
   ],
   "id": "e2d961cea7cf020a",
   "outputs": [],
   "execution_count": 22
  },
  {
   "metadata": {
    "ExecuteTime": {
     "end_time": "2025-02-07T22:40:01.966903Z",
     "start_time": "2025-02-07T22:40:01.957649Z"
    }
   },
   "cell_type": "code",
   "source": "dfg3",
   "id": "b229034274d4f1c8",
   "outputs": [
    {
     "data": {
      "text/plain": [
       "                                       connection__  del_fus_active  \\\n",
       "0                                 Amygdala anterior        0.002007   \n",
       "1                                Amygdala posterior        0.005076   \n",
       "2                         Angular gyrus anterior LH       -0.022773   \n",
       "3                  Angular gyrus antero-inferior LH        0.030423   \n",
       "4                  Angular gyrus antero-superior LH        0.078080   \n",
       "..                                              ...             ...   \n",
       "977         Ventromedial prefrontal cortex anterior        0.002694   \n",
       "978      Ventromedial prefrontal cortex anterior LH        0.059491   \n",
       "979  Ventromedial prefrontal cortex antero-inferior       -0.002850   \n",
       "980       Ventromedial prefrontal cortex posterior        -0.021542   \n",
       "981     Ventromedial prefrontal cortex posterior RH        0.016606   \n",
       "\n",
       "     del_fus_sham  del_post_active  del_post_sham  mean_fus_active  \\\n",
       "0        0.013971         0.069775       0.034126         0.187152   \n",
       "1        0.032778        -0.027493       0.065765         0.128568   \n",
       "2        0.005313        -0.001271      -0.005003         0.106052   \n",
       "3       -0.028136         0.093997      -0.052981         0.105668   \n",
       "4       -0.115851         0.088599      -0.039411         0.114713   \n",
       "..            ...              ...            ...              ...   \n",
       "977      0.015498         0.069114       0.022692         0.351058   \n",
       "978     -0.052806         0.085674      -0.005362         0.308132   \n",
       "979     -0.044020         0.021538      -0.055472         0.307256   \n",
       "980      0.025034         0.011600       0.064626         0.019080   \n",
       "981     -0.018808         0.053911       0.022741         0.229079   \n",
       "\n",
       "     mean_fus_sham  mean_post_active  mean_post_sham  mean_pre_active  \\\n",
       "0         0.231049          0.254920        0.251204         0.185146   \n",
       "1         0.118131          0.096000        0.151118         0.123493   \n",
       "2         0.140325          0.127554        0.130009         0.128824   \n",
       "3         0.159494          0.169242        0.134649         0.075244   \n",
       "4         0.024364          0.125232        0.100804         0.036633   \n",
       "..             ...               ...             ...              ...   \n",
       "977       0.387526          0.417477        0.394720         0.348364   \n",
       "978       0.309796          0.334315        0.357240         0.248641   \n",
       "979       0.358315          0.331644        0.346863         0.310106   \n",
       "980       0.075511          0.052222        0.115103         0.040622   \n",
       "981       0.220552          0.266385        0.262102         0.212473   \n",
       "\n",
       "     mean_pre_sham  \n",
       "0         0.217078  \n",
       "1         0.085353  \n",
       "2         0.135012  \n",
       "3         0.187630  \n",
       "4         0.140215  \n",
       "..             ...  \n",
       "977       0.372028  \n",
       "978       0.362602  \n",
       "979       0.402335  \n",
       "980       0.050478  \n",
       "981       0.239360  \n",
       "\n",
       "[982 rows x 11 columns]"
      ],
      "text/html": [
       "<div>\n",
       "<style scoped>\n",
       "    .dataframe tbody tr th:only-of-type {\n",
       "        vertical-align: middle;\n",
       "    }\n",
       "\n",
       "    .dataframe tbody tr th {\n",
       "        vertical-align: top;\n",
       "    }\n",
       "\n",
       "    .dataframe thead th {\n",
       "        text-align: right;\n",
       "    }\n",
       "</style>\n",
       "<table border=\"1\" class=\"dataframe\">\n",
       "  <thead>\n",
       "    <tr style=\"text-align: right;\">\n",
       "      <th></th>\n",
       "      <th>connection__</th>\n",
       "      <th>del_fus_active</th>\n",
       "      <th>del_fus_sham</th>\n",
       "      <th>del_post_active</th>\n",
       "      <th>del_post_sham</th>\n",
       "      <th>mean_fus_active</th>\n",
       "      <th>mean_fus_sham</th>\n",
       "      <th>mean_post_active</th>\n",
       "      <th>mean_post_sham</th>\n",
       "      <th>mean_pre_active</th>\n",
       "      <th>mean_pre_sham</th>\n",
       "    </tr>\n",
       "  </thead>\n",
       "  <tbody>\n",
       "    <tr>\n",
       "      <th>0</th>\n",
       "      <td>Amygdala anterior</td>\n",
       "      <td>0.002007</td>\n",
       "      <td>0.013971</td>\n",
       "      <td>0.069775</td>\n",
       "      <td>0.034126</td>\n",
       "      <td>0.187152</td>\n",
       "      <td>0.231049</td>\n",
       "      <td>0.254920</td>\n",
       "      <td>0.251204</td>\n",
       "      <td>0.185146</td>\n",
       "      <td>0.217078</td>\n",
       "    </tr>\n",
       "    <tr>\n",
       "      <th>1</th>\n",
       "      <td>Amygdala posterior</td>\n",
       "      <td>0.005076</td>\n",
       "      <td>0.032778</td>\n",
       "      <td>-0.027493</td>\n",
       "      <td>0.065765</td>\n",
       "      <td>0.128568</td>\n",
       "      <td>0.118131</td>\n",
       "      <td>0.096000</td>\n",
       "      <td>0.151118</td>\n",
       "      <td>0.123493</td>\n",
       "      <td>0.085353</td>\n",
       "    </tr>\n",
       "    <tr>\n",
       "      <th>2</th>\n",
       "      <td>Angular gyrus anterior LH</td>\n",
       "      <td>-0.022773</td>\n",
       "      <td>0.005313</td>\n",
       "      <td>-0.001271</td>\n",
       "      <td>-0.005003</td>\n",
       "      <td>0.106052</td>\n",
       "      <td>0.140325</td>\n",
       "      <td>0.127554</td>\n",
       "      <td>0.130009</td>\n",
       "      <td>0.128824</td>\n",
       "      <td>0.135012</td>\n",
       "    </tr>\n",
       "    <tr>\n",
       "      <th>3</th>\n",
       "      <td>Angular gyrus antero-inferior LH</td>\n",
       "      <td>0.030423</td>\n",
       "      <td>-0.028136</td>\n",
       "      <td>0.093997</td>\n",
       "      <td>-0.052981</td>\n",
       "      <td>0.105668</td>\n",
       "      <td>0.159494</td>\n",
       "      <td>0.169242</td>\n",
       "      <td>0.134649</td>\n",
       "      <td>0.075244</td>\n",
       "      <td>0.187630</td>\n",
       "    </tr>\n",
       "    <tr>\n",
       "      <th>4</th>\n",
       "      <td>Angular gyrus antero-superior LH</td>\n",
       "      <td>0.078080</td>\n",
       "      <td>-0.115851</td>\n",
       "      <td>0.088599</td>\n",
       "      <td>-0.039411</td>\n",
       "      <td>0.114713</td>\n",
       "      <td>0.024364</td>\n",
       "      <td>0.125232</td>\n",
       "      <td>0.100804</td>\n",
       "      <td>0.036633</td>\n",
       "      <td>0.140215</td>\n",
       "    </tr>\n",
       "    <tr>\n",
       "      <th>...</th>\n",
       "      <td>...</td>\n",
       "      <td>...</td>\n",
       "      <td>...</td>\n",
       "      <td>...</td>\n",
       "      <td>...</td>\n",
       "      <td>...</td>\n",
       "      <td>...</td>\n",
       "      <td>...</td>\n",
       "      <td>...</td>\n",
       "      <td>...</td>\n",
       "      <td>...</td>\n",
       "    </tr>\n",
       "    <tr>\n",
       "      <th>977</th>\n",
       "      <td>Ventromedial prefrontal cortex anterior</td>\n",
       "      <td>0.002694</td>\n",
       "      <td>0.015498</td>\n",
       "      <td>0.069114</td>\n",
       "      <td>0.022692</td>\n",
       "      <td>0.351058</td>\n",
       "      <td>0.387526</td>\n",
       "      <td>0.417477</td>\n",
       "      <td>0.394720</td>\n",
       "      <td>0.348364</td>\n",
       "      <td>0.372028</td>\n",
       "    </tr>\n",
       "    <tr>\n",
       "      <th>978</th>\n",
       "      <td>Ventromedial prefrontal cortex anterior LH</td>\n",
       "      <td>0.059491</td>\n",
       "      <td>-0.052806</td>\n",
       "      <td>0.085674</td>\n",
       "      <td>-0.005362</td>\n",
       "      <td>0.308132</td>\n",
       "      <td>0.309796</td>\n",
       "      <td>0.334315</td>\n",
       "      <td>0.357240</td>\n",
       "      <td>0.248641</td>\n",
       "      <td>0.362602</td>\n",
       "    </tr>\n",
       "    <tr>\n",
       "      <th>979</th>\n",
       "      <td>Ventromedial prefrontal cortex antero-inferior</td>\n",
       "      <td>-0.002850</td>\n",
       "      <td>-0.044020</td>\n",
       "      <td>0.021538</td>\n",
       "      <td>-0.055472</td>\n",
       "      <td>0.307256</td>\n",
       "      <td>0.358315</td>\n",
       "      <td>0.331644</td>\n",
       "      <td>0.346863</td>\n",
       "      <td>0.310106</td>\n",
       "      <td>0.402335</td>\n",
       "    </tr>\n",
       "    <tr>\n",
       "      <th>980</th>\n",
       "      <td>Ventromedial prefrontal cortex posterior</td>\n",
       "      <td>-0.021542</td>\n",
       "      <td>0.025034</td>\n",
       "      <td>0.011600</td>\n",
       "      <td>0.064626</td>\n",
       "      <td>0.019080</td>\n",
       "      <td>0.075511</td>\n",
       "      <td>0.052222</td>\n",
       "      <td>0.115103</td>\n",
       "      <td>0.040622</td>\n",
       "      <td>0.050478</td>\n",
       "    </tr>\n",
       "    <tr>\n",
       "      <th>981</th>\n",
       "      <td>Ventromedial prefrontal cortex posterior RH</td>\n",
       "      <td>0.016606</td>\n",
       "      <td>-0.018808</td>\n",
       "      <td>0.053911</td>\n",
       "      <td>0.022741</td>\n",
       "      <td>0.229079</td>\n",
       "      <td>0.220552</td>\n",
       "      <td>0.266385</td>\n",
       "      <td>0.262102</td>\n",
       "      <td>0.212473</td>\n",
       "      <td>0.239360</td>\n",
       "    </tr>\n",
       "  </tbody>\n",
       "</table>\n",
       "<p>982 rows × 11 columns</p>\n",
       "</div>"
      ]
     },
     "execution_count": 23,
     "metadata": {},
     "output_type": "execute_result"
    }
   ],
   "execution_count": 23
  },
  {
   "metadata": {
    "ExecuteTime": {
     "end_time": "2025-02-07T22:43:11.974073Z",
     "start_time": "2025-02-07T22:43:07.702749Z"
    }
   },
   "cell_type": "code",
   "source": [
    "#plt.style.use('dark_background')\n",
    "fig, ax = plt.subplots(1,2,figsize=(14,6))\n",
    "fontdict = {'fontsize': 18, 'fontweight': 'normal'}\n",
    "\n",
    "# create horizontal bar plot with no tick labels on the y-axis\n",
    "dfg3.plot(x = 'connection__', y = ['del_fus_active','del_fus_sham'], kind = 'barh', ax = ax[0])\n",
    "ax[0].set_xlabel('Change in FC', fontdict = fontdict)\n",
    "ax[0].set_yticklabels([])\n",
    "ax[0].set_ylabel('Connection', fontdict = fontdict)\n",
    "ax[0].set_title('Change in sgACC FC during FUS', fontdict = fontdict)\n",
    "ax[0].set_xlim(-0.25,0.25)\n",
    "ax[0].legend(['Active','Sham'])\n",
    "dfg3.plot(x = 'connection__', y = ['del_post_active','del_post_sham'], kind = 'barh', ax = ax[1])\n",
    "ax[1].set_xlabel('Change in FC', fontdict = fontdict)\n",
    "ax[1].set_yticklabels([])\n",
    "ax[1].set_ylabel('')\n",
    "ax[1].set_title('Change in sgACC FC post FUS', fontdict = fontdict)\n",
    "ax[1].set_xlim(-0.25,0.25)\n",
    "ax[1].legend(['Active','Sham'])\n",
    "\n",
    "ax[0].set_title('During tFUS', fontdict=fontdict)\n",
    "ax[1].set_title('After tFUS', fontdict=fontdict)\n",
    "\n",
    "# add sublabels (a) and (b) to the plots\n",
    "ax[0].text(-0.02, 1.05, '(a)', transform=ax[0].transAxes, fontsize=16, fontweight='bold', va='top')\n",
    "ax[1].text(-0.02, 1.05, '(b)', transform=ax[1].transAxes, fontsize=16, fontweight='bold', va='top')\n",
    "\n",
    "\n",
    "fig.tight_layout()\n",
    "fig.savefig('../figures/sgACC_fc_change.png', dpi=300)"
   ],
   "id": "f104d55f6d7338d4",
   "outputs": [
    {
     "data": {
      "text/plain": [
       "<Figure size 1008x432 with 2 Axes>"
      ],
      "image/png": "[encoded data removed]"
     },
     "metadata": {
      "needs_background": "light"
     },
     "output_type": "display_data"
    }
   ],
   "execution_count": 26
  },
  {
   "metadata": {
    "ExecuteTime": {
     "end_time": "2025-02-07T22:49:09.222569Z",
     "start_time": "2025-02-07T22:49:09.217951Z"
    }
   },
   "cell_type": "code",
   "source": "dfg3['del_fus_active'].ge(0).mean(), dfg3['del_fus_sham'].ge(0).mean(), dfg3['del_post_active'].ge(0).mean(), dfg3['del_post_sham'].ge(0).mean()\n",
   "id": "cd324e92c624b2d",
   "outputs": [
    {
     "data": {
      "text/plain": [
       "(np.float64(0.7922606924643585),\n",
       " np.float64(0.3380855397148676),\n",
       " np.float64(0.8747454175152749),\n",
       " np.float64(0.4154786150712831))"
      ]
     },
     "execution_count": 30,
     "metadata": {},
     "output_type": "execute_result"
    }
   ],
   "execution_count": 30
  },
  {
   "metadata": {},
   "cell_type": "markdown",
   "source": "## Visualize FC changes as a network graph",
   "id": "59f30c345f244e9f"
  },
  {
   "metadata": {
    "ExecuteTime": {
     "end_time": "2025-01-24T15:40:24.769332Z",
     "start_time": "2025-01-24T15:40:24.767347Z"
    }
   },
   "cell_type": "code",
   "source": [
    "# Load DiFuMo atlas\n",
    "#roi_coordinates = plotting.find_probabilistic_atlas_cut_coords(difumo.maps)  # Anatomical coordinates of ROIs"
   ],
   "id": "9ab10f718d6b795f",
   "outputs": [],
   "execution_count": 40
  },
  {
   "metadata": {
    "ExecuteTime": {
     "end_time": "2025-01-24T15:40:24.792081Z",
     "start_time": "2025-01-24T15:40:24.790556Z"
    }
   },
   "cell_type": "code",
   "source": [
    "#roi_labels = difumo.labels\n",
    "#roi_labels = [x[1] for x in roi_labels]"
   ],
   "id": "d5e5f91ed59f4f48",
   "outputs": [],
   "execution_count": 41
  },
  {
   "metadata": {
    "ExecuteTime": {
     "end_time": "2025-01-24T15:40:24.802955Z",
     "start_time": "2025-01-24T15:40:24.801142Z"
    }
   },
   "cell_type": "code",
   "source": [
    "# get the coordinates of each ROI in the difumo atlas\n",
    "#roi_to_coords = {label: coord for label, coord in zip(roi_labels, roi_coordinates)}"
   ],
   "id": "f114e61142312884",
   "outputs": [],
   "execution_count": 42
  },
  {
   "metadata": {
    "ExecuteTime": {
     "end_time": "2025-01-24T15:40:24.813208Z",
     "start_time": "2025-01-24T15:40:24.811337Z"
    }
   },
   "cell_type": "code",
   "source": [
    "# Example: Top connections DataFrame (replace this with your actual data)\n",
    "#data = [\n",
    "#    [\"sgACC\", \"Paracingulate sulcus middle LH\", 0.173897],\n",
    "#    [\"sgACC\", \"Middle temporal gyrus middle RH\", 0.172191],\n",
    "#    [\"sgACC\", \"Lingual gyrus anterior RH\", 0.168216],\n",
    "#    [\"sgACC\", \"Anterior orbital gyrus RH\", 0.164764],\n",
    "#    [\"sgACC\", \"Parieto-occipital sulcus mid-anterior LH\", 0.162196],\n",
    "#]\n",
    "#columns = [\"seed\", \"target\", \"del_fus\"]\n",
    "#df = pd.DataFrame(data, columns=columns)\n"
   ],
   "id": "17e7ddd301ca5ac",
   "outputs": [],
   "execution_count": 43
  },
  {
   "metadata": {
    "ExecuteTime": {
     "end_time": "2025-01-24T15:40:24.824612Z",
     "start_time": "2025-01-24T15:40:24.822783Z"
    }
   },
   "cell_type": "code",
   "source": [
    "# Get coordinates for seed and target ROIs\n",
    "#df[\"seed_coords\"] = df[\"seed\"].apply(lambda x: roi_to_coords.get(x, (np.nan, np.nan, np.nan)))\n",
    "#df[\"target_coords\"] = df[\"target\"].apply(lambda x: roi_to_coords.get(x, (np.nan, np.nan, np.nan)))\n",
    "\n",
    "# Filter out invalid coordinates\n",
    "#df = df.dropna(subset=[\"seed_coords\", \"target_coords\"])\n",
    "\n",
    "# Extract connectivity data for plotting\n",
    "#connectivity_matrix = np.zeros((len(df), len(df)))\n",
    "#for idx, row in df.iterrows():\n",
    "#    seed_idx = idx\n",
    "#    target_idx = idx\n",
    "#    connectivity_matrix[seed_idx, target_idx] = row[\"del_fus\"]\n",
    "\n",
    "# Extract coordinates\n",
    "#node_coords = np.array([row[\"target_coords\"] for _, row in df.iterrows()])\n",
    "\n",
    "# Plot the connectome\n",
    "#plotting.plot_connectome(\n",
    "#    adjacency_matrix=connectivity_matrix,\n",
    "#    node_coords=node_coords,\n",
    "#)\n",
    "#view.open_in_browser()  # Opens the interactive visualization in your browser"
   ],
   "id": "62ef69f4a62e8708",
   "outputs": [],
   "execution_count": 44
  },
  {
   "metadata": {
    "ExecuteTime": {
     "end_time": "2025-01-24T15:40:24.836103Z",
     "start_time": "2025-01-24T15:40:24.834550Z"
    }
   },
   "cell_type": "code",
   "source": "#connectivity_matrix",
   "id": "fe933d07ad388b69",
   "outputs": [],
   "execution_count": 45
  },
  {
   "metadata": {
    "ExecuteTime": {
     "end_time": "2025-01-24T15:40:24.846010Z",
     "start_time": "2025-01-24T15:40:24.844203Z"
    }
   },
   "cell_type": "code",
   "source": [
    "\n",
    "# Keywords for DMN and affective networks\n",
    "#dmn_keywords = [\"medial prefrontal\", \"posterior cingulate\", \"parahippocampal\", \"hippocampus\"]\n",
    "#affective_keywords = [\"amygdala\", \"insula\", \"orbitofrontal\", \"ventral striatum\", \"thalamus\"]\n",
    "\n",
    "# Filter for relevant regions\n",
    "#dmn_regions = df_labels[df_labels[\"Label\"].str.contains(\"|\".join(dmn_keywords), case=False, na=False)]\n",
    "#affective_regions = df_labels[df_labels[\"Label\"].str.contains(\"|\".join(affective_keywords), case=False, na=False)]\n",
    "\n",
    "# Combine results\n",
    "#relevant_regions = pd.concat([dmn_regions, affective_regions]).drop_duplicates()\n",
    "\n",
    "# Save or print the relevant regions\n",
    "#print(\"Regions in DMN and Affective Networks:\")\n",
    "#print(relevant_regions)\n",
    "\n",
    "# Save to CSV (optional)\n",
    "#relevant_regions.to_csv(\"dmn_affective_regions.csv\", index=False)"
   ],
   "id": "5b98dc29a82f2828",
   "outputs": [],
   "execution_count": 46
  }
 ],
 "metadata": {
  "kernelspec": {
   "display_name": "Python 3",
   "language": "python",
   "name": "python3"
  },
  "language_info": {
   "codemirror_mode": {
    "name": "ipython",
    "version": 2
   },
   "file_extension": ".py",
   "mimetype": "text/x-python",
   "name": "python",
   "nbconvert_exporter": "python",
   "pygments_lexer": "ipython2",
   "version": "2.7.6"
  }
 },
 "nbformat": 4,
 "nbformat_minor": 5
}
