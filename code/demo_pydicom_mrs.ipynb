{
 "cells": [
  {
   "cell_type": "code",
   "execution_count": 1,
   "outputs": [],
   "source": [
    "import pydicom\n",
    "import numpy as np\n",
    "from scipy.fftpack import fft"
   ],
   "metadata": {
    "collapsed": false
   }
  },
  {
   "cell_type": "code",
   "execution_count": 2,
   "outputs": [],
   "source": [
    "# Load the DICOM file\n",
    "dicom_file = '/Users/jacekdmochowski/City College Dropbox/Jacek Dmochowski/sharing/alex/sub-06/WIP_859K_svs_edit_MOD_1_POST/1.3.12.2.1107.5.2.43.166037.2024061716523068801594719.MR.dcm'\n",
    "dicom_data = pydicom.dcmread(dicom_file)\n"
   ],
   "metadata": {
    "collapsed": false
   }
  },
  {
   "cell_type": "code",
   "execution_count": 5,
   "outputs": [
    {
     "data": {
      "text/plain": "Dataset.file_meta -------------------------------\n(0002, 0000) File Meta Information Group Length  UL: 208\n(0002, 0001) File Meta Information Version       OB: b'\\x00\\x01'\n(0002, 0002) Media Storage SOP Class UID         UI: 1.3.12.2.1107.5.9.1\n(0002, 0003) Media Storage SOP Instance UID      UI: 1.3.12.2.1107.5.2.43.166037.2024061716523068801594719\n(0002, 0010) Transfer Syntax UID                 UI: Explicit VR Little Endian\n(0002, 0012) Implementation Class UID            UI: 1.2.276.0.7230010.3.0.3.6.5\n(0002, 0013) Implementation Version Name         SH: 'OFFIS_DCMTK_365'\n(0002, 0016) Source Application Entity Title     AE: 'ANY-SCP'\n-------------------------------------------------\n(0008, 0005) Specific Character Set              CS: 'ISO_IR 100'\n(0008, 0008) Image Type                          CS: ['ORIGINAL', 'PRIMARY']\n(0008, 0012) Instance Creation Date              DA: '20240617'\n(0008, 0013) Instance Creation Time              TM: '165230.760000'\n(0008, 0016) SOP Class UID                       UI: 1.3.12.2.1107.5.9.1\n(0008, 0018) SOP Instance UID                    UI: 1.3.12.2.1107.5.2.43.166037.2024061716523068801594719\n(0008, 0020) Study Date                          DA: '20240617'\n(0008, 0021) Series Date                         DA: '20240617'\n(0008, 0022) Acquisition Date                    DA: '20240617'\n(0008, 0030) Study Time                          TM: '161104.671000'\n(0008, 0031) Series Time                         TM: '165230.747000'\n(0008, 0032) Acquisition Time                    TM: '164918.795000'\n(0008, 0050) Accession Number                    SH: 'ACTIVE'\n(0008, 0060) Modality                            CS: 'MR'\n(0008, 0070) Manufacturer                        LO: 'SIEMENS'\n(0008, 0080) Institution Name                    LO: 'ASRC'\n(0008, 0081) Institution Address                 ST: 'Street StreetNo,City,District,US,ZIP'\n(0008, 0090) Referring Physician's Name          PN: ''\n(0008, 1010) Station Name                        SH: 'AWP166037'\n(0008, 1030) Study Description                   LO: 'Development^FUS'\n(0008, 103e) Series Description                  LO: 'WIP_859K_svs_edit_MOD'\n(0008, 1050) Performing Physician's Name         PN: 'JACEK'\n(0008, 1070) Operators' Name                     PN: 'Shereen'\n(0008, 1090) Manufacturer's Model Name           LO: 'Prisma'\n(0008, 1140)  Referenced Image Sequence  3 item(s) ---- \n   (0008, 1150) Referenced SOP Class UID            UI: MR Image Storage\n   (0008, 1155) Referenced SOP Instance UID         UI: 1.3.12.2.1107.5.2.43.166037.2024061716121910454671106\n   ---------\n   (0008, 1150) Referenced SOP Class UID            UI: MR Image Storage\n   (0008, 1155) Referenced SOP Instance UID         UI: 1.3.12.2.1107.5.2.43.166037.2024061716213368640296761\n   ---------\n   (0008, 1150) Referenced SOP Class UID            UI: MR Image Storage\n   (0008, 1155) Referenced SOP Instance UID         UI: 1.3.12.2.1107.5.2.43.166037.2024061716121915023871118\n   ---------\n(0010, 0010) Patient's Name                      PN: 'MATHAI'\n(0010, 0020) Patient ID                          LO: 'PATIENTID'\n(0010, 0030) Patient's Birth Date                DA: '19000101'\n(0010, 0040) Patient's Sex                       CS: 'O'\n(0010, 1010) Patient's Age                       AS: '124Y'\n(0010, 1020) Patient's Size                      DS: '1.82880366'\n(0010, 1030) Patient's Weight                    DS: '90.71848554'\n(0018, 0015) Body Part Examined                  CS: 'BRAIN'\n(0018, 1000) Device Serial Number                LO: '166037'\n(0018, 1020) Software Versions                   LO: 'syngo MR E11'\n(0018, 1030) Protocol Name                       LO: 'WIP_859K_svs_edit_MOD'\n(0018, 5100) Patient Position                    CS: 'HFS'\n(0020, 000d) Study Instance UID                  UI: 1.3.12.2.1107.5.2.43.166037.30000024061218285914500000034\n(0020, 000e) Series Instance UID                 UI: 1.3.12.2.1107.5.2.43.166037.2024061716491952796094588.0.0.0\n(0020, 0010) Study ID                            SH: '1'\n(0020, 0011) Series Number                       IS: '16'\n(0020, 0012) Acquisition Number                  IS: '1'\n(0020, 0013) Instance Number                     IS: '3'\n(0020, 0052) Frame of Reference UID              UI: 1.3.12.2.1107.5.2.43.166037.1.20240617161104820.0.0.0\n(0020, 4000) Image Comments                      LT: Array of 18 elements\n(0029, 0010) Private Creator                     LO: 'SIEMENS CSA NON-IMAGE'\n(0029, 0011) Private Creator                     LO: 'SIEMENS CSA HEADER'\n(0029, 0012) Private Creator                     LO: 'SIEMENS MEDCOM HEADER2'\n(0029, 1008) [CSA Data Type]                     CS: 'SPEC NUM 4'\n(0029, 1009) [CSA Data Version]                  LO: 'syngo MR E11'\n(0029, 1108) [CSA Image Header Type]             CS: 'SPEC NUM 4'\n(0029, 1109) [CSA Image Header Version]          LO: '20240617'\n(0029, 1110) [CSA Image Header Info]             OB: Array of 14964 elements\n(0029, 1118) [CSA Series Header Type]            CS: 'MR'\n(0029, 1119) [CSA Series Header Version]         LO: '20240617'\n(0029, 1120) [CSA Series Header Info]            OB: Array of 91168 elements\n(0029, 1260) [Series Workflow Status]            LO: 'com'\n(0040, 0244) Performed Procedure Step Start Date DA: '20240617'\n(0040, 0245) Performed Procedure Step Start Time TM: '161104.730000'\n(0040, 0253) Performed Procedure Step ID         SH: 'MR20240617161104'\n(0040, 0254) Performed Procedure Step Descriptio LO: 'Development^FUS'\n(0040, 0280) Comments on the Performed Procedure ST: ''\n(7fe1, 0010) Private Creator                     LO: 'SIEMENS CSA NON-IMAGE'\n(7fe1, 1010) [CSA Data]                          OB: Array of 4096 elements"
     },
     "execution_count": 5,
     "metadata": {},
     "output_type": "execute_result"
    }
   ],
   "source": [
    "dicom_data"
   ],
   "metadata": {
    "collapsed": false
   }
  },
  {
   "cell_type": "code",
   "execution_count": 3,
   "outputs": [
    {
     "ename": "AttributeError",
     "evalue": "'FileDataset' object has no attribute 'SpectroscopyData'",
     "output_type": "error",
     "traceback": [
      "\u001B[0;31m---------------------------------------------------------------------------\u001B[0m",
      "\u001B[0;31mAttributeError\u001B[0m                            Traceback (most recent call last)",
      "Cell \u001B[0;32mIn[3], line 2\u001B[0m\n\u001B[1;32m      1\u001B[0m \u001B[38;5;66;03m# Extract raw FID data\u001B[39;00m\n\u001B[0;32m----> 2\u001B[0m raw_fid \u001B[38;5;241m=\u001B[39m \u001B[43mdicom_data\u001B[49m\u001B[38;5;241;43m.\u001B[39;49m\u001B[43mSpectroscopyData\u001B[49m\n\u001B[1;32m      3\u001B[0m fid_data \u001B[38;5;241m=\u001B[39m np\u001B[38;5;241m.\u001B[39mfrombuffer(raw_fid, dtype\u001B[38;5;241m=\u001B[39mnp\u001B[38;5;241m.\u001B[39mcomplex64)\n",
      "File \u001B[0;32m~/miniconda3/envs/fus/lib/python3.10/site-packages/pydicom/dataset.py:908\u001B[0m, in \u001B[0;36mDataset.__getattr__\u001B[0;34m(self, name)\u001B[0m\n\u001B[1;32m    906\u001B[0m     \u001B[38;5;28;01mreturn\u001B[39;00m {}\n\u001B[1;32m    907\u001B[0m \u001B[38;5;66;03m# Try the base class attribute getter (fix for issue 332)\u001B[39;00m\n\u001B[0;32m--> 908\u001B[0m \u001B[38;5;28;01mreturn\u001B[39;00m \u001B[38;5;28;43mobject\u001B[39;49m\u001B[38;5;241;43m.\u001B[39;49m\u001B[38;5;21;43m__getattribute__\u001B[39;49m\u001B[43m(\u001B[49m\u001B[38;5;28;43mself\u001B[39;49m\u001B[43m,\u001B[49m\u001B[43m \u001B[49m\u001B[43mname\u001B[49m\u001B[43m)\u001B[49m\n",
      "\u001B[0;31mAttributeError\u001B[0m: 'FileDataset' object has no attribute 'SpectroscopyData'"
     ]
    }
   ],
   "source": [
    "# Extract raw FID data\n",
    "raw_fid = dicom_data.SpectroscopyData\n",
    "fid_data = np.frombuffer(raw_fid, dtype=np.complex64)"
   ],
   "metadata": {
    "collapsed": false
   }
  },
  {
   "cell_type": "code",
   "execution_count": null,
   "outputs": [],
   "source": [
    "# Extract spectral parameters from DICOM header\n",
    "spectral_width = dicom_data.SpectralWidth\n",
    "central_freq = dicom_data.TransmitterFrequency\n",
    "num_points = dicom_data.DataPointRows * dicom_data.DataPointColumns\n",
    "\n",
    "# Construct the frequency (ppm) axis\n",
    "delta_freq = spectral_width / num_points\n",
    "freq_axis = np.fft.fftfreq(num_points, d=1/spectral_width) + central_freq\n",
    "freq_ppm = freq_axis / central_freq\n",
    "\n",
    "# Compute the Fourier transform of the FID\n",
    "spectrum = fft(fid_data)\n",
    "\n",
    "# Compute the power spectral density\n",
    "power_spectrum = np.abs(spectrum) ** 2\n",
    "\n",
    "# Print or plot the results\n",
    "import matplotlib.pyplot as plt\n",
    "\n",
    "plt.figure(figsize=(10, 6))\n",
    "plt.plot(freq_ppm, power_spectrum)\n",
    "plt.xlabel('Frequency (ppm)')\n",
    "plt.ylabel('Power Spectral Density')\n",
    "plt.title('MRS Spectrum')\n",
    "plt.show()"
   ],
   "metadata": {
    "collapsed": false
   }
  }
 ],
 "metadata": {
  "kernelspec": {
   "display_name": "Python 3",
   "language": "python",
   "name": "python3"
  },
  "language_info": {
   "codemirror_mode": {
    "name": "ipython",
    "version": 2
   },
   "file_extension": ".py",
   "mimetype": "text/x-python",
   "name": "python",
   "nbconvert_exporter": "python",
   "pygments_lexer": "ipython2",
   "version": "2.7.6"
  }
 },
 "nbformat": 4,
 "nbformat_minor": 0
}
