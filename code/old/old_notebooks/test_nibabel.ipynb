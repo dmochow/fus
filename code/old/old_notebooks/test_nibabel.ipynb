{
 "cells": [
  {
   "cell_type": "code",
   "id": "initial_id",
   "metadata": {
    "collapsed": true,
    "ExecuteTime": {
     "end_time": "2024-10-18T19:38:25.135408Z",
     "start_time": "2024-10-18T19:38:24.967033Z"
    }
   },
   "source": "import nibabel",
   "outputs": [],
   "execution_count": 1
  },
  {
   "metadata": {
    "ExecuteTime": {
     "end_time": "2024-10-18T19:39:00.182654Z",
     "start_time": "2024-10-18T19:39:00.179953Z"
    }
   },
   "cell_type": "code",
   "source": "filename = '/Users/jacekdmochowski/PROJECTS/fus/data/test/1.3.12.2.1107.5.2.43.166037.2024070315353467403071673.MR.dcm'",
   "id": "6cdeb5bcb80dbd36",
   "outputs": [],
   "execution_count": 2
  },
  {
   "metadata": {
    "ExecuteTime": {
     "end_time": "2024-10-18T19:39:04.054406Z",
     "start_time": "2024-10-18T19:39:03.899020Z"
    }
   },
   "cell_type": "code",
   "source": "img = nibabel.load(filename)",
   "id": "c5d5d05f2e3feb7d",
   "outputs": [
    {
     "ename": "ImageFileError",
     "evalue": "Cannot work out file type of \"/Users/jacekdmochowski/PROJECTS/fus/data/test/1.3.12.2.1107.5.2.43.166037.2024070315353467403071673.MR.dcm\"",
     "output_type": "error",
     "traceback": [
      "\u001B[0;31m---------------------------------------------------------------------------\u001B[0m",
      "\u001B[0;31mImageFileError\u001B[0m                            Traceback (most recent call last)",
      "Cell \u001B[0;32mIn[3], line 1\u001B[0m\n\u001B[0;32m----> 1\u001B[0m img \u001B[38;5;241m=\u001B[39m nibabel\u001B[38;5;241m.\u001B[39mload(filename)\n",
      "File \u001B[0;32m/opt/miniconda3/envs/fus/lib/python3.13/site-packages/nibabel/loadsave.py:118\u001B[0m, in \u001B[0;36mload\u001B[0;34m(filename, **kwargs)\u001B[0m\n\u001B[1;32m    115\u001B[0m \u001B[38;5;28;01mif\u001B[39;00m \u001B[38;5;129;01mnot\u001B[39;00m matches:\n\u001B[1;32m    116\u001B[0m     \u001B[38;5;28;01mraise\u001B[39;00m ImageFileError(msg)\n\u001B[0;32m--> 118\u001B[0m \u001B[38;5;28;01mraise\u001B[39;00m ImageFileError(\u001B[38;5;124mf\u001B[39m\u001B[38;5;124m'\u001B[39m\u001B[38;5;124mCannot work out file type of \u001B[39m\u001B[38;5;124m\"\u001B[39m\u001B[38;5;132;01m{\u001B[39;00mfilename\u001B[38;5;132;01m}\u001B[39;00m\u001B[38;5;124m\"\u001B[39m\u001B[38;5;124m'\u001B[39m)\n",
      "\u001B[0;31mImageFileError\u001B[0m: Cannot work out file type of \"/Users/jacekdmochowski/PROJECTS/fus/data/test/1.3.12.2.1107.5.2.43.166037.2024070315353467403071673.MR.dcm\""
     ]
    }
   ],
   "execution_count": 3
  },
  {
   "metadata": {},
   "cell_type": "code",
   "outputs": [],
   "execution_count": null,
   "source": "",
   "id": "1ecb23b47127db19"
  },
  {
   "metadata": {
    "ExecuteTime": {
     "end_time": "2024-10-18T19:41:01.569625Z",
     "start_time": "2024-10-18T19:41:01.562368Z"
    }
   },
   "cell_type": "code",
   "source": [
    "import pydicom\n",
    "from nibabel.nicom import csareader\n",
    "\n",
    "# Load the DICOM file\n",
    "dicom_data = pydicom.dcmread(filename)"
   ],
   "id": "a4fd1ab2ee9f3e7f",
   "outputs": [
    {
     "name": "stderr",
     "output_type": "stream",
     "text": [
      "/var/folders/g9/8jw7l6116kdd4pc549qnnz8r0000gn/T/ipykernel_77641/2976840161.py:2: UserWarning: The DICOM readers are highly experimental, unstable, and only work for Siemens time-series at the moment\n",
      "Please use with caution.  We would be grateful for your help in improving them\n",
      "  from nibabel.nicom import csareader\n"
     ]
    }
   ],
   "execution_count": 4
  },
  {
   "metadata": {
    "ExecuteTime": {
     "end_time": "2024-10-18T19:41:09.585960Z",
     "start_time": "2024-10-18T19:41:09.578970Z"
    }
   },
   "cell_type": "code",
   "source": "dicom_data",
   "id": "5235c8d5296577f0",
   "outputs": [
    {
     "data": {
      "text/plain": [
       "Dataset.file_meta -------------------------------\n",
       "(0002,0000) File Meta Information Group Length  UL: 208\n",
       "(0002,0001) File Meta Information Version       OB: b'\\x00\\x01'\n",
       "(0002,0002) Media Storage SOP Class UID         UI: 1.3.12.2.1107.5.9.1\n",
       "(0002,0003) Media Storage SOP Instance UID      UI: 1.3.12.2.1107.5.2.43.166037.2024070315353467403071673\n",
       "(0002,0010) Transfer Syntax UID                 UI: Explicit VR Little Endian\n",
       "(0002,0012) Implementation Class UID            UI: 1.2.276.0.7230010.3.0.3.6.5\n",
       "(0002,0013) Implementation Version Name         SH: 'OFFIS_DCMTK_365'\n",
       "(0002,0016) Source Application Entity Title     AE: 'ANY-SCP'\n",
       "-------------------------------------------------\n",
       "(0008,0005) Specific Character Set              CS: 'ISO_IR 100'\n",
       "(0008,0008) Image Type                          CS: ['ORIGINAL', 'PRIMARY']\n",
       "(0008,0012) Instance Creation Date              DA: '20240703'\n",
       "(0008,0013) Instance Creation Time              TM: '153534.768000'\n",
       "(0008,0016) SOP Class UID                       UI: 1.3.12.2.1107.5.9.1\n",
       "(0008,0018) SOP Instance UID                    UI: 1.3.12.2.1107.5.2.43.166037.2024070315353467403071673\n",
       "(0008,0020) Study Date                          DA: '20240703'\n",
       "(0008,0021) Series Date                         DA: '20240703'\n",
       "(0008,0022) Acquisition Date                    DA: '20240703'\n",
       "(0008,0030) Study Time                          TM: '151907.360000'\n",
       "(0008,0031) Series Time                         TM: '153534.740000'\n",
       "(0008,0032) Acquisition Time                    TM: '153222.835000'\n",
       "(0008,0050) Accession Number                    SH: 'SHAM'\n",
       "(0008,0060) Modality                            CS: 'MR'\n",
       "(0008,0070) Manufacturer                        LO: 'SIEMENS'\n",
       "(0008,0080) Institution Name                    LO: 'ASRC'\n",
       "(0008,0081) Institution Address                 ST: 'Street StreetNo,City,District,US,ZIP'\n",
       "(0008,0090) Referring Physician's Name          PN: ''\n",
       "(0008,1010) Station Name                        SH: 'AWP166037'\n",
       "(0008,1030) Study Description                   LO: 'Development^FUS'\n",
       "(0008,103E) Series Description                  LO: 'func-wip_task-pre'\n",
       "(0008,1050) Performing Physician's Name         PN: 'JACEK'\n",
       "(0008,1070) Operators' Name                     PN: 'Shereen'\n",
       "(0008,1090) Manufacturer's Model Name           LO: 'Prisma'\n",
       "(0008,1140)  Referenced Image Sequence  3 item(s) ---- \n",
       "   (0008,1150) Referenced SOP Class UID            UI: MR Image Storage\n",
       "   (0008,1155) Referenced SOP Instance UID         UI: 1.3.12.2.1107.5.2.43.166037.202407031520318935247756\n",
       "   ---------\n",
       "   (0008,1150) Referenced SOP Class UID            UI: MR Image Storage\n",
       "   (0008,1155) Referenced SOP Instance UID         UI: 1.3.12.2.1107.5.2.43.166037.2024070315283541404370749\n",
       "   ---------\n",
       "   (0008,1150) Referenced SOP Class UID            UI: MR Image Storage\n",
       "   (0008,1155) Referenced SOP Instance UID         UI: 1.3.12.2.1107.5.2.43.166037.2024070315203113751047768\n",
       "   ---------\n",
       "(0010,0010) Patient's Name                      PN: 'MATHAI'\n",
       "(0010,0020) Patient ID                          LO: 'MATHA'\n",
       "(0010,0030) Patient's Birth Date                DA: '19000101'\n",
       "(0010,0040) Patient's Sex                       CS: 'O'\n",
       "(0010,1010) Patient's Age                       AS: '124Y'\n",
       "(0010,1020) Patient's Size                      DS: '1.82880366'\n",
       "(0010,1030) Patient's Weight                    DS: '90.71848554'\n",
       "(0018,0015) Body Part Examined                  CS: 'BRAIN'\n",
       "(0018,1000) Device Serial Number                LO: '166037'\n",
       "(0018,1020) Software Versions                   LO: 'syngo MR E11'\n",
       "(0018,1030) Protocol Name                       LO: 'func-wip_task-pre'\n",
       "(0018,5100) Patient Position                    CS: 'HFS'\n",
       "(0020,000D) Study Instance UID                  UI: 1.3.12.2.1107.5.2.43.166037.30000024062717022678300000031\n",
       "(0020,000E) Series Instance UID                 UI: 1.3.12.2.1107.5.2.43.166037.2024070315322350952271541.0.0.0\n",
       "(0020,0010) Study ID                            SH: '1'\n",
       "(0020,0011) Series Number                       IS: '10'\n",
       "(0020,0012) Acquisition Number                  IS: '1'\n",
       "(0020,0013) Instance Number                     IS: '2'\n",
       "(0020,0052) Frame of Reference UID              UI: 1.3.12.2.1107.5.2.43.166037.1.20240703151907485.0.0.0\n",
       "(0020,4000) Image Comments                      LT: Array of 21 elements\n",
       "(0029,0010) Private Creator                     LO: 'SIEMENS CSA NON-IMAGE'\n",
       "(0029,0011) Private Creator                     LO: 'SIEMENS CSA HEADER'\n",
       "(0029,0012) Private Creator                     LO: 'SIEMENS MEDCOM HEADER2'\n",
       "(0029,1008) [CSA Data Type]                     CS: 'SPEC NUM 4'\n",
       "(0029,1009) [CSA Data Version]                  LO: 'syngo MR E11'\n",
       "(0029,1108) [CSA Image Header Type]             CS: 'SPEC NUM 4'\n",
       "(0029,1109) [CSA Image Header Version]          LO: '20240703'\n",
       "(0029,1110) [CSA Image Header Info]             OB: Array of 14960 elements\n",
       "(0029,1118) [CSA Series Header Type]            CS: 'MR'\n",
       "(0029,1119) [CSA Series Header Version]         LO: '20240703'\n",
       "(0029,1120) [CSA Series Header Info]            OB: Array of 91160 elements\n",
       "(0029,1260) [Series Workflow Status]            LO: 'com'\n",
       "(0040,0244) Performed Procedure Step Start Date DA: '20240703'\n",
       "(0040,0245) Performed Procedure Step Start Time TM: '151907.415000'\n",
       "(0040,0253) Performed Procedure Step ID         SH: 'MR20240703151907'\n",
       "(0040,0254) Performed Procedure Step Descriptio LO: 'Development^FUS'\n",
       "(0040,0280) Comments on the Performed Procedure ST: ''\n",
       "(7FE1,0010) Private Creator                     LO: 'SIEMENS CSA NON-IMAGE'\n",
       "(7FE1,1010) [CSA Data]                          OB: Array of 4096 elements"
      ]
     },
     "execution_count": 5,
     "metadata": {},
     "output_type": "execute_result"
    }
   ],
   "execution_count": 5
  },
  {
   "metadata": {},
   "cell_type": "code",
   "outputs": [],
   "execution_count": null,
   "source": "",
   "id": "9ac25384a8f2bda3"
  }
 ],
 "metadata": {
  "kernelspec": {
   "display_name": "Python 3",
   "language": "python",
   "name": "python3"
  },
  "language_info": {
   "codemirror_mode": {
    "name": "ipython",
    "version": 2
   },
   "file_extension": ".py",
   "mimetype": "text/x-python",
   "name": "python",
   "nbconvert_exporter": "python",
   "pygments_lexer": "ipython2",
   "version": "2.7.6"
  }
 },
 "nbformat": 4,
 "nbformat_minor": 5
}
