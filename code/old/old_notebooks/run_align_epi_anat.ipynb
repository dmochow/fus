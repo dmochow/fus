{
 "cells": [
  {
   "cell_type": "code",
   "execution_count": 3,
   "metadata": {
    "collapsed": true
   },
   "outputs": [],
   "source": [
    "import afnipy\n",
    "import align_epi_anat"
   ]
  },
  {
   "cell_type": "code",
   "execution_count": null,
   "outputs": [],
   "source": [
    "anat = '../"
   ],
   "metadata": {
    "collapsed": false
   }
  },
  {
   "cell_type": "code",
   "execution_count": 2,
   "outputs": [
    {
     "ename": "AttributeError",
     "evalue": "module 'afnipy' has no attribute 'Align_epi_anat'",
     "output_type": "error",
     "traceback": [
      "\u001B[0;31m---------------------------------------------------------------------------\u001B[0m",
      "\u001B[0;31mAttributeError\u001B[0m                            Traceback (most recent call last)",
      "Cell \u001B[0;32mIn[2], line 1\u001B[0m\n\u001B[0;32m----> 1\u001B[0m \u001B[43mafnipy\u001B[49m\u001B[38;5;241;43m.\u001B[39;49m\u001B[43mAlign_epi_anat\u001B[49m()\n",
      "\u001B[0;31mAttributeError\u001B[0m: module 'afnipy' has no attribute 'Align_epi_anat'"
     ]
    }
   ],
   "source": [
    "!align_epi_anat.py -anat sb23_mpra+orig -epi epi_r03+orig \\\n",
    "   -epi2anat -ex_mode dry_run -epi_base 6 -child_epi epi_r??+orig.HEAD \\\n",
    "   -anat2epi -epi2anat -tlrc_apar sb23_mpra_at+tlrc -suffix _alx2"
   ],
   "metadata": {
    "collapsed": false
   }
  },
  {
   "cell_type": "code",
   "execution_count": null,
   "outputs": [],
   "source": [
    "#fmriprep ~/PROJECTS/fus/data/bold ~/PROJECTS/fus/data/fmriprep_out participant -w ~/PROJECTS/fus/data/fmriprep_working --fs-license-file ~/license.txt --mem 32 --nprocs 10\n"
   ],
   "metadata": {
    "collapsed": false
   }
  }
 ],
 "metadata": {
  "kernelspec": {
   "display_name": "Python 3",
   "language": "python",
   "name": "python3"
  },
  "language_info": {
   "codemirror_mode": {
    "name": "ipython",
    "version": 2
   },
   "file_extension": ".py",
   "mimetype": "text/x-python",
   "name": "python",
   "nbconvert_exporter": "python",
   "pygments_lexer": "ipython2",
   "version": "2.7.6"
  }
 },
 "nbformat": 4,
 "nbformat_minor": 0
}
