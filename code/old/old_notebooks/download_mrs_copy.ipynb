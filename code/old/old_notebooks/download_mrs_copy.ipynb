{
 "cells": [
  {
   "cell_type": "code",
   "execution_count": null,
   "outputs": [],
   "source": [
    "# cuny-mri.flywheel.io:djEhbcLgXzMrzELz7XHKFCXfZVSsl9cYDDRFs9Hhue6mjBowm8o_0J06Q\n",
    "# fw login cuny-mri.flywheel.io:djEhbcLgXzMrzELz7XHKFCXfZVSsl9cYDDRFs9Hhue6mjBowm8o_0J06Q"
   ],
   "metadata": {
    "collapsed": false
   }
  },
  {
   "cell_type": "code",
   "execution_count": 11,
   "outputs": [],
   "source": [
    "import os\n",
    "import glob\n",
    "import flywheel\n",
    "import logging\n",
    "import re\n",
    "import subprocess\n",
    "import zipfile\n",
    "import datetime\n",
    "import gc"
   ],
   "metadata": {
    "collapsed": false
   }
  },
  {
   "metadata": {},
   "cell_type": "code",
   "source": [
    "#Initialize the logger\n",
    "logging.basicConfig(filename='download_mrs.log', level=logging.INFO)\n",
    "logger = logging.getLogger()"
   ],
   "id": "37f0d38d345c5925",
   "outputs": [],
   "execution_count": 12
  },
  {
   "cell_type": "code",
   "execution_count": 13,
   "outputs": [],
   "source": [
    "#fw = flywheel.Client('cuny-mri.flywheel.io:djEhbcLgXzMrzELz7XHKFCXfZVSsl9cYDDRFs9Hhue6mjBowm8o_0J06Q')"
   ],
   "metadata": {
    "collapsed": false
   }
  },
  {
   "metadata": {},
   "cell_type": "code",
   "source": [
    "# Get API Key from local environment variables and initialize the Flywheel client\n",
    "#api_key = os.environ.get('API_KEY')\n",
    "fw = flywheel.Client(\"cuny-mri.flywheel.io:djEhbcLgXzMrzELz7XHKFCXfZVSsl9cYDDRFs9Hhue6mjBowm8o_0J06Q\")"
   ],
   "id": "3793bcda1ba83ca6",
   "outputs": [],
   "execution_count": 14
  },
  {
   "metadata": {},
   "cell_type": "code",
   "source": [
    "# Path where the MRS data will be downloaded\n",
    "root_path = '/Users/jacekdmochowski/PROJECTS/fus/data/'\n",
    "\n",
    "# Get the Flywheel Project\n",
    "project = fw.lookup('jacek/FusRelabeledCopy')"
   ],
   "id": "e817b01edb42f728",
   "outputs": [],
   "execution_count": 15
  },
  {
   "metadata": {
    "ExecuteTime": {
     "end_time": "2024-09-26T21:22:54.578708Z",
     "start_time": "2024-09-26T21:22:54.547896Z"
    }
   },
   "cell_type": "code",
   "source": [
    "def download_all_mrs(root_data):\n",
    "    #Get the group label\n",
    "    group_label = project.group\n",
    "    \n",
    "    #Iterate through all the files in the 'ACTIVE' and 'SHAM' sessions in the project\n",
    "    for subject in project.subjects():\n",
    "        \n",
    "        for session in subject.sessions():\n",
    "            \n",
    "            # Input the session labels with MRS data.\n",
    "            \n",
    "            if session.label == 'ACTIVE' or session.label == 'SHAM': \n",
    "                \n",
    "                for acquisition in session.acquisitions():\n",
    "                    \n",
    "                    acq_label = acquisition.label\n",
    "                    \n",
    "                    #Check if the acquisition label starts with 'mrs'\n",
    "                    \n",
    "                    if acq_label.startswith('mrs'):\n",
    "                        \n",
    "                        #Create the directory using the Flywheel hierarchy\n",
    "                        path = f'{root_path}\\\\{group_label}\\\\{project.label}\\\\{subject.label}\\\\{session.label}\\\\{acq_label}'\n",
    "                        os.makedirs(path, exist_ok=True)\n",
    "                        \n",
    "                        for file in acquisition.files:\n",
    "                            \n",
    "                            #Find the dicom file in the mrs acquisition\n",
    "                            if file.type == 'dicom':\n",
    "                                \n",
    "                                if file not in os.walk(path):\n",
    "                                    \n",
    "                                    try:\n",
    "                                        #Download the file from the acquisition.\n",
    "                                        \n",
    "                                        file_path = f'{path}\\\\{file.name}'\n",
    "                                        \n",
    "                                        file_name = f'sub-{subject.label}_ses-{session.label}_acq-{acq_label}'\n",
    "                                        \n",
    "                                        acquisition.download_file(file.name, file_path)\n",
    "                                        \n",
    "                                        # Open the zip file\n",
    "                                        with zipfile.ZipFile(file_path, 'r') as zip_ref:\n",
    "                                            #Extract the contents of the zip file to the path\n",
    "                                            zip_ref.extractall(path)\n",
    "                                            \n",
    "                                        #Delete compressed zip file\n",
    "                                        os.remove(file_path)\n",
    "                                        \n",
    "                                        #Rename the unzipped folder to the new file name\n",
    "                                        unzipped_folder = glob.glob(f'{path}\\\\*')[0]\n",
    "                                        os.rename(unzipped_folder, f'{path}\\\\{file_name}')\n",
    "                                        \n",
    "                                        logger.info(f'Downloaded {file.name} from {acq_label} in {session.label} for {subject.label}')\n",
    "                                        \n",
    "                                        print(f'Downloaded {file.name} from {acq_label} in {session.label} for {subject.label}')\n",
    "                                        \n",
    "                                    except Exception as e:\n",
    "                                        logger.error(f'Error downloading {file.name} from {acq_label} in {session.label} for {subject.label}. {e}')\n",
    "                                break\n"
   ],
   "id": "1ed36caf0ad20354",
   "outputs": [],
   "execution_count": 16
  },
  {
   "metadata": {
    "ExecuteTime": {
     "end_time": "2024-09-26T21:23:43.804112Z",
     "start_time": "2024-09-26T21:22:55.506231Z"
    }
   },
   "cell_type": "code",
   "source": [
    "download_all_mrs(root_path)"
   ],
   "id": "90f2fbb61eef505f",
   "outputs": [],
   "execution_count": 17
  },
  {
   "metadata": {},
   "cell_type": "code",
   "source": [],
   "id": "74995ab8d0de3249",
   "outputs": [],
   "execution_count": null
  },
  {
   "metadata": {},
   "cell_type": "code",
   "source": [],
   "id": "7c0a7c8d65207bf6",
   "outputs": [],
   "execution_count": null
  }
 ],
 "metadata": {
  "kernelspec": {
   "display_name": "Python 3",
   "language": "python",
   "name": "python3"
  },
  "language_info": {
   "codemirror_mode": {
    "name": "ipython",
    "version": 2
   },
   "file_extension": ".py",
   "mimetype": "text/x-python",
   "name": "python",
   "nbconvert_exporter": "python",
   "pygments_lexer": "ipython2",
   "version": "2.7.6"
  }
 },
 "nbformat": 4,
 "nbformat_minor": 5
}
