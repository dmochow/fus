{
 "cells": [
  {
   "metadata": {
    "ExecuteTime": {
     "end_time": "2024-06-17T15:16:34.513524Z",
     "start_time": "2024-06-17T15:16:32.441283Z"
    }
   },
   "cell_type": "code",
   "source": [
    "## Placeholder for a script that will download data from flywheel and save it to a local directory\n",
    "import os\n",
    "import flywheel\n",
    "import flywheel.api.acquisitions_api\n",
    "import flywheel.finder\n",
    "#import flywheel.flywheel\n",
    "#from pathlib import Path\n",
    "#import logging\n",
    "from getpass import getpass\n",
    "import datetime\n",
    "from time import sleep\n",
    "import platform\n",
    "import zipfile\n",
    "import re\n",
    "from crontab import CronTab"
   ],
   "outputs": [],
   "execution_count": 3
  },
  {
   "metadata": {
    "ExecuteTime": {
     "end_time": "2024-06-17T15:16:36.710162Z",
     "start_time": "2024-06-17T15:16:36.693792Z"
    }
   },
   "cell_type": "code",
   "source": [
    "#Specify the root project path here\n",
    "root_data = \"C:\\\\Users\\\\Charm\\\\projects\\\\test_folder\"\n",
    "reserved_characters = ['<', '>', ':', '\"', '/', '\\\\', '|', '?', '*']\n",
    "#Create an instance of AcquisitionsApi\n",
    "AcquisitionsApi = flywheel.api.acquisitions_api.AcquisitionsApi()\n",
    "#Enable long path names for Windows with Powershell Command.\n",
    "#if os.system == 'Windows':\n",
    "    #os.system('New-ItemProperty -Path \"HKLM:\\\\SYSTEM\\\\CurrentControlSet\\\\Control\\\\FileSystem\" \\' -Name \"LongPathsEnabled\" -Value 1 -PropertyType DWORD -Force')\n",
    "    #os.system('Set-ItemProperty -Path HKLM:SYSTEM\\CurrentControlSet\\Control\\FileSystem -Name LongPathsEnabled -Value 1')\n",
    "#else:\n",
    "    #pass\n",
    "    \n",
    "    \n"
   ],
   "outputs": [],
   "execution_count": 4
  },
  {
   "metadata": {
    "ExecuteTime": {
     "end_time": "2024-06-17T15:50:50.870710Z",
     "start_time": "2024-06-17T15:50:49.839873Z"
    }
   },
   "cell_type": "code",
   "source": [
    "jobScheduler = CronTab(user = 'Charm')\n",
    "job = jobScheduler.new(command = 'python get_scanner_data.ipynb')\n",
    "job.minute.every(10)\n",
    "jobScheduler.write()\n"
   ],
   "outputs": [
    {
     "ename": "FileNotFoundError",
     "evalue": "[WinError 2] The system cannot find the file specified",
     "output_type": "error",
     "traceback": [
      "\u001B[1;31m---------------------------------------------------------------------------\u001B[0m",
      "\u001B[1;31mFileNotFoundError\u001B[0m                         Traceback (most recent call last)",
      "Cell \u001B[1;32mIn[16], line 1\u001B[0m\n\u001B[1;32m----> 1\u001B[0m jobScheduler \u001B[38;5;241m=\u001B[39m \u001B[43mCronTab\u001B[49m\u001B[43m(\u001B[49m\u001B[43muser\u001B[49m\u001B[43m \u001B[49m\u001B[38;5;241;43m=\u001B[39;49m\u001B[43m \u001B[49m\u001B[38;5;124;43m'\u001B[39;49m\u001B[38;5;124;43mCharm\u001B[39;49m\u001B[38;5;124;43m'\u001B[39;49m\u001B[43m)\u001B[49m\n\u001B[0;32m      2\u001B[0m job \u001B[38;5;241m=\u001B[39m jobScheduler\u001B[38;5;241m.\u001B[39mnew(command \u001B[38;5;241m=\u001B[39m \u001B[38;5;124m'\u001B[39m\u001B[38;5;124mpython get_scanner_data.ipynb\u001B[39m\u001B[38;5;124m'\u001B[39m)\n\u001B[0;32m      3\u001B[0m job\u001B[38;5;241m.\u001B[39mminute\u001B[38;5;241m.\u001B[39mevery(\u001B[38;5;241m10\u001B[39m)\n",
      "File \u001B[1;32m~\\miniconda3\\envs\\fus\\lib\\site-packages\\crontab.py:245\u001B[0m, in \u001B[0;36mCronTab.__init__\u001B[1;34m(self, user, tab, tabfile, log)\u001B[0m\n\u001B[0;32m    243\u001B[0m \u001B[38;5;28mself\u001B[39m\u001B[38;5;241m.\u001B[39mintab \u001B[38;5;241m=\u001B[39m tab\n\u001B[0;32m    244\u001B[0m \u001B[38;5;28mself\u001B[39m\u001B[38;5;241m.\u001B[39mtabfile \u001B[38;5;241m=\u001B[39m tabfile\n\u001B[1;32m--> 245\u001B[0m \u001B[38;5;28;43mself\u001B[39;49m\u001B[38;5;241;43m.\u001B[39;49m\u001B[43mread\u001B[49m\u001B[43m(\u001B[49m\u001B[43mtabfile\u001B[49m\u001B[43m)\u001B[49m\n\u001B[0;32m    246\u001B[0m \u001B[38;5;28mself\u001B[39m\u001B[38;5;241m.\u001B[39m_log \u001B[38;5;241m=\u001B[39m log\n",
      "File \u001B[1;32m~\\miniconda3\\envs\\fus\\lib\\site-packages\\crontab.py:308\u001B[0m, in \u001B[0;36mCronTab.read\u001B[1;34m(self, filename)\u001B[0m\n\u001B[0;32m    305\u001B[0m         lines \u001B[38;5;241m=\u001B[39m fhl\u001B[38;5;241m.\u001B[39mreadlines()\n\u001B[0;32m    307\u001B[0m \u001B[38;5;28;01melif\u001B[39;00m \u001B[38;5;28mself\u001B[39m\u001B[38;5;241m.\u001B[39muser:\n\u001B[1;32m--> 308\u001B[0m     process \u001B[38;5;241m=\u001B[39m \u001B[43mProcess\u001B[49m\u001B[43m(\u001B[49m\u001B[38;5;28;43mself\u001B[39;49m\u001B[38;5;241;43m.\u001B[39;49m\u001B[43mcron_command\u001B[49m\u001B[43m,\u001B[49m\u001B[43m \u001B[49m\u001B[43ml\u001B[49m\u001B[38;5;241;43m=\u001B[39;49m\u001B[38;5;124;43m'\u001B[39;49m\u001B[38;5;124;43m'\u001B[39;49m\u001B[43m,\u001B[49m\u001B[43m \u001B[49m\u001B[38;5;241;43m*\u001B[39;49m\u001B[38;5;241;43m*\u001B[39;49m\u001B[38;5;28;43mself\u001B[39;49m\u001B[38;5;241;43m.\u001B[39;49m\u001B[43muser_opt\u001B[49m\u001B[43m)\u001B[49m\u001B[38;5;241;43m.\u001B[39;49m\u001B[43mrun\u001B[49m\u001B[43m(\u001B[49m\u001B[43m)\u001B[49m\n\u001B[0;32m    309\u001B[0m     \u001B[38;5;28;01mif\u001B[39;00m process\u001B[38;5;241m.\u001B[39mstderr \u001B[38;5;129;01mand\u001B[39;00m \u001B[38;5;124m'\u001B[39m\u001B[38;5;124mno crontab for\u001B[39m\u001B[38;5;124m'\u001B[39m \u001B[38;5;129;01mnot\u001B[39;00m \u001B[38;5;129;01min\u001B[39;00m process\u001B[38;5;241m.\u001B[39mstderr:\n\u001B[0;32m    310\u001B[0m         \u001B[38;5;28;01mraise\u001B[39;00m \u001B[38;5;167;01mIOError\u001B[39;00m(\u001B[38;5;124mf\u001B[39m\u001B[38;5;124m\"\u001B[39m\u001B[38;5;124mRead crontab \u001B[39m\u001B[38;5;132;01m{\u001B[39;00m\u001B[38;5;28mself\u001B[39m\u001B[38;5;241m.\u001B[39muser\u001B[38;5;132;01m}\u001B[39;00m\u001B[38;5;124m: \u001B[39m\u001B[38;5;132;01m{\u001B[39;00mprocess\u001B[38;5;241m.\u001B[39mstderr\u001B[38;5;132;01m}\u001B[39;00m\u001B[38;5;124m\"\u001B[39m)\n",
      "File \u001B[1;32m~\\miniconda3\\envs\\fus\\lib\\site-packages\\crontab.py:197\u001B[0m, in \u001B[0;36mProcess.run\u001B[1;34m(self)\u001B[0m\n\u001B[0;32m    195\u001B[0m \u001B[38;5;28;01mdef\u001B[39;00m \u001B[38;5;21mrun\u001B[39m(\u001B[38;5;28mself\u001B[39m):\n\u001B[0;32m    196\u001B[0m \u001B[38;5;250m    \u001B[39m\u001B[38;5;124;03m\"\"\"Run this process and store whatever is returned\"\"\"\u001B[39;00m\n\u001B[1;32m--> 197\u001B[0m     process \u001B[38;5;241m=\u001B[39m \u001B[38;5;28;43mself\u001B[39;49m\u001B[38;5;241;43m.\u001B[39;49m\u001B[43m_run\u001B[49m\u001B[43m(\u001B[49m\u001B[43m)\u001B[49m\n\u001B[0;32m    198\u001B[0m     (out, err) \u001B[38;5;241m=\u001B[39m process\u001B[38;5;241m.\u001B[39mcommunicate()\n\u001B[0;32m    199\u001B[0m     \u001B[38;5;28mself\u001B[39m\u001B[38;5;241m.\u001B[39mreturncode \u001B[38;5;241m=\u001B[39m process\u001B[38;5;241m.\u001B[39mreturncode\n",
      "File \u001B[1;32m~\\miniconda3\\envs\\fus\\lib\\site-packages\\crontab.py:193\u001B[0m, in \u001B[0;36mProcess._run\u001B[1;34m(self)\u001B[0m\n\u001B[0;32m    191\u001B[0m \u001B[38;5;28;01mdef\u001B[39;00m \u001B[38;5;21m_run\u001B[39m(\u001B[38;5;28mself\u001B[39m):\n\u001B[0;32m    192\u001B[0m \u001B[38;5;250m    \u001B[39m\u001B[38;5;124;03m\"\"\"Run this process and return the popen process object\"\"\"\u001B[39;00m\n\u001B[1;32m--> 193\u001B[0m     \u001B[38;5;28;01mreturn\u001B[39;00m \u001B[43msp\u001B[49m\u001B[38;5;241;43m.\u001B[39;49m\u001B[43mPopen\u001B[49m\u001B[43m(\u001B[49m\u001B[38;5;28;43mself\u001B[39;49m\u001B[38;5;241;43m.\u001B[39;49m\u001B[43margs\u001B[49m\u001B[43m,\u001B[49m\u001B[43m \u001B[49m\u001B[43mstdout\u001B[49m\u001B[38;5;241;43m=\u001B[39;49m\u001B[43msp\u001B[49m\u001B[38;5;241;43m.\u001B[39;49m\u001B[43mPIPE\u001B[49m\u001B[43m,\u001B[49m\u001B[43m \u001B[49m\u001B[43mstderr\u001B[49m\u001B[38;5;241;43m=\u001B[39;49m\u001B[43msp\u001B[49m\u001B[38;5;241;43m.\u001B[39;49m\u001B[43mPIPE\u001B[49m\u001B[43m,\u001B[49m\u001B[43m \u001B[49m\u001B[43menv\u001B[49m\u001B[38;5;241;43m=\u001B[39;49m\u001B[38;5;28;43mself\u001B[39;49m\u001B[38;5;241;43m.\u001B[39;49m\u001B[43menv\u001B[49m\u001B[43m)\u001B[49m\n",
      "File \u001B[1;32m~\\miniconda3\\envs\\fus\\lib\\subprocess.py:858\u001B[0m, in \u001B[0;36mPopen.__init__\u001B[1;34m(self, args, bufsize, executable, stdin, stdout, stderr, preexec_fn, close_fds, shell, cwd, env, universal_newlines, startupinfo, creationflags, restore_signals, start_new_session, pass_fds, encoding, errors, text)\u001B[0m\n\u001B[0;32m    854\u001B[0m         \u001B[38;5;28;01mif\u001B[39;00m \u001B[38;5;28mself\u001B[39m\u001B[38;5;241m.\u001B[39mtext_mode:\n\u001B[0;32m    855\u001B[0m             \u001B[38;5;28mself\u001B[39m\u001B[38;5;241m.\u001B[39mstderr \u001B[38;5;241m=\u001B[39m io\u001B[38;5;241m.\u001B[39mTextIOWrapper(\u001B[38;5;28mself\u001B[39m\u001B[38;5;241m.\u001B[39mstderr,\n\u001B[0;32m    856\u001B[0m                     encoding\u001B[38;5;241m=\u001B[39mencoding, errors\u001B[38;5;241m=\u001B[39merrors)\n\u001B[1;32m--> 858\u001B[0m     \u001B[38;5;28;43mself\u001B[39;49m\u001B[38;5;241;43m.\u001B[39;49m\u001B[43m_execute_child\u001B[49m\u001B[43m(\u001B[49m\u001B[43margs\u001B[49m\u001B[43m,\u001B[49m\u001B[43m \u001B[49m\u001B[43mexecutable\u001B[49m\u001B[43m,\u001B[49m\u001B[43m \u001B[49m\u001B[43mpreexec_fn\u001B[49m\u001B[43m,\u001B[49m\u001B[43m \u001B[49m\u001B[43mclose_fds\u001B[49m\u001B[43m,\u001B[49m\n\u001B[0;32m    859\u001B[0m \u001B[43m                        \u001B[49m\u001B[43mpass_fds\u001B[49m\u001B[43m,\u001B[49m\u001B[43m \u001B[49m\u001B[43mcwd\u001B[49m\u001B[43m,\u001B[49m\u001B[43m \u001B[49m\u001B[43menv\u001B[49m\u001B[43m,\u001B[49m\n\u001B[0;32m    860\u001B[0m \u001B[43m                        \u001B[49m\u001B[43mstartupinfo\u001B[49m\u001B[43m,\u001B[49m\u001B[43m \u001B[49m\u001B[43mcreationflags\u001B[49m\u001B[43m,\u001B[49m\u001B[43m \u001B[49m\u001B[43mshell\u001B[49m\u001B[43m,\u001B[49m\n\u001B[0;32m    861\u001B[0m \u001B[43m                        \u001B[49m\u001B[43mp2cread\u001B[49m\u001B[43m,\u001B[49m\u001B[43m \u001B[49m\u001B[43mp2cwrite\u001B[49m\u001B[43m,\u001B[49m\n\u001B[0;32m    862\u001B[0m \u001B[43m                        \u001B[49m\u001B[43mc2pread\u001B[49m\u001B[43m,\u001B[49m\u001B[43m \u001B[49m\u001B[43mc2pwrite\u001B[49m\u001B[43m,\u001B[49m\n\u001B[0;32m    863\u001B[0m \u001B[43m                        \u001B[49m\u001B[43merrread\u001B[49m\u001B[43m,\u001B[49m\u001B[43m \u001B[49m\u001B[43merrwrite\u001B[49m\u001B[43m,\u001B[49m\n\u001B[0;32m    864\u001B[0m \u001B[43m                        \u001B[49m\u001B[43mrestore_signals\u001B[49m\u001B[43m,\u001B[49m\u001B[43m \u001B[49m\u001B[43mstart_new_session\u001B[49m\u001B[43m)\u001B[49m\n\u001B[0;32m    865\u001B[0m \u001B[38;5;28;01mexcept\u001B[39;00m:\n\u001B[0;32m    866\u001B[0m     \u001B[38;5;66;03m# Cleanup if the child failed starting.\u001B[39;00m\n\u001B[0;32m    867\u001B[0m     \u001B[38;5;28;01mfor\u001B[39;00m f \u001B[38;5;129;01min\u001B[39;00m \u001B[38;5;28mfilter\u001B[39m(\u001B[38;5;28;01mNone\u001B[39;00m, (\u001B[38;5;28mself\u001B[39m\u001B[38;5;241m.\u001B[39mstdin, \u001B[38;5;28mself\u001B[39m\u001B[38;5;241m.\u001B[39mstdout, \u001B[38;5;28mself\u001B[39m\u001B[38;5;241m.\u001B[39mstderr)):\n",
      "File \u001B[1;32m~\\miniconda3\\envs\\fus\\lib\\subprocess.py:1327\u001B[0m, in \u001B[0;36mPopen._execute_child\u001B[1;34m(self, args, executable, preexec_fn, close_fds, pass_fds, cwd, env, startupinfo, creationflags, shell, p2cread, p2cwrite, c2pread, c2pwrite, errread, errwrite, unused_restore_signals, unused_start_new_session)\u001B[0m\n\u001B[0;32m   1325\u001B[0m \u001B[38;5;66;03m# Start the process\u001B[39;00m\n\u001B[0;32m   1326\u001B[0m \u001B[38;5;28;01mtry\u001B[39;00m:\n\u001B[1;32m-> 1327\u001B[0m     hp, ht, pid, tid \u001B[38;5;241m=\u001B[39m \u001B[43m_winapi\u001B[49m\u001B[38;5;241;43m.\u001B[39;49m\u001B[43mCreateProcess\u001B[49m\u001B[43m(\u001B[49m\u001B[43mexecutable\u001B[49m\u001B[43m,\u001B[49m\u001B[43m \u001B[49m\u001B[43margs\u001B[49m\u001B[43m,\u001B[49m\n\u001B[0;32m   1328\u001B[0m \u001B[43m                             \u001B[49m\u001B[38;5;66;43;03m# no special security\u001B[39;49;00m\n\u001B[0;32m   1329\u001B[0m \u001B[43m                             \u001B[49m\u001B[38;5;28;43;01mNone\u001B[39;49;00m\u001B[43m,\u001B[49m\u001B[43m \u001B[49m\u001B[38;5;28;43;01mNone\u001B[39;49;00m\u001B[43m,\u001B[49m\n\u001B[0;32m   1330\u001B[0m \u001B[43m                             \u001B[49m\u001B[38;5;28;43mint\u001B[39;49m\u001B[43m(\u001B[49m\u001B[38;5;129;43;01mnot\u001B[39;49;00m\u001B[43m \u001B[49m\u001B[43mclose_fds\u001B[49m\u001B[43m)\u001B[49m\u001B[43m,\u001B[49m\n\u001B[0;32m   1331\u001B[0m \u001B[43m                             \u001B[49m\u001B[43mcreationflags\u001B[49m\u001B[43m,\u001B[49m\n\u001B[0;32m   1332\u001B[0m \u001B[43m                             \u001B[49m\u001B[43menv\u001B[49m\u001B[43m,\u001B[49m\n\u001B[0;32m   1333\u001B[0m \u001B[43m                             \u001B[49m\u001B[43mcwd\u001B[49m\u001B[43m,\u001B[49m\n\u001B[0;32m   1334\u001B[0m \u001B[43m                             \u001B[49m\u001B[43mstartupinfo\u001B[49m\u001B[43m)\u001B[49m\n\u001B[0;32m   1335\u001B[0m \u001B[38;5;28;01mfinally\u001B[39;00m:\n\u001B[0;32m   1336\u001B[0m     \u001B[38;5;66;03m# Child is launched. Close the parent's copy of those pipe\u001B[39;00m\n\u001B[0;32m   1337\u001B[0m     \u001B[38;5;66;03m# handles that only the child should have open.  You need\u001B[39;00m\n\u001B[1;32m   (...)\u001B[0m\n\u001B[0;32m   1340\u001B[0m     \u001B[38;5;66;03m# pipe will not close when the child process exits and the\u001B[39;00m\n\u001B[0;32m   1341\u001B[0m     \u001B[38;5;66;03m# ReadFile will hang.\u001B[39;00m\n\u001B[0;32m   1342\u001B[0m     \u001B[38;5;28mself\u001B[39m\u001B[38;5;241m.\u001B[39m_close_pipe_fds(p2cread, p2cwrite,\n\u001B[0;32m   1343\u001B[0m                          c2pread, c2pwrite,\n\u001B[0;32m   1344\u001B[0m                          errread, errwrite)\n",
      "\u001B[1;31mFileNotFoundError\u001B[0m: [WinError 2] The system cannot find the file specified"
     ]
    }
   ],
   "execution_count": 16
  },
  {
   "metadata": {
    "ExecuteTime": {
     "end_time": "2024-06-17T15:16:53.048131Z",
     "start_time": "2024-06-17T15:16:50.088316Z"
    }
   },
   "cell_type": "code",
   "source": [
    "#Have the user enter their API key\n",
    "api_key = getpass('Please enter your API key: ')\n",
    "#Initialize the client \n",
    "fw = flywheel.Client(api_key)\n",
    "#Delete the API key\n",
    "del api_key"
   ],
   "outputs": [],
   "execution_count": 5
  },
  {
   "metadata": {
    "ExecuteTime": {
     "end_time": "2024-06-17T15:16:59.477085Z",
     "start_time": "2024-06-17T15:16:59.467228Z"
    }
   },
   "cell_type": "code",
   "source": [
    "#Create an instance of Finder\n",
    "Finder = flywheel.finder.Finder(fw, 'iter_find')"
   ],
   "outputs": [],
   "execution_count": 6
  },
  {
   "metadata": {
    "ExecuteTime": {
     "end_time": "2024-06-17T15:17:12.387356Z",
     "start_time": "2024-06-17T15:17:12.378970Z"
    }
   },
   "cell_type": "code",
   "source": [
    "os.path.exists(root_data)\n",
    "test_resolver_path = 'fw://group_id/project_id/subject_id/session_id/acquisition_id/files/file_id'\n",
    "print(platform.system())"
   ],
   "outputs": [
    {
     "name": "stdout",
     "output_type": "stream",
     "text": [
      "Windows\n"
     ]
    }
   ],
   "execution_count": 7
  },
  {
   "metadata": {
    "ExecuteTime": {
     "end_time": "2024-06-17T15:20:24.993499Z",
     "start_time": "2024-06-17T15:20:18.413487Z"
    }
   },
   "cell_type": "code",
   "source": [
    "datetime_now = '2024-06-10T00:00:00.000'\n",
    "#Other parameters include: container.timestamp, container.modified, container.created, file.created, file.modified, file.size, file.name, file.type and file.classification.Measurement\n",
    "#CASE SENSITIVE\n",
    "group_label = input('Please type in the name of the group you would like to automatically download updates from: ')\n",
    "project_label = input('Please type in the name of the project you would like to automatically download updates from: ')\n",
    "#Temporarily, the project that we will iterate through is fus\n",
    "nifti_query = f'file.created >= {datetime_now}Z AND project.label = {project_label} AND group.label = {group_label} AND file.type = nifti'\n",
    "#json_query = f'file.created >= {datetime_now}Z AND project.label = {project_label} AND group.label = {group_label} AND file.type = json'\n",
    "#dicom_query = f'file.created >= {datetime_now}Z AND project.label = {project_label} AND group.label = {group_label} AND file.type = dicom'\n",
    "\n",
    "search_input = {'structured_query': nifti_query, 'return_type': 'file'}\n",
    "\n",
    "new_files_list = fw.search(search_input, size = 10000)\n",
    "print(new_files_list[0])\n",
    "subject_id = new_files_list[0]['subject']['id']\n",
    "file_name = new_files_list[0]['file']['name']\n",
    "print(fw.files.find(f'name={file_name}'))\n",
    "#18:33:14.582000+00:00\n",
    "#print(new_files_list[0], new_files_list[0]['subject']['created'])\n",
    "#subject = fw.get_subject(new_files_list[0]['subject']['id'])\n",
    "\n",
    "    \n",
    "#Finder objects: [0]['parents']['acquisition'] vs. Search objects: ['acquisition']\n",
    "#*Note to Self: id = jacek label = JACEK\n",
    "#Cannot index the id from the search object\n",
    "\n",
    "#ReadTimeoutError: HTTPSConnectionPool(host='api.flywheel.io', port=443): Read timed out. (read timeout=30) => Likely occurring due to the sheer number of results \n",
    "        "
   ],
   "outputs": [
    {
     "name": "stdout",
     "output_type": "stream",
     "text": [
      "{'acquisition': None,\n",
      " 'analysis': None,\n",
      " 'collection': None,\n",
      " 'file': {'classification': {},\n",
      "          'created': datetime.datetime(2024, 6, 10, 18, 34, 11, 295000, tzinfo=tzutc()),\n",
      "          'name': '1_3_12_2_1107_5_2_43_166037_2024061014341577233674584_0_0_0_i00001.nii.gz',\n",
      "          'size': 38645,\n",
      "          'type': 'nifti'},\n",
      " 'group': {'id': 'jacek', 'label': 'JACEK'},\n",
      " 'parent': {'analyses': None,\n",
      "            'collections': None,\n",
      "            'copy_of': None,\n",
      "            'created': None,\n",
      "            'files': None,\n",
      "            'id': '6667470e1f8a8739e2655cb2',\n",
      "            'info': None,\n",
      "            'info_exists': None,\n",
      "            'join_origin': None,\n",
      "            'label': None,\n",
      "            'metadata': None,\n",
      "            'modified': None,\n",
      "            'notes': None,\n",
      "            'original_copy_of': None,\n",
      "            'parents': None,\n",
      "            'permissions': None,\n",
      "            'revision': 1,\n",
      "            'session': None,\n",
      "            'tags': None,\n",
      "            'timestamp': None,\n",
      "            'timezone': None,\n",
      "            'uid': None},\n",
      " 'permissions': [{'id': 'ashereen@gc.cuny.edu',\n",
      "                  'role_ids': ['5f071f2c61ebf8000ec33406']},\n",
      "                 {'id': 'dmochowski@gmail.com',\n",
      "                  'role_ids': ['5f071f2c61ebf8000ec33407']}],\n",
      " 'project': {'id': '654bd882449351a672bcafd2', 'label': 'FUS'},\n",
      " 'return_type': <SearchReturnType.FILE: 'file'>,\n",
      " 'session': {'created': datetime.datetime(2024, 6, 10, 18, 33, 14, 582000, tzinfo=tzutc()),\n",
      "             'id': '666746ea1f8a8739e2655cae',\n",
      "             'label': 'unknown',\n",
      "             'timestamp': datetime.datetime(2024, 6, 10, 14, 33, 24, tzinfo=tzutc())},\n",
      " 'subject': {'code': 'MRS_JD1_PRE',\n",
      "             'created': datetime.datetime(2024, 6, 10, 18, 33, 14, 582000, tzinfo=tzutc()),\n",
      "             'id': '666746ea1f8a8739e2655cad'}}\n"
     ]
    },
    {
     "ename": "AttributeError",
     "evalue": "Invalid attribute name: id",
     "output_type": "error",
     "traceback": [
      "\u001B[1;31m---------------------------------------------------------------------------\u001B[0m",
      "\u001B[1;31mAttributeError\u001B[0m                            Traceback (most recent call last)",
      "Cell \u001B[1;32mIn[10], line 14\u001B[0m\n\u001B[0;32m     12\u001B[0m new_files_list \u001B[38;5;241m=\u001B[39m fw\u001B[38;5;241m.\u001B[39msearch(search_input, size \u001B[38;5;241m=\u001B[39m \u001B[38;5;241m10000\u001B[39m)\n\u001B[0;32m     13\u001B[0m \u001B[38;5;28mprint\u001B[39m(new_files_list[\u001B[38;5;241m0\u001B[39m])\n\u001B[1;32m---> 14\u001B[0m subject_id \u001B[38;5;241m=\u001B[39m \u001B[43mnew_files_list\u001B[49m\u001B[43m[\u001B[49m\u001B[38;5;241;43m0\u001B[39;49m\u001B[43m]\u001B[49m\u001B[43m[\u001B[49m\u001B[38;5;124;43m'\u001B[39;49m\u001B[38;5;124;43msubject\u001B[39;49m\u001B[38;5;124;43m'\u001B[39;49m\u001B[43m]\u001B[49m\u001B[43m[\u001B[49m\u001B[38;5;124;43m'\u001B[39;49m\u001B[38;5;124;43mid\u001B[39;49m\u001B[38;5;124;43m'\u001B[39;49m\u001B[43m]\u001B[49m\n\u001B[0;32m     15\u001B[0m file_name \u001B[38;5;241m=\u001B[39m new_files_list[\u001B[38;5;241m0\u001B[39m][\u001B[38;5;124m'\u001B[39m\u001B[38;5;124mfile\u001B[39m\u001B[38;5;124m'\u001B[39m][\u001B[38;5;124m'\u001B[39m\u001B[38;5;124mname\u001B[39m\u001B[38;5;124m'\u001B[39m]\n\u001B[0;32m     16\u001B[0m \u001B[38;5;28mprint\u001B[39m(fw\u001B[38;5;241m.\u001B[39mfiles\u001B[38;5;241m.\u001B[39mfind(\u001B[38;5;124mf\u001B[39m\u001B[38;5;124m'\u001B[39m\u001B[38;5;124mname=\u001B[39m\u001B[38;5;132;01m{\u001B[39;00mfile_name\u001B[38;5;132;01m}\u001B[39;00m\u001B[38;5;124m'\u001B[39m))\n",
      "File \u001B[1;32m~\\miniconda3\\envs\\fus\\lib\\site-packages\\flywheel\\models\\search_subject_response.py:184\u001B[0m, in \u001B[0;36mSearchSubjectResponse.__getitem__\u001B[1;34m(self, key)\u001B[0m\n\u001B[0;32m    182\u001B[0m \u001B[38;5;28;01mdef\u001B[39;00m \u001B[38;5;21m__getitem__\u001B[39m(\u001B[38;5;28mself\u001B[39m, key):\n\u001B[0;32m    183\u001B[0m \u001B[38;5;250m    \u001B[39m\u001B[38;5;124;03m\"\"\"Returns the value of key\"\"\"\u001B[39;00m\n\u001B[1;32m--> 184\u001B[0m     key \u001B[38;5;241m=\u001B[39m \u001B[38;5;28;43mself\u001B[39;49m\u001B[38;5;241;43m.\u001B[39;49m\u001B[43m_map_key\u001B[49m\u001B[43m(\u001B[49m\u001B[43mkey\u001B[49m\u001B[43m)\u001B[49m\n\u001B[0;32m    185\u001B[0m     \u001B[38;5;28;01mreturn\u001B[39;00m \u001B[38;5;28mgetattr\u001B[39m(\u001B[38;5;28mself\u001B[39m, key)\n",
      "File \u001B[1;32m~\\miniconda3\\envs\\fus\\lib\\site-packages\\flywheel\\models\\search_subject_response.py:222\u001B[0m, in \u001B[0;36mSearchSubjectResponse._map_key\u001B[1;34m(self, key, raise_on_error)\u001B[0m\n\u001B[0;32m    220\u001B[0m \u001B[38;5;28;01mif\u001B[39;00m result \u001B[38;5;129;01mis\u001B[39;00m \u001B[38;5;28;01mNone\u001B[39;00m:\n\u001B[0;32m    221\u001B[0m     \u001B[38;5;28;01mif\u001B[39;00m raise_on_error:\n\u001B[1;32m--> 222\u001B[0m         \u001B[38;5;28;01mraise\u001B[39;00m \u001B[38;5;167;01mAttributeError\u001B[39;00m(\u001B[38;5;124m'\u001B[39m\u001B[38;5;124mInvalid attribute name: \u001B[39m\u001B[38;5;132;01m{}\u001B[39;00m\u001B[38;5;124m'\u001B[39m\u001B[38;5;241m.\u001B[39mformat(key))\n\u001B[0;32m    223\u001B[0m     \u001B[38;5;28;01mreturn\u001B[39;00m \u001B[38;5;28;01mNone\u001B[39;00m\n\u001B[0;32m    224\u001B[0m \u001B[38;5;28;01mreturn\u001B[39;00m \u001B[38;5;124m'\u001B[39m\u001B[38;5;124m_\u001B[39m\u001B[38;5;124m'\u001B[39m \u001B[38;5;241m+\u001B[39m result\n",
      "\u001B[1;31mAttributeError\u001B[0m: Invalid attribute name: id"
     ]
    }
   ],
   "execution_count": 10
  },
  {
   "metadata": {
    "ExecuteTime": {
     "end_time": "2024-06-17T15:30:55.632211Z",
     "start_time": "2024-06-17T15:30:55.616954Z"
    }
   },
   "cell_type": "code",
   "source": [
    "datetime_now = '2024-06-15T00:00:00.000'\n",
    "\n",
    "#Returns a list of dictionaries.\n",
    "file_ids = []\n",
    "path = []\n",
    "#Returns a list of dictionaries, will get index out of range error if the list is empty.\n",
    "#new_acquisitions_list = fw.acquisitions.find('created>2024-05-15')\n",
    "#List all possible file types.\n",
    "file_types = ['nifti', 'json', 'dicom', 'zip']"
   ],
   "outputs": [],
   "execution_count": 13
  },
  {
   "metadata": {
    "ExecuteTime": {
     "end_time": "2024-06-14T17:01:07.041032Z",
     "start_time": "2024-06-14T17:01:07.016182Z"
    }
   },
   "cell_type": "code",
   "source": [
    "#Return datetime in the format year-month-dayThour:minute:second:millisecond\n",
    "datetime_now = datetime.datetime.now() \n",
    "pattern = re.compile(r'\\s')\n",
    "\n",
    "print(datetime_now, pattern)\n",
    "\n",
    "#Replace the space with a T\n",
    "datetime_now = pattern.sub('T', str(datetime))\n",
    "\n",
    "print(datetime_now)\n",
    "\n",
    "datetime_now = str(datetime.datetime.now())\n",
    "datetime_now = datetime_now.replace(' ', 'T')\n",
    "print(datetime_now)"
   ],
   "outputs": [
    {
     "name": "stdout",
     "output_type": "stream",
     "text": [
      "2024-06-14 13:01:07.024210 re.compile('\\\\s')\n",
      "<moduleT'datetime'TfromT'C:\\\\Users\\\\Charm\\\\miniconda3\\\\envs\\\\fus\\\\lib\\\\datetime.py'>\n",
      "2024-06-14T13:01:07.024210\n"
     ]
    }
   ],
   "execution_count": 19
  },
  {
   "metadata": {
    "ExecuteTime": {
     "end_time": "2024-06-15T02:25:12.027486Z",
     "start_time": "2024-06-15T02:25:07.812020Z"
    }
   },
   "cell_type": "code",
   "source": [
    "*/10*2-6***1-6\n",
    "\n",
    "def check_for_updates():\n",
    "    global datetime_now \n",
    "\n",
    "    #datetime_now = str(datetime_now)\n",
    "    #datetime_now = datetime_now.replace(' ', 'T')\n",
    "\n",
    "    #User inputs the group and project they would like to check for updates from, might need to put these statements outside of the function if scheduling the function to run at a specific time.\n",
    "    group_label = input('Please type in the name of the group you would like to automatically download updates from: ')\n",
    "    project_label = input('Please type in the name of the project you would like to automatically download updates from: ')\n",
    "    \n",
    "    #Check for updates for all file types separately\n",
    "    nifti_query = f'file.created >= {datetime_now}Z AND project.label = {project_label} AND group.label = {group_label} AND file.type = nifti'\n",
    "    json_query = f'file.created >= {datetime_now}Z AND project.label = {project_label} AND group.label = {group_label} AND file.type = json'\n",
    "    dicom_query = f'file.created >= {datetime_now}Z AND project.label = {project_label} AND group.label = {group_label} AND file.type = dicom'\n",
    "    zip_query = f'file.created >= {datetime_now}Z AND project.label = {project_label} AND group.label = {group_label} AND file.type = zip'\n",
    "    \n",
    "    #Create a list of the search objects for the separate files\n",
    "    query_list = [nifti_query, json_query, dicom_query, zip_query]\n",
    "\n",
    "    for query in query_list:\n",
    "        search_input = {'structured_query': query, 'return_type': 'file'}\n",
    "        #Removed the size parameter to see if the error persists.\n",
    "        new_files_list =fw.search(search_input, size = 10000)\n",
    "        print(len(new_files_list))\n",
    "        if len(new_files_list) == 0:\n",
    "            pass\n",
    "        else:\n",
    "            #For all the search objects, get the containers names except for the acquisition, and use the .find function to get the \n",
    "            for new_file in new_files_list:\n",
    "                print(new_files_list.index(new_file))\n",
    "                file_name = new_file['file']['name']\n",
    "                new_file_name = file_name\n",
    "                subject_label = new_file['subject']['code']\n",
    "                session_label = new_file['session']['label']\n",
    "                find_file_object = fw.files.find(f'name={file_name}')\n",
    "                #print(new_file_object)\n",
    "                acquisition_id = find_file_object[0]['parents']['acquisition']\n",
    "                acquisition = fw.get_acquisition(acquisition_id)\n",
    "                \n",
    "                for character in file_name:\n",
    "                    if character in reserved_characters:\n",
    "                        new_file_name = new_file_name.replace(character, '_')\n",
    "                #print(type(new_file_name), new_file_name)\n",
    "                #Create a new directory for the group in the local directory.\n",
    "                try:\n",
    "                    if platform.system() == 'Windows':\n",
    "                        path = f'{root_data}\\\\{group_label}\\\\{project_label}\\\\{subject_label}\\\\{session_label}\\\\{acquisition.label}'\n",
    "                        os.makedirs(path)\n",
    "                    else:\n",
    "                        path = f'{root_data}/{group_label}/{project_label}/{subject_label}/{session_label}/{acquisition.label}'\n",
    "                        os.makedirs(path)\n",
    "                except OSError:\n",
    "                    pass\n",
    "                if new_file not in os.walk(path):\n",
    "                    if platform.system() == 'Windows':\n",
    "                        acquisition.download_file(file_name, path + '\\\\' + new_file_name)\n",
    "                    else:\n",
    "                        acquisition.download_file(file_name, path + '/' + new_file_name)\n",
    "    \n",
    "    #Return datetime in the format year-month-dayThour:minute:second:millisecond\n",
    "    datetime_now = datetime.datetime.now() \n",
    "    datetime_now = str(datetime.datetime.now())\n",
    "    #Replace the space with a T\n",
    "    datetime_now = datetime_now.replace(' ', 'T')\n",
    "    return datetime_now\n",
    "#ConnectionError\n",
    "check_for_updates()\n",
    "#sleep(60)"
   ],
   "outputs": [
    {
     "name": "stdout",
     "output_type": "stream",
     "text": [
      "0\n",
      "0\n",
      "0\n",
      "0\n"
     ]
    },
    {
     "data": {
      "text/plain": [
       "'2024-06-14T22:25:12.019619'"
      ]
     },
     "execution_count": 32,
     "metadata": {},
     "output_type": "execute_result"
    }
   ],
   "execution_count": 32
  },
  {
   "metadata": {},
   "cell_type": "code",
   "outputs": [],
   "execution_count": null,
   "source": [
    "#Function downloads all data from specified group(s) to the local directory group by group (up down approach).\n",
    "#*Note to Self: .lookup takes in the labels as input, .get takes in the ID as input.\n",
    "def download_all_flywheel_data():\n",
    "    if platform.system() != 'Windows':\n",
    "        group_list = []\n",
    "        project_list = []\n",
    "        #For each group in the flywheel instance, check if the user would like to download all the data from the group, if yes, add the group to the group list.\n",
    "        for group in fw.groups():\n",
    "            user_group = input(f'Would you like to download all the data from the group {group.label}? (yes/no): ')\n",
    "            if user_group == 'yes':\n",
    "                group_list.append(group)\n",
    "            elif user_group == 'no':\n",
    "                continue\n",
    "        for group in group_list:\n",
    "            new_group_label = group.label\n",
    "            for character in group.label: \n",
    "                if character in reserved_characters: \n",
    "                    new_group_label = new_group_label.replace(character, '_') \n",
    "            #Default value of exist_ok is False and will raise an OSError if the directory exists when using os.makedirs. If using Path.mkdir, the default value of exist_ok is False and will raise a FileExistsError if the directory exists. Path.mkdir takes in path, os.makedirs takes in strings.\n",
    "            #Create a directory for the group in the local directory.\n",
    "            try:\n",
    "                os.makedirs(root_data + '/' + new_group_label)\n",
    "            except OSError:\n",
    "                pass\n",
    "            #For each project in the group, check if the user would like to download all the data from the project, if yes, add the project to the project list.\n",
    "            for project in group.projects():\n",
    "                user_project = input(f'Would you like to download all the data from the project {project.label}? (yes/no): ')\n",
    "                if user_project == 'yes':\n",
    "                    project_list.append(project)\n",
    "                elif user_project == 'no':\n",
    "                    continue\n",
    "            #Create a directory for the project in the local directory.\n",
    "            for project in project_list:\n",
    "                new_project_label = project.label\n",
    "                for character in project.label: \n",
    "                    if character in reserved_characters: \n",
    "                        new_project_label = new_project_label.replace(character, '_')\n",
    "                try:\n",
    "                    os.makedirs(root_data + '/' + new_group_label + '/' + new_project_label)\n",
    "                except OSError:\n",
    "                    pass\n",
    "                #Create a directory for the subject in the local directory.\n",
    "                for subject in project.subjects():\n",
    "                    new_subject_label = subject.label\n",
    "                    for character in subject.label: \n",
    "                        if character in reserved_characters: \n",
    "                            new_subject_label = new_subject_label.replace(character, '_')\n",
    "                    try:\n",
    "                        os.makedirs(root_data + '/' + new_group_label + '/' + new_project_label + '/' + new_subject_label)\n",
    "                    except OSError:\n",
    "                        pass\n",
    "                    #Create a directory for the session in the local directory.\n",
    "                    for session in subject.sessions():\n",
    "                        new_session_label = session.label\n",
    "                        for character in session.label: \n",
    "                            if character in reserved_characters: \n",
    "                                new_session_label = new_session_label.replace(character, '_')\n",
    "                        try:\n",
    "                            os.makedirs(root_data + '/' + new_group_label + '/' + new_project_label + '/' + new_subject_label + '/' + new_session_label)\n",
    "                        except OSError:\n",
    "                            pass\n",
    "                        for acquisition in session.acquisitions():\n",
    "                            new_acquisition_label = acquisition.label\n",
    "                            for character in acquisition.label:\n",
    "                                if character in reserved_characters:\n",
    "                                    new_acquisition_label = new_acquisition_label.replace(character, '_')\n",
    "                            try:\n",
    "                                os.makedirs(root_data + '/' + new_group_label + '/' + new_project_label + '/' + new_subject_label + '/' + new_session_label + '/' + new_acquisition_label)\n",
    "                            except OSError:\n",
    "                                pass\n",
    "                            #For each file in the acquisition, check if the file exists in the local directory, if it doesn't, download it.\n",
    "                            for file in acquisition.files:\n",
    "                                new_file_name = file.name\n",
    "                                acquisition = fw.get_acquisition(acquisition.id)\n",
    "                                for character in file.name:\n",
    "                                    if character in reserved_characters:\n",
    "                                        new_file_name = new_file_name.replace(character, '_')\n",
    "                                        \n",
    "                                path = root_data + '/' + new_group_label + '/' + new_project_label + '/' + new_subject_label + '/' + new_session_label + '/' + new_acquisition_label\n",
    "                                \n",
    "                                if file not in os.walk(path):  \n",
    "                                    #Download the file from the acquisition using the original file name but naming the path with the new file name.\n",
    "                                    acquisition.download_file(file.name, path + '/' + new_file_name)\n",
    "                                    #AcquisitionsApi.download_file_from_acquisition(acquisition_id = acquisition.id, file_name = file.name, dest_file = f'{path}/{file.name}')\n",
    "                                        #file.download(f'{path}/{file.name}') \n",
    "                                else:\n",
    "                                    #Create a duplicate file with a different name.\n",
    "                                    print(f'There is a file with the name {file.name} already in the local directory. No action.')\n",
    "    else:\n",
    "        download_all_flywheel_data_windows()\n",
    "    \n",
    "#download_all_flywheel_data()\n"
   ]
  },
  {
   "metadata": {
    "ExecuteTime": {
     "end_time": "2024-06-15T04:28:47.581926Z",
     "start_time": "2024-06-15T02:25:56.350269Z"
    }
   },
   "cell_type": "code",
   "source": [
    "def download_all_flywheel_data_windows():\n",
    "    if platform.system() == 'Windows':\n",
    "        group_list = []\n",
    "        project_list = []\n",
    "        #For each group in the flywheel instance, check if the user would like to download all the data from the group, if yes, add the group to the group list.\n",
    "        for group in fw.groups():\n",
    "            user_group = input(f'Would you like to download all the data from the group {group.label}? (yes/no): ')\n",
    "            if user_group == 'yes':\n",
    "                group_list.append(group)\n",
    "            elif user_group == 'no':\n",
    "                continue\n",
    "        for group in group_list:\n",
    "            new_group_label = group.label\n",
    "            for character in group.label: \n",
    "                if character in reserved_characters: \n",
    "                    new_group_label = new_group_label.replace(character, '_') \n",
    "            #Default value of exist_ok is False and will raise an OSError if the directory exists when using os.makedirs. If using Path.mkdir, the default value of exist_ok is False and will raise a FileExistsError if the directory exists. Path.mkdir takes in path, os.makedirs takes in strings.\n",
    "            #Create a directory for the group in the local directory.\n",
    "            try:\n",
    "                os.makedirs(root_data + '\\\\' + new_group_label)\n",
    "            except OSError:\n",
    "                pass\n",
    "            #For each project in the group, check if the user would like to download all the data from the project, if yes, add the project to the project list.\n",
    "            for project in group.projects():\n",
    "                user_project = input(f'Would you like to download all the data from the project {project.label}? (yes/no): ')\n",
    "                if user_project == 'yes':\n",
    "                    project_list.append(project)\n",
    "                elif user_project == 'no':\n",
    "                    continue\n",
    "            #Create a directory for the project in the local directory.\n",
    "            for project in project_list:\n",
    "                new_project_label = project.label\n",
    "                for character in project.label: \n",
    "                    if character in reserved_characters: \n",
    "                        new_project_label = new_project_label.replace(character, '_')\n",
    "                try:\n",
    "                    os.makedirs(root_data + '\\\\' + new_group_label + '\\\\' + new_project_label)\n",
    "                except OSError:\n",
    "                    pass\n",
    "                #Create a directory for the subject in the local directory.\n",
    "                for subject in project.subjects():\n",
    "                    new_subject_label = subject.label\n",
    "                    for character in subject.label: \n",
    "                        if character in reserved_characters: \n",
    "                            new_subject_label = new_subject_label.replace(character, '_')\n",
    "                    try:\n",
    "                        os.makedirs(root_data + '\\\\' + new_group_label + '\\\\' + new_project_label + '\\\\' + new_subject_label)\n",
    "                    except OSError:\n",
    "                        pass\n",
    "                    #Create a directory for the session in the local directory.\n",
    "                    for session in subject.sessions():        \n",
    "                        new_session_label = session.label\n",
    "                        for character in session.label: \n",
    "                            if character in reserved_characters: \n",
    "                                new_session_label = new_session_label.replace(character, '_')\n",
    "                        try:\n",
    "                            os.makedirs(root_data + '\\\\' + new_group_label + '\\\\' + new_project_label + '\\\\' + new_subject_label + '\\\\' + new_session_label)\n",
    "                        except OSError:\n",
    "                            pass\n",
    "                        for acquisition in session.acquisitions():\n",
    "                            new_acquisition_label = acquisition.label\n",
    "                            for character in acquisition.label:\n",
    "                                if character in reserved_characters:\n",
    "                                    new_acquisition_label = new_acquisition_label.replace(character, '_')\n",
    "                            try:\n",
    "                                os.makedirs(root_data + '\\\\' + new_group_label + '\\\\' + new_project_label + '\\\\' + new_subject_label + '\\\\' + new_session_label + '\\\\' + new_acquisition_label)\n",
    "                            except OSError:\n",
    "                                pass\n",
    "                            #For each file in the acquisition, check if the file exists in the local directory, if it doesn't, download it.\n",
    "                            for file in acquisition.files:\n",
    "                                new_file_name = file.name\n",
    "                                acquisition = fw.get_acquisition(acquisition.id)\n",
    "                                for character in file.name:\n",
    "                                    if character in reserved_characters:\n",
    "                                        new_file_name = new_file_name.replace(character, '_')\n",
    "                                path = root_data + '\\\\' + new_group_label + '\\\\' + new_project_label + '\\\\' + new_subject_label + '\\\\' + new_session_label + '\\\\' + new_acquisition_label\n",
    "                                if file not in os.walk(path):\n",
    "                                    #Download the file from the acquisition using the original file name but naming the path with the new file name.\n",
    "                                    acquisition.download_file(file.name, path + '\\\\' + new_file_name)\n",
    "                                else:\n",
    "                                    #Create a duplicate file with a different name.\n",
    "                                    print(f'There is a file with the name {file.name} already in the local directory. No action.')\n",
    "    else:\n",
    "        download_all_flywheel_data()\n",
    "#download_all_flywheel_data_windows()"
   ],
   "outputs": [],
   "execution_count": 33
  },
  {
   "metadata": {
    "ExecuteTime": {
     "end_time": "2024-06-17T15:43:31.979188Z",
     "start_time": "2024-06-17T15:43:31.947700Z"
    }
   },
   "cell_type": "code",
   "source": [
    "def prepare_bids_windows():\n",
    "    #anat -> sub, ses, task, acq, ce, rec, run, ... chunk, suffix (suffix, MEGRE, MESE, VFA, defacemask, IRT1, MP2RAGE, MPM, MTS) \n",
    "    #One anat path echo -> path, optional: flip -> inv or flip -> mt\n",
    "    if platform.system() == 'Windows':\n",
    "        project_list = []\n",
    "        #For each group in the flywheel instance, check if the user would like to download all the data from the group, if yes, add the group to the group list.\n",
    "            #For each project in the group, check if the user would like to download all the data from the project, if yes, add the project to the project list.\n",
    "        group_id = input('Please type in the ID of the group you would like to download data from: ')\n",
    "        group = fw.get_group(f'{group_id}')\n",
    "        for project in group.projects():\n",
    "            user_project = input(f'Would you like to download all the data from the project {project.label}? (yes/no): ')\n",
    "            if user_project == 'yes':\n",
    "                project_list.append(project)\n",
    "            elif user_project == 'no':\n",
    "                continue\n",
    "            #Create a directory for the project in the local directory.\n",
    "        for project in project_list:\n",
    "            new_project_label = project.label\n",
    "            for character in project.label: \n",
    "                if character in reserved_characters: \n",
    "                    new_project_label = new_project_label.replace(character, '_')\n",
    "            try:\n",
    "                os.makedirs(root_data + '\\\\' + new_project_label)\n",
    "            except OSError:\n",
    "                pass\n",
    "            #Create a directory for the subject in the local directory.\n",
    "            #print(type(project.subjects()))\n",
    "            for subject in project.subjects():\n",
    "                project_subject_list = project.subjects()\n",
    "                print(project.subject.index(subject))\n",
    "                new_subject_label = f'sub-{project_subject_list.index(subject) + 1: 02d}'\n",
    "                try:\n",
    "                    os.makedirs(root_data + '\\\\' + new_project_label + '\\\\' + new_subject_label)\n",
    "                except OSError:\n",
    "                    pass\n",
    "                #Create a directory for the session in the local directory.\n",
    "                for session in subject.sessions():\n",
    "                    new_session_label = session.label\n",
    "                    for character in session.label: \n",
    "                        if character in reserved_characters: \n",
    "                            new_session_label = new_session_label.replace(character, '_')\n",
    "                    try:\n",
    "                        os.makedirs(root_data + '\\\\' + new_group_label + '\\\\' + new_project_label + '\\\\' + new_subject_label + '\\\\' + new_session_label)\n",
    "                    except OSError:\n",
    "                        pass\n",
    "                    for acquisition in session.acquisitions():\n",
    "                        new_acquisition_label = acquisition.label\n",
    "                        for character in acquisition.label:\n",
    "                            if character in reserved_characters:\n",
    "                                new_acquisition_label = new_acquisition_label.replace(character, '_')\n",
    "                        try:\n",
    "                            os.makedirs(root_data + '/' + new_group_label + '/' + new_project_label + '/' + new_subject_label + '/' + new_session_label + '/' + new_acquisition_label)\n",
    "                        except OSError:\n",
    "                            pass\n",
    "                        #For each file in the acquisition, check if the file exists in the local directory, if it doesn't, download it.\n",
    "                        for file in acquisition.files:\n",
    "                            new_file_name = file.name\n",
    "                            acquisition = fw.get_acquisition(acquisition.id)\n",
    "                            for character in file.name:\n",
    "                                if character in reserved_characters:\n",
    "                                    new_file_name = new_file_name.replace(character, '_')\n",
    "                                        \n",
    "                            path = root_data + '/' + new_group_label + '/' + new_project_label + '/' + new_subject_label + '/' + new_session_label + '/' + new_acquisition_label\n",
    "                                \n",
    "                            if file not in os.walk(path):  \n",
    "                                #Download the file from the acquisition using the original file name but naming the path with the new file name.\n",
    "                                acquisition.download_file(file.name, path + '/' + new_file_name)\n",
    "                                #AcquisitionsApi.download_file_from_acquisition(acquisition_id = acquisition.id, file_name = file.name, dest_file = f'{path}/{file.name}')\n",
    "                                    #file.download(f'{path}/{file.name}') \n",
    "                            else:\n",
    "                                #Create a duplicate file with a different name.\n",
    "                                print(f'There is a file with the name {file.name} already in the local directory. No action.')\n",
    "    else:\n",
    "        pass\n",
    "    \n",
    "#prepare_bids_windows()\n",
    "    \n"
   ],
   "outputs": [],
   "execution_count": 14
  },
  {
   "metadata": {
    "ExecuteTime": {
     "end_time": "2024-06-16T01:52:43.945181Z",
     "start_time": "2024-06-16T01:52:38.930780Z"
    }
   },
   "cell_type": "code",
   "source": [
    "project_list = []\n",
    "        #For each group in the flywheel instance, check if the user would like to download all the data from the group, if yes, add the group to the group list.\n",
    "            #For each project in the group, check if the user would like to download all the data from the project, if yes, add the project to the project list.\n",
    "group_id = input('Please type in the ID of the group you would like to download data from: ')\n",
    "group = fw.get_group(f'{group_id}')\n",
    "for project in group.projects():\n",
    "    user_project = input(f'Would you like to download all the data from the project {project.label}? (yes/no): ')\n",
    "    if user_project == 'yes':\n",
    "        project_list.append(project)\n",
    "    elif user_project == 'no':\n",
    "        continue\n",
    "#Create a directory for the project in the local directory.\n",
    "for project in project_list:\n",
    "    new_project_label = project.label\n",
    "    for character in project.label: \n",
    "        if character in reserved_characters: \n",
    "            new_project_label = new_project_label.replace(character, '_')\n",
    "        try:\n",
    "            os.makedirs(root_data + '\\\\' + new_project_label)\n",
    "        except OSError:\n",
    "            pass\n",
    "#Create a directory for the subject in the local directory.\n",
    "#print(type(project.subjects()))\n",
    "        for subject in project.subjects():\n",
    "            project_subject_list = project.subjects()\n",
    "            print(project.subject.index(subject))\n",
    "            new_subject_label = f'sub-{project_subject_list.index(subject) + 1: 02d}'\n",
    "            try:\n",
    "                os.makedirs(root_data + '\\\\' + new_project_label + '\\\\' + new_subject_label)\n",
    "            except OSError:\n",
    "                pass"
   ],
   "outputs": [
    {
     "ename": "AttributeError",
     "evalue": "type object 'object' has no attribute 'subject'",
     "output_type": "error",
     "traceback": [
      "\u001B[1;31m---------------------------------------------------------------------------\u001B[0m",
      "\u001B[1;31mAttributeError\u001B[0m                            Traceback (most recent call last)",
      "Cell \u001B[1;32mIn[18], line 26\u001B[0m\n\u001B[0;32m     24\u001B[0m \u001B[38;5;28;01mfor\u001B[39;00m subject \u001B[38;5;129;01min\u001B[39;00m project\u001B[38;5;241m.\u001B[39msubjects():\n\u001B[0;32m     25\u001B[0m     project_subject_list \u001B[38;5;241m=\u001B[39m project\u001B[38;5;241m.\u001B[39msubjects()\n\u001B[1;32m---> 26\u001B[0m     \u001B[38;5;28mprint\u001B[39m(\u001B[43mproject\u001B[49m\u001B[38;5;241;43m.\u001B[39;49m\u001B[43msubject\u001B[49m\u001B[38;5;241m.\u001B[39mindex(subject))\n\u001B[0;32m     27\u001B[0m     new_subject_label \u001B[38;5;241m=\u001B[39m \u001B[38;5;124mf\u001B[39m\u001B[38;5;124m'\u001B[39m\u001B[38;5;124msub-\u001B[39m\u001B[38;5;132;01m{\u001B[39;00mproject_subject_list\u001B[38;5;241m.\u001B[39mindex(subject)\u001B[38;5;250m \u001B[39m\u001B[38;5;241m+\u001B[39m\u001B[38;5;250m \u001B[39m\u001B[38;5;241m1\u001B[39m\u001B[38;5;132;01m:\u001B[39;00m\u001B[38;5;124m 02d\u001B[39m\u001B[38;5;132;01m}\u001B[39;00m\u001B[38;5;124m'\u001B[39m\n\u001B[0;32m     28\u001B[0m     \u001B[38;5;28;01mtry\u001B[39;00m:\n",
      "File \u001B[1;32m~\\miniconda3\\envs\\fus\\lib\\site-packages\\flywheel\\models\\mixins.py:128\u001B[0m, in \u001B[0;36mContainerBase.__getattr__\u001B[1;34m(self, name)\u001B[0m\n\u001B[0;32m    125\u001B[0m         \u001B[38;5;28msetattr\u001B[39m(\u001B[38;5;28mself\u001B[39m, prop_name, result)\n\u001B[0;32m    126\u001B[0m     \u001B[38;5;28;01mreturn\u001B[39;00m result\n\u001B[1;32m--> 128\u001B[0m \u001B[38;5;28;01mreturn\u001B[39;00m \u001B[38;5;28;43mgetattr\u001B[39;49m\u001B[43m(\u001B[49m\u001B[38;5;28;43mobject\u001B[39;49m\u001B[43m,\u001B[49m\u001B[43m \u001B[49m\u001B[43mname\u001B[49m\u001B[43m)\u001B[49m\n",
      "\u001B[1;31mAttributeError\u001B[0m: type object 'object' has no attribute 'subject'"
     ]
    }
   ],
   "execution_count": 18
  },
  {
   "cell_type": "code",
   "source": [
    "## The data will then be ready to be pre-processed"
   ],
   "metadata": {
    "collapsed": false
   },
   "outputs": [],
   "execution_count": null
  }
 ],
 "metadata": {
  "kernelspec": {
   "display_name": "Python 3",
   "language": "python",
   "name": "python3"
  },
  "language_info": {
   "codemirror_mode": {
    "name": "ipython",
    "version": 2
   },
   "file_extension": ".py",
   "mimetype": "text/x-python",
   "name": "python",
   "nbconvert_exporter": "python",
   "pygments_lexer": "ipython2",
   "version": "2.7.6"
  }
 },
 "nbformat": 4,
 "nbformat_minor": 0
}
