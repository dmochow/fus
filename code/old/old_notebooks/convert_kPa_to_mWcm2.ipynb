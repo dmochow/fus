{
 "cells": [
  {
   "cell_type": "code",
   "execution_count": 2,
   "metadata": {
    "collapsed": true
   },
   "outputs": [
    {
     "name": "stdout",
     "output_type": "stream",
     "text": [
      "I_sppa = 21600.00 W/m^2\n",
      "I_sppa = 21600000.00 mW/m^2\n",
      "I_sppa = 2160.00 mW/cm^2\n",
      "I_spta = 540.00 mW/cm^2\n"
     ]
    }
   ],
   "source": [
    "# define the density of water in kg / m3\n",
    "rho = 1000\n",
    "\n",
    "# define the speed of sound in water in m/s\n",
    "c = 1500\n",
    "\n",
    "# define the frequency of the source in Hz\n",
    "fo = 500e3\n",
    "\n",
    "# define the pressure in Pa\n",
    "p = 180000\n",
    "#p = 1.1e6\n",
    "\n",
    "# define the duty cycle\n",
    "dc = 0.25\n",
    "\n",
    "# compute the acoustic intensity in W/m^2\n",
    "#I_Wm2 = (p**2) / (2*rho*c)\n",
    "I_Wm2 = (p**2) / (rho*c)\n",
    "\n",
    "I_mWm2 = I_Wm2 * 1e3\n",
    "\n",
    "I_mWcm2 = I_mWm2 / 1e4\n",
    "\n",
    "I_mWcm2_spta = I_mWcm2 * dc\n",
    "\n",
    "print(f\"I_sppa = {I_Wm2:.2f} W/m^2\")\n",
    "print(f\"I_sppa = {I_mWm2:.2f} mW/m^2\")\n",
    "print(f\"I_sppa = {I_mWcm2:.2f} mW/cm^2\")\n",
    "print(f\"I_spta = {I_mWcm2_spta:.2f} mW/cm^2\")"
   ]
  },
  {
   "cell_type": "code",
   "execution_count": null,
   "outputs": [],
   "source": [],
   "metadata": {
    "collapsed": false
   }
  }
 ],
 "metadata": {
  "kernelspec": {
   "display_name": "Python 3",
   "language": "python",
   "name": "python3"
  },
  "language_info": {
   "codemirror_mode": {
    "name": "ipython",
    "version": 2
   },
   "file_extension": ".py",
   "mimetype": "text/x-python",
   "name": "python",
   "nbconvert_exporter": "python",
   "pygments_lexer": "ipython2",
   "version": "2.7.6"
  }
 },
 "nbformat": 4,
 "nbformat_minor": 0
}
