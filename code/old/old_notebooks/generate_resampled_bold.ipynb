{
 "cells": [
  {
   "cell_type": "markdown",
   "source": [
    "## Emily: please run this notebook for all sessions and subjects\n",
    "- This notebook resamples the functional and mask images to the atlas space\n",
    "- The atlas (from templateflow) is the Schaefer 2018 1000 parcels 17 networks atlas, but we will want to make this a parameter in the future"
   ],
   "metadata": {
    "collapsed": false
   }
  },
  {
   "cell_type": "code",
   "execution_count": 1,
   "outputs": [],
   "source": [
    "from nilearn.image import resample_img\n",
    "import nibabel as nib\n",
    "from templateflow import api\n",
    "import numpy as np\n",
    "import os\n",
    "import glob"
   ],
   "metadata": {
    "collapsed": false
   }
  },
  {
   "cell_type": "code",
   "execution_count": 2,
   "outputs": [],
   "source": [
    "## Specify subject and session here\n",
    "subject_str = \"MATHAI\"\n",
    "session_str = \"SHAM\""
   ],
   "metadata": {
    "collapsed": false
   }
  },
  {
   "cell_type": "code",
   "execution_count": 3,
   "outputs": [],
   "source": [
    "## Specify the paths here -- you will need to change this to your own paths\n",
    "path_to_func = f\"/Users/jacekdmochowski/PROJECTS/fus/data/fmriprep_out/sub-{subject_str}/ses-{session_str}/func\"\n",
    "path_to_anat = f\"/Users/jacekdmochowski/PROJECTS/fus/data/fmriprep_out/sub-{subject_str}/ses-{session_str}/anat\"\n",
    "\n",
    "## Find the filenames of the anatomical, functional, and mask images\n",
    "matching_anats = glob.glob(os.path.join(path_to_anat, '*space-MNI152NLin2009cAsym_desc-preproc_T1w.nii.gz'))\n",
    "matching_funcs = glob.glob(os.path.join(path_to_func, '*space-MNI152NLin2009cAsym_desc-preproc_bold.nii.gz'))\n",
    "matching_masks = glob.glob(os.path.join(path_to_func, '*space-MNI152NLin2009cAsym_desc-brain_mask.nii.gz'))\n",
    "\n",
    "if len(matching_anats) == 1:\n",
    "    anat_filename = matching_anats[0]\n",
    "else:\n",
    "    raise ValueError(\"No valid anatomical\")\n",
    "\n",
    "if len(matching_funcs) == 1:\n",
    "    bold_filename = matching_funcs[0]\n",
    "else:\n",
    "    raise ValueError(\"No valid functional\")\n",
    "\n",
    "if len(matching_masks) == 1:\n",
    "    mask_filename = matching_masks[0]\n",
    "else:\n",
    "    raise ValueError(\"No valid mask\")\n",
    "\n",
    "## Load the anatomical, bold and mask data\n",
    "anat = nib.load(os.path.join(path_to_anat, anat_filename))\n",
    "bold = nib.load(os.path.join(path_to_func, bold_filename))\n",
    "mask = nib.load(os.path.join(path_to_func, mask_filename))\n",
    "\n",
    "# load or generate resampled_bold and resampled_mask to disk\n",
    "path_to_save_resampled_bold = os.path.join(path_to_func,\n",
    "                                        f\"sub-{subject_str}_ses-{session_str}_task-prefuspost_space-Schaefer2018_desc-preproc_bold_resampled.nii.gz\")\n",
    "\n",
    "path_to_save_resampled_mask = os.path.join(path_to_func,\n",
    "                                        f\"sub-{subject_str}_ses-{session_str}_task-prefuspost_space-Schaefer2018_desc-brain_mask_resampled.nii.gz\")\n",
    "\n",
    "## get atlas -- TODO: make the atlas a parameter\n",
    "path = api.get('MNI152NLin2009cAsym', atlas=\"DiFuMo\", desc=\"1024dimensions\", resolution=2, suffix=\"probseg\",\n",
    "               extension=\"nii.gz\")\n",
    "\n",
    "#path = api.get('MNI152NLin2009cAsym', atlas=\"Schaefer2018\", desc=\"1000Parcels17Networks\", resolution=2, suffix=\"dseg\",\n",
    "#               extension=\"nii.gz\")\n",
    "\n",
    "atlas = nib.load(path)\n",
    "target_affine = atlas.affine\n",
    "target_shape = np.array(atlas.dataobj).shape\n",
    "\n",
    "# get the atlas labels\n",
    "atlas_labels = np.unique(np.array(atlas.dataobj))"
   ],
   "metadata": {
    "collapsed": false
   }
  },
  {
   "cell_type": "code",
   "execution_count": 4,
   "outputs": [],
   "source": [
    "## resample the bold and mask to the atlas\n",
    "if os.path.exists(path_to_save_resampled_bold):\n",
    "    resampled_bold = nib.load(path_to_save_resampled_bold)\n",
    "else:\n",
    "    resampled_bold = resample_img(bold, target_affine=target_affine, target_shape=target_shape[0:3])\n",
    "    nib.save(resampled_bold, path_to_save_resampled_bold)\n",
    "\n",
    "if os.path.exists(path_to_save_resampled_mask):\n",
    "    resampled_mask = nib.load(path_to_save_resampled_mask)\n",
    "else:\n",
    "    resampled_mask = resample_img(mask, target_affine=target_affine, target_shape=target_shape[0:3],\n",
    "                                  interpolation='nearest')\n",
    "    nib.save(resampled_mask, path_to_save_resampled_mask)"
   ],
   "metadata": {
    "collapsed": false
   }
  }
 ],
 "metadata": {
  "kernelspec": {
   "display_name": "Python 3",
   "language": "python",
   "name": "python3"
  },
  "language_info": {
   "codemirror_mode": {
    "name": "ipython",
    "version": 2
   },
   "file_extension": ".py",
   "mimetype": "text/x-python",
   "name": "python",
   "nbconvert_exporter": "python",
   "pygments_lexer": "ipython2",
   "version": "2.7.6"
  }
 },
 "nbformat": 4,
 "nbformat_minor": 0
}
