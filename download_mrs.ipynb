{
 "cells": [
  {
   "cell_type": "code",
   "id": "initial_id",
   "metadata": {
    "collapsed": true,
    "jupyter": {
     "outputs_hidden": true
    },
    "ExecuteTime": {
     "end_time": "2024-09-27T13:39:45.925361Z",
     "start_time": "2024-09-27T13:39:45.891957Z"
    }
   },
   "source": [
    "import os\n",
    "import glob\n",
    "import flywheel\n",
    "import logging\n",
    "import zipfile\n",
    "import platform"
   ],
   "outputs": [],
   "execution_count": 1
  },
  {
   "cell_type": "code",
   "id": "37f0d38d345c5925",
   "metadata": {
    "ExecuteTime": {
     "end_time": "2024-09-27T13:40:57.399213Z",
     "start_time": "2024-09-27T13:40:57.385703Z"
    }
   },
   "source": [
    "#Initialize the logger\n",
    "logging.basicConfig(filename='download_mrs.log', level=logging.INFO)\n",
    "logger = logging.getLogger()"
   ],
   "outputs": [],
   "execution_count": 2
  },
  {
   "cell_type": "code",
   "id": "3793bcda1ba83ca6",
   "metadata": {
    "ExecuteTime": {
     "end_time": "2024-09-27T13:40:58.215912Z",
     "start_time": "2024-09-27T13:40:58.061871Z"
    }
   },
   "source": [
    "# Get API Key from local environment variables and initialize the Flywheel client\n",
    "#api_key = os.environ.get('API_KEY')\n",
    "fw = flywheel.Client(\"cuny-mri.flywheel.io:djEhbcLgXzMrzELz7XHKFCXfZVSsl9cYDDRFs9Hhue6mjBowm8o_0J06Q\")"
   ],
   "outputs": [],
   "execution_count": 3
  },
  {
   "cell_type": "code",
   "id": "e817b01edb42f728",
   "metadata": {
    "ExecuteTime": {
     "end_time": "2024-09-27T13:40:58.822412Z",
     "start_time": "2024-09-27T13:40:58.549045Z"
    }
   },
   "source": [
    "# Path where the MRS data will be downloaded\n",
    "root_path = '/Users/jacekdmochowski/PROJECTS/fus/data/mrs_flywheel/'\n",
    "\n",
    "# Get the Flywheel Project\n",
    "project = fw.lookup('jacek/FusRelabeledCopy')"
   ],
   "outputs": [],
   "execution_count": 4
  },
  {
   "cell_type": "code",
   "execution_count": 5,
   "outputs": [
    {
     "name": "stdout",
     "output_type": "stream",
     "text": [
      "l\n"
     ]
    }
   ],
   "source": [
    "if platform.system == 'Windows':\n",
    "    print('w')\n",
    "    #root_path = 'C:\\\\Users\\\\jdm82\\\\Desktop\\\\fus\\\\data\\\\mrs_flywheel'\n",
    "else:\n",
    "    print('l')\n",
    "    #root_path = '/Users/jacekdmochowski/PROJECTS/fus/data/mrs_flywheel'"
   ],
   "metadata": {
    "collapsed": false
   }
  },
  {
   "cell_type": "code",
   "id": "1ed36caf0ad20354",
   "metadata": {
    "ExecuteTime": {
     "end_time": "2024-09-27T13:48:38.555022Z",
     "start_time": "2024-09-27T13:48:38.540014Z"
    }
   },
   "source": [
    "def download_all_mrs(root_data):\n",
    "    #Get the group label\n",
    "    group_label = project.group\n",
    "    print(group_label)\n",
    "    \n",
    "    #Iterate through all the files in the 'ACTIVE' and 'SHAM' sessions in the project\n",
    "    for subject in project.subjects():\n",
    "        \n",
    "        for session in subject.sessions():\n",
    "            \n",
    "            # Input the session labels with MRS data.\n",
    "            \n",
    "            if session.label == 'ACTIVE' or session.label == 'SHAM': \n",
    "                \n",
    "                for acquisition in session.acquisitions():\n",
    "                    \n",
    "                    acq_label = acquisition.label\n",
    "                    \n",
    "                    #Check if the acquisition label starts with 'mrs'\n",
    "                    \n",
    "                    if acq_label.startswith('mrs'):\n",
    "                        \n",
    "                        #Create the directory using the Flywheel hierarchy\n",
    "                        if platform.system == 'Windows':\n",
    "                            path = f'{root_path}\\\\{group_label}\\\\{project.label}\\\\{subject.label}\\\\{session.label}\\\\{acq_label}'\n",
    "                        else:\n",
    "                            path = f'{root_path}/{group_label}/{project.label}/{subject.label}/{session.label}/{acq_label}'\n",
    "\n",
    "                        #path = f'{root_path}\\\\{group_label}\\\\{project.label}\\\\{subject.label}\\\\{session.label}\\\\{acq_label}'\n",
    "                        os.makedirs(path, exist_ok=True)\n",
    "                        \n",
    "                        for file in acquisition.files:\n",
    "                            \n",
    "                            #Find the dicom file in the mrs acquisition\n",
    "                            if file.type == 'dicom':\n",
    "\n",
    "                                if platform.system == 'Windows':\n",
    "                                    file_path = f'{path}\\\\{file.name}'\n",
    "                                else:\n",
    "                                    file_path = f'{path}/{file.name}'\n",
    "                                        \n",
    "                                file_name = f'sub-{subject.label}_ses-{session.label}_acq-{acq_label}'\n",
    "\n",
    "                                if platform.system == 'Windows':\n",
    "                                    full_file_name = f'{path}\\\\{file_name}'\n",
    "                                else:\n",
    "                                    full_file_name = f'{path}/{file_name}'\n",
    "\n",
    "                                if not os.path.exists(full_file_name):\n",
    "                                    \n",
    "                                    try:\n",
    "                                        #Download the file from the acquisition.\n",
    "                                        \n",
    "                                        acquisition.download_file(file.name, file_path)\n",
    "                                        \n",
    "                                        # Open the zip file\n",
    "                                        with zipfile.ZipFile(file_path, 'r') as zip_ref:\n",
    "                                            #Extract the contents of the zip file to the path\n",
    "                                            zip_ref.extractall(path)\n",
    "                                            \n",
    "                                        #Delete compressed zip file\n",
    "                                        os.remove(file_path)\n",
    "                                        \n",
    "                                        #Rename the unzipped folder to the new file name\n",
    "                                        if platform.system == 'Windows':\n",
    "                                            unzipped_folder = glob.glob(f'{path}\\\\*')[0]\n",
    "                                            os.rename(unzipped_folder, f'{path}\\\\{file_name}')\n",
    "                                        else:\n",
    "                                            unzipped_folder = glob.glob(f'{path}/*')[0]\n",
    "                                            os.rename(unzipped_folder, f'{path}/{file_name}')\n",
    "\n",
    "                                        logger.info(f'Downloaded {file.name} from {acq_label} in {session.label} for {subject.label}')\n",
    "                                        \n",
    "                                        print(f'Downloaded {file.name} from {acq_label} in {session.label} for {subject.label}')\n",
    "                                        \n",
    "                                    except Exception as e:\n",
    "                                        logger.error(f'Error downloading {file.name} from {acq_label} in {session.label} for {subject.label}. {e}')\n",
    "                                break\n"
   ],
   "outputs": [],
   "execution_count": 6
  },
  {
   "cell_type": "code",
   "id": "90f2fbb61eef505f",
   "metadata": {
    "ExecuteTime": {
     "end_time": "2024-09-27T13:50:49.754089Z",
     "start_time": "2024-09-27T13:49:44.286398Z"
    },
    "pycharm": {
     "is_executing": true
    }
   },
   "source": [
    "download_all_mrs(root_path)"
   ],
   "outputs": [
    {
     "name": "stdout",
     "output_type": "stream",
     "text": [
      "jacek\n",
      "Downloaded 1.3.12.2.1107.5.2.43.166037.2024061716491952796094588.0.0.0.dicom.zip from mrs-svs_task-post in ACTIVE for MATHAI\n",
      "Downloaded 1.3.12.2.1107.5.2.43.166037.2024061716272511796997577.0.0.0.dicom.zip from mrs-svs_task-pre in ACTIVE for MATHAI\n",
      "Downloaded 1.3.12.2.1107.5.2.43.166037.2024070315524590556268552.0.0.0.dicom.zip from mrs-svs_task-post in SHAM for MATHAI\n",
      "Downloaded 1.3.12.2.1107.5.2.43.166037.2024070315322350952271541.0.0.0.dicom.zip from mrs-svs_task-pre in SHAM for MATHAI\n",
      "Downloaded 1.3.12.2.1107.5.2.43.166037.2024061717332148866820706.0.0.0.dicom.zip from mrs-svs_task-pre in SHAM for LIN\n",
      "Downloaded 1.3.12.2.1107.5.2.43.166037.2024061717540499185717717.0.0.0.dicom.zip from mrs-svs_task-post in SHAM for LIN\n",
      "Downloaded 1.3.12.2.1107.5.2.43.166037.2024070316195391242993941.0.0.0.dicom.zip from mrs-svs_task-pre in ACTIVE for LIN\n",
      "Downloaded 1.3.12.2.1107.5.2.43.166037.202407031640216879390958.0.0.0.dicom.zip from mrs-svs_task-post in ACTIVE for LIN\n",
      "Downloaded 1.3.12.2.1107.5.2.43.166037.2024072414215195049397328.0.0.0.dicom.zip from mrs-svs_task-pre in SHAM for ADLER\n",
      "Downloaded 1.3.12.2.1107.5.2.43.166037.2024072414422885161894341.0.0.0.dicom.zip from mrs-svs_task-post in SHAM for ADLER\n",
      "Downloaded 1.3.12.2.1107.5.2.43.166037.2024081215222657155866898.0.0.0.dicom.zip from mrs-svs_task-pre in ACTIVE for ADLER\n",
      "Downloaded 1.3.12.2.1107.5.2.43.166037.2024081215424816802463911.0.0.0.dicom.zip from mrs-svs_task-post in ACTIVE for ADLER\n",
      "Downloaded 1.3.12.2.1107.5.2.43.166037.2024072616345178054673247.0.0.0.dicom.zip from mrs-svs_task-post in ACTIVE for CABRERA\n",
      "Downloaded 1.3.12.2.1107.5.2.43.166037.2024072616124449593675976.0.0.0.dicom.zip from mrs-svs_task-pre in ACTIVE for CABRERA\n",
      "Downloaded 1.3.12.2.1107.5.2.43.166037.2024073015355837366086259.0.0.0.dicom.zip from mrs-svs_task-pre in SHAM for CABRERA\n",
      "Downloaded 1.3.12.2.1107.5.2.43.166037.2024073015561525725983270.0.0.0.dicom.zip from mrs-svs_task-post in SHAM for CABRERA\n",
      "Downloaded 1.3.12.2.1107.5.2.43.166037.2024072617273152217799547.0.0.0.dicom.zip from mrs-svs_task-post in ACTIVE for RUNGE\n",
      "Downloaded 1.3.12.2.1107.5.2.43.166037.20240726170816892402536.0.0.0.dicom.zip from mrs-svs_task-pre in ACTIVE for RUNGE\n",
      "Downloaded 1.3.12.2.1107.5.2.43.166037.2024072915372590517797634.0.0.0.dicom.zip from mrs-svs_task-pre in SHAM for RYAN\n",
      "Downloaded 1.3.12.2.1107.5.2.43.166037.2024072915573620615394905.0.0.0.dicom.zip from mrs-svs_task-post in SHAM for RYAN\n",
      "Downloaded 1.3.12.2.1107.5.2.43.166037.202408131459089844670717.0.0.0.dicom.zip from mrs-svs_task-pre in ACTIVE for RYAN\n",
      "Downloaded 1.3.12.2.1107.5.2.43.166037.202408131519293842267988.0.0.0.dicom.zip from mrs-svs_task-post in ACTIVE for RYAN\n",
      "Downloaded 1.3.12.2.1107.5.2.43.166037.20240716152758680621260.0.0.0.dicom.zip from mrs-svs_task-post in ACTIVE for PADILLA\n",
      "Downloaded 1.3.12.2.1107.5.2.43.166037.2024071615074525868624249.0.0.0.dicom.zip from mrs-svs_task-pre in ACTIVE for PADILLA\n",
      "Downloaded 1.3.12.2.1107.5.2.43.166037.2024072415204484596622980.0.0.0.dicom.zip from mrs-svs_task-pre in SHAM for PADILLA\n",
      "Downloaded 1.3.12.2.1107.5.2.43.166037.2024072415412239449120253.0.0.0.dicom.zip from mrs-svs_task-post in SHAM for PADILLA\n",
      "Downloaded 1.3.12.2.1107.5.2.43.166037.2024072916505756185349431.0.0.0.dicom.zip from mrs-svs_task-pre in SHAM for BOYER\n",
      "Downloaded 1.3.12.2.1107.5.2.43.166037.202407291711027285146702.0.0.0.dicom.zip from mrs-svs_task-post in SHAM for BOYER\n",
      "Downloaded 1.3.12.2.1107.5.2.43.166037.2024082912200081956767720.0.0.0.dicom.zip from mrs-svs_task-post in ACTIVE for BOYER\n",
      "Downloaded 1.3.12.2.1107.5.2.43.166037.2024082911592944592170449.0.0.0.dicom.zip from mrs-svs_task-pre in ACTIVE for BOYER\n",
      "Downloaded 1.3.12.2.1107.5.2.43.166037.2024073014364541300063727.0.0.0.dicom.zip from mrs-svs_task-pre in SHAM for JAYANTHI\n",
      "Downloaded 1.3.12.2.1107.5.2.43.166037.2024073014570083179560740.0.0.0.dicom.zip from mrs-svs_task-post in SHAM for JAYANTHI\n",
      "Downloaded 1.3.12.2.1107.5.2.43.166037.2024080617341384044356633.0.0.0.dicom.zip from mrs-svs_task-pre in ACTIVE for JAYANTHI\n",
      "Downloaded 1.3.12.2.1107.5.2.43.166037.2024080618003317864303841.0.0.0.dicom.zip from mrs-svs_task-post in ACTIVE for JAYANTHI\n",
      "Downloaded 1.3.12.2.1107.5.2.43.166037.2024073016315337552509829.0.0.0.dicom.zip from mrs-svs_task-pre in SHAM for AHMED\n",
      "Downloaded 1.3.12.2.1107.5.2.43.166037.2024073016512189339706840.0.0.0.dicom.zip from mrs-svs_task-post in SHAM for AHMED\n",
      "Downloaded 1.3.12.2.1107.5.2.43.166037.2024081216442823100617527.0.0.0.dicom.zip from mrs-svs_task-pre in ACTIVE for AHMED\n",
      "Downloaded 1.3.12.2.1107.5.2.43.166037.2024081217051713576214798.0.0.0.dicom.zip from mrs-svs_task-post in ACTIVE for AHMED\n"
     ]
    }
   ],
   "execution_count": null
  },
  {
   "cell_type": "code",
   "execution_count": null,
   "id": "74995ab8d0de3249",
   "metadata": {},
   "outputs": [],
   "source": []
  },
  {
   "cell_type": "code",
   "execution_count": null,
   "id": "7c0a7c8d65207bf6",
   "metadata": {},
   "outputs": [],
   "source": []
  }
 ],
 "metadata": {
  "kernelspec": {
   "display_name": "Python 3 (ipykernel)",
   "language": "python",
   "name": "python3"
  },
  "language_info": {
   "codemirror_mode": {
    "name": "ipython",
    "version": 3
   },
   "file_extension": ".py",
   "mimetype": "text/x-python",
   "name": "python",
   "nbconvert_exporter": "python",
   "pygments_lexer": "ipython3",
   "version": "3.8.19"
  }
 },
 "nbformat": 4,
 "nbformat_minor": 5
}
